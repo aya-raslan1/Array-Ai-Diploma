{
 "cells": [
  {
   "cell_type": "markdown",
   "id": "ca477cff",
   "metadata": {},
   "source": [
    "# Single Linear Regression"
   ]
  },
  {
   "cell_type": "code",
   "execution_count": 1,
   "id": "c50b1aa9",
   "metadata": {},
   "outputs": [],
   "source": [
    "# importing libraries"
   ]
  },
  {
   "cell_type": "code",
   "execution_count": 2,
   "id": "7e78c245",
   "metadata": {},
   "outputs": [],
   "source": [
    "# import dataset and rename coulmns with X, Y\n"
   ]
  },
  {
   "cell_type": "code",
   "execution_count": 3,
   "id": "91b5a186",
   "metadata": {},
   "outputs": [],
   "source": [
    "# draw data"
   ]
  },
  {
   "cell_type": "code",
   "execution_count": 4,
   "id": "3d65873b",
   "metadata": {},
   "outputs": [],
   "source": [
    "# spliting data"
   ]
  },
  {
   "cell_type": "code",
   "execution_count": 5,
   "id": "d4195275",
   "metadata": {},
   "outputs": [],
   "source": [
    "# Step1: Initialize parameters (theta_0 & theta_1) with random value or simply zero. Also choose the Learning rate with 0.01. "
   ]
  },
  {
   "cell_type": "code",
   "execution_count": 6,
   "id": "1874bcf2",
   "metadata": {},
   "outputs": [],
   "source": [
    "# Step2: Use (theta_0 & theta_1) to predict the output h(x)= theta_0 + theta_1 * x."
   ]
  },
  {
   "cell_type": "code",
   "execution_count": 7,
   "id": "22fe65b6",
   "metadata": {},
   "outputs": [],
   "source": [
    "# Step3: Calculate Cost function 𝑱(theta_0,theta_1 )."
   ]
  },
  {
   "cell_type": "code",
   "execution_count": 8,
   "id": "3579191c",
   "metadata": {},
   "outputs": [],
   "source": [
    "# Step4: Calculate the gradient for each theta."
   ]
  },
  {
   "cell_type": "code",
   "execution_count": 9,
   "id": "d8237f8d",
   "metadata": {},
   "outputs": [],
   "source": [
    "# Step5: Update the parameters (simultaneously)."
   ]
  },
  {
   "cell_type": "code",
   "execution_count": null,
   "id": "abe264eb",
   "metadata": {},
   "outputs": [],
   "source": [
    "# Step6: Repeat from 2 to 5 until converge to the minimum or achieve maximum iterations."
   ]
  }
 ],
 "metadata": {
  "kernelspec": {
   "display_name": "Python 3 (ipykernel)",
   "language": "python",
   "name": "python3"
  },
  "language_info": {
   "codemirror_mode": {
    "name": "ipython",
    "version": 3
   },
   "file_extension": ".py",
   "mimetype": "text/x-python",
   "name": "python",
   "nbconvert_exporter": "python",
   "pygments_lexer": "ipython3",
   "version": "3.9.7"
  }
 },
 "nbformat": 4,
 "nbformat_minor": 5
}
