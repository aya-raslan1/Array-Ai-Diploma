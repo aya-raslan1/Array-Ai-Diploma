{
 "cells": [
  {
   "cell_type": "markdown",
   "id": "f173bd30",
   "metadata": {},
   "source": [
    "# Survival Prediction on Titanic Dataset Using Decision Trees"
   ]
  },
  {
   "cell_type": "markdown",
   "id": "479437f3",
   "metadata": {},
   "source": [
    "## Importing important libraries"
   ]
  },
  {
   "cell_type": "code",
   "execution_count": 11,
   "id": "79e26e0e",
   "metadata": {},
   "outputs": [],
   "source": [
    "import numpy as np # linear algebra\n",
    "import pandas as pd # data processing, CSV file I/O (e.g. pd.read_csv)\n",
    "import matplotlib.pyplot as plt # for data visualization\n",
    "import seaborn as sns # for statistical data visualization\n",
    "import missingno as msno\n",
    "import math, time, random, datetime\n",
    "# Machine Learning\n",
    "from sklearn.model_selection import train_test_split\n",
    "from sklearn import model_selection, tree, preprocessing, metrics, linear_model\n",
    "from sklearn.tree import DecisionTreeClassifier\n",
    "from sklearn.model_selection import GridSearchCV"
   ]
  },
  {
   "cell_type": "markdown",
   "id": "752e61e0",
   "metadata": {},
   "source": [
    "## Project Outline"
   ]
  },
  {
   "cell_type": "markdown",
   "id": "91c3d051",
   "metadata": {},
   "source": [
    "### Understanding the nature of data\n",
    "   <ul>\n",
    "   <li> Visualization of null values </li>\n",
    "   <li>Checking relevance of every feature with target feature \"Survival\"</li>\n",
    "   <li> Handling missing data using appropriate strategies </li>\n",
    "   <li>Correlation between the metrices</li>\n",
    "   <li> Explore interesting themes:</li>\n",
    "        - Did the wealthy had stronger chances of survival?\n",
    "        - Which age group had a stronger chances of survival?\n",
    "        - Did passengers travelling with family had a stronger chances of survival?\n",
    "    <li>Survival prediction model using Decision Trees Classification algorithm </li>\n",
    "     <li>Improving the model performance through Hyperparameter Tuning using GridSearchCV to obtain an improved accuracy </li>\n",
    "    </ul>"
   ]
  },
  {
   "cell_type": "markdown",
   "id": "29cb1192",
   "metadata": {},
   "source": [
    "## Loading the data\n"
   ]
  },
  {
   "cell_type": "code",
   "execution_count": 33,
   "id": "3f3e8df0",
   "metadata": {},
   "outputs": [],
   "source": [
    "train=pd.read_csv(\"train.csv\")"
   ]
  },
  {
   "cell_type": "markdown",
   "id": "d1ac47ed",
   "metadata": {},
   "source": [
    "## Understanding data"
   ]
  },
  {
   "cell_type": "code",
   "execution_count": 34,
   "id": "d5537daf",
   "metadata": {},
   "outputs": [
    {
     "data": {
      "text/html": [
       "<div>\n",
       "<style scoped>\n",
       "    .dataframe tbody tr th:only-of-type {\n",
       "        vertical-align: middle;\n",
       "    }\n",
       "\n",
       "    .dataframe tbody tr th {\n",
       "        vertical-align: top;\n",
       "    }\n",
       "\n",
       "    .dataframe thead th {\n",
       "        text-align: right;\n",
       "    }\n",
       "</style>\n",
       "<table border=\"1\" class=\"dataframe\">\n",
       "  <thead>\n",
       "    <tr style=\"text-align: right;\">\n",
       "      <th></th>\n",
       "      <th>PassengerId</th>\n",
       "      <th>Survived</th>\n",
       "      <th>Pclass</th>\n",
       "      <th>Name</th>\n",
       "      <th>Sex</th>\n",
       "      <th>Age</th>\n",
       "      <th>SibSp</th>\n",
       "      <th>Parch</th>\n",
       "      <th>Ticket</th>\n",
       "      <th>Fare</th>\n",
       "      <th>Cabin</th>\n",
       "      <th>Embarked</th>\n",
       "    </tr>\n",
       "  </thead>\n",
       "  <tbody>\n",
       "    <tr>\n",
       "      <th>0</th>\n",
       "      <td>1</td>\n",
       "      <td>0</td>\n",
       "      <td>3</td>\n",
       "      <td>Braund, Mr. Owen Harris</td>\n",
       "      <td>male</td>\n",
       "      <td>22.0</td>\n",
       "      <td>1</td>\n",
       "      <td>0</td>\n",
       "      <td>A/5 21171</td>\n",
       "      <td>7.2500</td>\n",
       "      <td>NaN</td>\n",
       "      <td>S</td>\n",
       "    </tr>\n",
       "    <tr>\n",
       "      <th>1</th>\n",
       "      <td>2</td>\n",
       "      <td>1</td>\n",
       "      <td>1</td>\n",
       "      <td>Cumings, Mrs. John Bradley (Florence Briggs Th...</td>\n",
       "      <td>female</td>\n",
       "      <td>38.0</td>\n",
       "      <td>1</td>\n",
       "      <td>0</td>\n",
       "      <td>PC 17599</td>\n",
       "      <td>71.2833</td>\n",
       "      <td>C85</td>\n",
       "      <td>C</td>\n",
       "    </tr>\n",
       "    <tr>\n",
       "      <th>2</th>\n",
       "      <td>3</td>\n",
       "      <td>1</td>\n",
       "      <td>3</td>\n",
       "      <td>Heikkinen, Miss. Laina</td>\n",
       "      <td>female</td>\n",
       "      <td>26.0</td>\n",
       "      <td>0</td>\n",
       "      <td>0</td>\n",
       "      <td>STON/O2. 3101282</td>\n",
       "      <td>7.9250</td>\n",
       "      <td>NaN</td>\n",
       "      <td>S</td>\n",
       "    </tr>\n",
       "    <tr>\n",
       "      <th>3</th>\n",
       "      <td>4</td>\n",
       "      <td>1</td>\n",
       "      <td>1</td>\n",
       "      <td>Futrelle, Mrs. Jacques Heath (Lily May Peel)</td>\n",
       "      <td>female</td>\n",
       "      <td>35.0</td>\n",
       "      <td>1</td>\n",
       "      <td>0</td>\n",
       "      <td>113803</td>\n",
       "      <td>53.1000</td>\n",
       "      <td>C123</td>\n",
       "      <td>S</td>\n",
       "    </tr>\n",
       "    <tr>\n",
       "      <th>4</th>\n",
       "      <td>5</td>\n",
       "      <td>0</td>\n",
       "      <td>3</td>\n",
       "      <td>Allen, Mr. William Henry</td>\n",
       "      <td>male</td>\n",
       "      <td>35.0</td>\n",
       "      <td>0</td>\n",
       "      <td>0</td>\n",
       "      <td>373450</td>\n",
       "      <td>8.0500</td>\n",
       "      <td>NaN</td>\n",
       "      <td>S</td>\n",
       "    </tr>\n",
       "  </tbody>\n",
       "</table>\n",
       "</div>"
      ],
      "text/plain": [
       "   PassengerId  Survived  Pclass  \\\n",
       "0            1         0       3   \n",
       "1            2         1       1   \n",
       "2            3         1       3   \n",
       "3            4         1       1   \n",
       "4            5         0       3   \n",
       "\n",
       "                                                Name     Sex   Age  SibSp  \\\n",
       "0                            Braund, Mr. Owen Harris    male  22.0      1   \n",
       "1  Cumings, Mrs. John Bradley (Florence Briggs Th...  female  38.0      1   \n",
       "2                             Heikkinen, Miss. Laina  female  26.0      0   \n",
       "3       Futrelle, Mrs. Jacques Heath (Lily May Peel)  female  35.0      1   \n",
       "4                           Allen, Mr. William Henry    male  35.0      0   \n",
       "\n",
       "   Parch            Ticket     Fare Cabin Embarked  \n",
       "0      0         A/5 21171   7.2500   NaN        S  \n",
       "1      0          PC 17599  71.2833   C85        C  \n",
       "2      0  STON/O2. 3101282   7.9250   NaN        S  \n",
       "3      0            113803  53.1000  C123        S  \n",
       "4      0            373450   8.0500   NaN        S  "
      ]
     },
     "execution_count": 34,
     "metadata": {},
     "output_type": "execute_result"
    }
   ],
   "source": [
    "train.head()"
   ]
  },
  {
   "cell_type": "code",
   "execution_count": 35,
   "id": "a4308cc6",
   "metadata": {},
   "outputs": [
    {
     "data": {
      "text/plain": [
       "(891, 12)"
      ]
     },
     "execution_count": 35,
     "metadata": {},
     "output_type": "execute_result"
    }
   ],
   "source": [
    "train.shape"
   ]
  },
  {
   "cell_type": "code",
   "execution_count": 14,
   "id": "f605d278",
   "metadata": {},
   "outputs": [
    {
     "data": {
      "text/html": [
       "<div>\n",
       "<style scoped>\n",
       "    .dataframe tbody tr th:only-of-type {\n",
       "        vertical-align: middle;\n",
       "    }\n",
       "\n",
       "    .dataframe tbody tr th {\n",
       "        vertical-align: top;\n",
       "    }\n",
       "\n",
       "    .dataframe thead th {\n",
       "        text-align: right;\n",
       "    }\n",
       "</style>\n",
       "<table border=\"1\" class=\"dataframe\">\n",
       "  <thead>\n",
       "    <tr style=\"text-align: right;\">\n",
       "      <th></th>\n",
       "      <th>PassengerId</th>\n",
       "      <th>Survived</th>\n",
       "      <th>Pclass</th>\n",
       "      <th>Age</th>\n",
       "      <th>SibSp</th>\n",
       "      <th>Parch</th>\n",
       "      <th>Fare</th>\n",
       "    </tr>\n",
       "  </thead>\n",
       "  <tbody>\n",
       "    <tr>\n",
       "      <th>count</th>\n",
       "      <td>891.000000</td>\n",
       "      <td>891.000000</td>\n",
       "      <td>891.000000</td>\n",
       "      <td>714.000000</td>\n",
       "      <td>891.000000</td>\n",
       "      <td>891.000000</td>\n",
       "      <td>891.000000</td>\n",
       "    </tr>\n",
       "    <tr>\n",
       "      <th>mean</th>\n",
       "      <td>446.000000</td>\n",
       "      <td>0.383838</td>\n",
       "      <td>2.308642</td>\n",
       "      <td>29.699118</td>\n",
       "      <td>0.523008</td>\n",
       "      <td>0.381594</td>\n",
       "      <td>32.204208</td>\n",
       "    </tr>\n",
       "    <tr>\n",
       "      <th>std</th>\n",
       "      <td>257.353842</td>\n",
       "      <td>0.486592</td>\n",
       "      <td>0.836071</td>\n",
       "      <td>14.526497</td>\n",
       "      <td>1.102743</td>\n",
       "      <td>0.806057</td>\n",
       "      <td>49.693429</td>\n",
       "    </tr>\n",
       "    <tr>\n",
       "      <th>min</th>\n",
       "      <td>1.000000</td>\n",
       "      <td>0.000000</td>\n",
       "      <td>1.000000</td>\n",
       "      <td>0.420000</td>\n",
       "      <td>0.000000</td>\n",
       "      <td>0.000000</td>\n",
       "      <td>0.000000</td>\n",
       "    </tr>\n",
       "    <tr>\n",
       "      <th>25%</th>\n",
       "      <td>223.500000</td>\n",
       "      <td>0.000000</td>\n",
       "      <td>2.000000</td>\n",
       "      <td>20.125000</td>\n",
       "      <td>0.000000</td>\n",
       "      <td>0.000000</td>\n",
       "      <td>7.910400</td>\n",
       "    </tr>\n",
       "    <tr>\n",
       "      <th>50%</th>\n",
       "      <td>446.000000</td>\n",
       "      <td>0.000000</td>\n",
       "      <td>3.000000</td>\n",
       "      <td>28.000000</td>\n",
       "      <td>0.000000</td>\n",
       "      <td>0.000000</td>\n",
       "      <td>14.454200</td>\n",
       "    </tr>\n",
       "    <tr>\n",
       "      <th>75%</th>\n",
       "      <td>668.500000</td>\n",
       "      <td>1.000000</td>\n",
       "      <td>3.000000</td>\n",
       "      <td>38.000000</td>\n",
       "      <td>1.000000</td>\n",
       "      <td>0.000000</td>\n",
       "      <td>31.000000</td>\n",
       "    </tr>\n",
       "    <tr>\n",
       "      <th>max</th>\n",
       "      <td>891.000000</td>\n",
       "      <td>1.000000</td>\n",
       "      <td>3.000000</td>\n",
       "      <td>80.000000</td>\n",
       "      <td>8.000000</td>\n",
       "      <td>6.000000</td>\n",
       "      <td>512.329200</td>\n",
       "    </tr>\n",
       "  </tbody>\n",
       "</table>\n",
       "</div>"
      ],
      "text/plain": [
       "       PassengerId    Survived      Pclass         Age       SibSp  \\\n",
       "count   891.000000  891.000000  891.000000  714.000000  891.000000   \n",
       "mean    446.000000    0.383838    2.308642   29.699118    0.523008   \n",
       "std     257.353842    0.486592    0.836071   14.526497    1.102743   \n",
       "min       1.000000    0.000000    1.000000    0.420000    0.000000   \n",
       "25%     223.500000    0.000000    2.000000   20.125000    0.000000   \n",
       "50%     446.000000    0.000000    3.000000   28.000000    0.000000   \n",
       "75%     668.500000    1.000000    3.000000   38.000000    1.000000   \n",
       "max     891.000000    1.000000    3.000000   80.000000    8.000000   \n",
       "\n",
       "            Parch        Fare  \n",
       "count  891.000000  891.000000  \n",
       "mean     0.381594   32.204208  \n",
       "std      0.806057   49.693429  \n",
       "min      0.000000    0.000000  \n",
       "25%      0.000000    7.910400  \n",
       "50%      0.000000   14.454200  \n",
       "75%      0.000000   31.000000  \n",
       "max      6.000000  512.329200  "
      ]
     },
     "execution_count": 14,
     "metadata": {},
     "output_type": "execute_result"
    }
   ],
   "source": [
    "train.describe()"
   ]
  },
  {
   "cell_type": "markdown",
   "id": "c19900aa",
   "metadata": {},
   "source": [
    "## Checking missing values"
   ]
  },
  {
   "cell_type": "markdown",
   "id": "804b5c1a",
   "metadata": {},
   "source": [
    "### Using the Missingno library"
   ]
  },
  {
   "cell_type": "code",
   "execution_count": 15,
   "id": "1bb50cca",
   "metadata": {},
   "outputs": [
    {
     "data": {
      "text/plain": [
       "<Axes: >"
      ]
     },
     "execution_count": 15,
     "metadata": {},
     "output_type": "execute_result"
    },
    {
     "data": {
      "image/png": "[encoded data removed]",
      "text/plain": [
       "<Figure size 2500x1000 with 3 Axes>"
      ]
     },
     "metadata": {},
     "output_type": "display_data"
    }
   ],
   "source": [
    "#Bar chart\n",
    "msno.bar(train)"
   ]
  },
  {
   "cell_type": "code",
   "execution_count": 17,
   "id": "d6c0ee39",
   "metadata": {},
   "outputs": [
    {
     "data": {
      "text/plain": [
       "PassengerId      0\n",
       "Survived         0\n",
       "Pclass           0\n",
       "Name             0\n",
       "Sex              0\n",
       "Age            177\n",
       "SibSp            0\n",
       "Parch            0\n",
       "Ticket           0\n",
       "Fare             0\n",
       "Cabin          687\n",
       "Embarked         2\n",
       "dtype: int64"
      ]
     },
     "execution_count": 17,
     "metadata": {},
     "output_type": "execute_result"
    }
   ],
   "source": [
    "train.isnull().sum()"
   ]
  },
  {
   "cell_type": "code",
   "execution_count": 18,
   "id": "8c1ed6be",
   "metadata": {},
   "outputs": [
    {
     "name": "stdout",
     "output_type": "stream",
     "text": [
      "<class 'pandas.core.frame.DataFrame'>\n",
      "RangeIndex: 891 entries, 0 to 890\n",
      "Data columns (total 12 columns):\n",
      " #   Column       Non-Null Count  Dtype  \n",
      "---  ------       --------------  -----  \n",
      " 0   PassengerId  891 non-null    int64  \n",
      " 1   Survived     891 non-null    int64  \n",
      " 2   Pclass       891 non-null    int64  \n",
      " 3   Name         891 non-null    object \n",
      " 4   Sex          891 non-null    object \n",
      " 5   Age          714 non-null    float64\n",
      " 6   SibSp        891 non-null    int64  \n",
      " 7   Parch        891 non-null    int64  \n",
      " 8   Ticket       891 non-null    object \n",
      " 9   Fare         891 non-null    float64\n",
      " 10  Cabin        204 non-null    object \n",
      " 11  Embarked     889 non-null    object \n",
      "dtypes: float64(2), int64(5), object(5)\n",
      "memory usage: 83.7+ KB\n"
     ]
    }
   ],
   "source": [
    "train.info()"
   ]
  },
  {
   "cell_type": "markdown",
   "id": "4f1253de",
   "metadata": {},
   "source": [
    "## Target Feature: Survived\n",
    "### Description: Whether a person survived or not\n",
    " 0: Did not survive; 1: Survived\n",
    "### How many people survived?"
   ]
  },
  {
   "cell_type": "code",
   "execution_count": 21,
   "id": "12fa1daf",
   "metadata": {},
   "outputs": [
    {
     "name": "stdout",
     "output_type": "stream",
     "text": [
      "0    549\n",
      "1    342\n",
      "Name: Survived, dtype: int64\n"
     ]
    },
    {
     "data": {
      "image/png": "[encoded data removed]",
      "text/plain": [
       "<Figure size 2000x100 with 1 Axes>"
      ]
     },
     "metadata": {},
     "output_type": "display_data"
    }
   ],
   "source": [
    "fig=plt.figure(figsize=(20,1))\n",
    "sns.countplot(y=\"Survived\",data=train)\n",
    "print (train.Survived.value_counts() )"
   ]
  },
  {
   "cell_type": "markdown",
   "id": "e3e28f05",
   "metadata": {},
   "source": [
    "## Feature: Pclass\n",
    "#### Description: Ticket class of the passenger.\n",
    "#### Key: 1 = 1st, 2 = 2nd, 3 = 3rd\n",
    "### Relavance of the feature:"
   ]
  },
  {
   "cell_type": "code",
   "execution_count": 29,
   "id": "24661165",
   "metadata": {},
   "outputs": [
    {
     "data": {
      "text/plain": [
       "Pclass\n",
       "1    0.629630\n",
       "2    0.472826\n",
       "3    0.242363\n",
       "Name: Survived, dtype: float64"
      ]
     },
     "execution_count": 29,
     "metadata": {},
     "output_type": "execute_result"
    }
   ],
   "source": [
    "train.groupby([\"Pclass\"])[\"Survived\"].mean()"
   ]
  },
  {
   "cell_type": "code",
   "execution_count": 32,
   "id": "dd4db2df",
   "metadata": {},
   "outputs": [
    {
     "name": "stderr",
     "output_type": "stream",
     "text": [
      "C:\\Users\\ayamo\\AppData\\Local\\Temp\\ipykernel_2684\\529266429.py:1: UserWarning: \n",
      "\n",
      "`distplot` is a deprecated function and will be removed in seaborn v0.14.0.\n",
      "\n",
      "Please adapt your code to use either `displot` (a figure-level function with\n",
      "similar flexibility) or `histplot` (an axes-level function for histograms).\n",
      "\n",
      "For a guide to updating your code to use the new functions, please see\n",
      "https://gist.github.com/mwaskom/de44147ed2974457ad6372750bbe5751\n",
      "\n",
      "  g = sns.distplot(train.Pclass)\n"
     ]
    },
    {
     "data": {
      "image/png": "[encoded data removed]",
      "text/plain": [
       "<Figure size 640x480 with 1 Axes>"
      ]
     },
     "metadata": {},
     "output_type": "display_data"
    }
   ],
   "source": [
    "g = sns.distplot(train.Pclass)\n",
    "g.grid();"
   ]
  },
  {
   "cell_type": "markdown",
   "id": "931e3730",
   "metadata": {},
   "source": [
    "###\n",
    "Passangers travelling in Pclass 3 is the major chunk, as evident from the probability distribution function above."
   ]
  },
  {
   "cell_type": "code",
   "execution_count": 37,
   "id": "d530367c",
   "metadata": {},
   "outputs": [
    {
     "name": "stdout",
     "output_type": "stream",
     "text": [
      "null values:  0\n"
     ]
    }
   ],
   "source": [
    "print(\"null values: \", train.Pclass.isnull().sum())"
   ]
  },
  {
   "cell_type": "markdown",
   "id": "d211342d",
   "metadata": {},
   "source": [
    "### NOTE: \n",
    "Although the feature \"Pclass\" is numerical (1,2 and 3) but they are categories. Therefore, this is a categorical feature"
   ]
  },
  {
   "cell_type": "code",
   "execution_count": 38,
   "id": "4c45ce86",
   "metadata": {},
   "outputs": [
    {
     "data": {
      "text/plain": [
       "dtype('int64')"
      ]
     },
     "execution_count": 38,
     "metadata": {},
     "output_type": "execute_result"
    }
   ],
   "source": [
    "train.Pclass.dtype"
   ]
  },
  {
   "cell_type": "code",
   "execution_count": 39,
   "id": "760fb0b4",
   "metadata": {},
   "outputs": [],
   "source": [
    "train.Pclass=train.Pclass.astype(\"object\")"
   ]
  },
  {
   "cell_type": "code",
   "execution_count": 40,
   "id": "125361dd",
   "metadata": {},
   "outputs": [
    {
     "data": {
      "text/plain": [
       "dtype('O')"
      ]
     },
     "execution_count": 40,
     "metadata": {},
     "output_type": "execute_result"
    }
   ],
   "source": [
    "train.Pclass.dtype"
   ]
  },
  {
   "cell_type": "markdown",
   "id": "39a37f1e",
   "metadata": {},
   "source": [
    "## Feature: Name"
   ]
  },
  {
   "cell_type": "markdown",
   "id": "ba2ff1fe",
   "metadata": {},
   "source": [
    "## Relavance of the feature:\n",
    "Logically, the name of a person wouldn't have an effect on the chances of their survival, but the\n",
    "important information in this feature is the salutations (Mr., Mrs. etc.). Therefore, we will keep this\n",
    "feature for further analysis."
   ]
  },
  {
   "cell_type": "markdown",
   "id": "70be7083",
   "metadata": {},
   "source": [
    "### Checking for duplicate names:"
   ]
  },
  {
   "cell_type": "code",
   "execution_count": 41,
   "id": "769939de",
   "metadata": {},
   "outputs": [
    {
     "data": {
      "text/plain": [
       "0"
      ]
     },
     "execution_count": 41,
     "metadata": {},
     "output_type": "execute_result"
    }
   ],
   "source": [
    "train.Name.duplicated().sum()"
   ]
  },
  {
   "cell_type": "markdown",
   "id": "9ab99003",
   "metadata": {},
   "source": [
    "###### Therefore, all names are unique."
   ]
  },
  {
   "cell_type": "code",
   "execution_count": 43,
   "id": "0c6f5f04",
   "metadata": {},
   "outputs": [
    {
     "data": {
      "text/plain": [
       "0                              Braund, Mr. Owen Harris\n",
       "1    Cumings, Mrs. John Bradley (Florence Briggs Th...\n",
       "2                               Heikkinen, Miss. Laina\n",
       "3         Futrelle, Mrs. Jacques Heath (Lily May Peel)\n",
       "4                             Allen, Mr. William Henry\n",
       "5                                     Moran, Mr. James\n",
       "6                              McCarthy, Mr. Timothy J\n",
       "7                       Palsson, Master. Gosta Leonard\n",
       "8    Johnson, Mrs. Oscar W (Elisabeth Vilhelmina Berg)\n",
       "9                  Nasser, Mrs. Nicholas (Adele Achem)\n",
       "Name: Name, dtype: object"
      ]
     },
     "execution_count": 43,
     "metadata": {},
     "output_type": "execute_result"
    }
   ],
   "source": [
    "train.Name.head(10)"
   ]
  },
  {
   "cell_type": "markdown",
   "id": "b0492787",
   "metadata": {},
   "source": [
    "### Let's make columns with salutations\n",
    "<ul>\n",
    "   <li>Mr. </li>\n",
    "   <li>Mrs. </li>\n",
    "   <li>Miss. </li>\n",
    "   <li>Master. </li>\n",
    "   <li>Dr. </li>\n",
    "</ul>"
   ]
  },
  {
   "cell_type": "code",
   "execution_count": 44,
   "id": "bf632e0b",
   "metadata": {},
   "outputs": [
    {
     "data": {
      "text/plain": [
       "Index(['PassengerId', 'Survived', 'Pclass', 'Name', 'Sex', 'Age', 'SibSp',\n",
       "       'Parch', 'Ticket', 'Fare', 'Cabin', 'Embarked'],\n",
       "      dtype='object')"
      ]
     },
     "execution_count": 44,
     "metadata": {},
     "output_type": "execute_result"
    }
   ],
   "source": [
    "train.columns"
   ]
  },
  {
   "cell_type": "code",
   "execution_count": 47,
   "id": "80c1b464",
   "metadata": {
    "scrolled": true
   },
   "outputs": [
    {
     "name": "stderr",
     "output_type": "stream",
     "text": [
      "C:\\Users\\ayamo\\AppData\\Local\\Temp\\ipykernel_2684\\222626092.py:4: SettingWithCopyWarning: \n",
      "A value is trying to be set on a copy of a slice from a DataFrame\n",
      "\n",
      "See the caveats in the documentation: https://pandas.pydata.org/pandas-docs/stable/user_guide/indexing.html#returning-a-view-versus-a-copy\n",
      "  train['Title'][i] = 'Mr'\n",
      "C:\\Users\\ayamo\\AppData\\Local\\Temp\\ipykernel_2684\\222626092.py:6: SettingWithCopyWarning: \n",
      "A value is trying to be set on a copy of a slice from a DataFrame\n",
      "\n",
      "See the caveats in the documentation: https://pandas.pydata.org/pandas-docs/stable/user_guide/indexing.html#returning-a-view-versus-a-copy\n",
      "  train['Title'][i] = \"Mrs\"\n",
      "C:\\Users\\ayamo\\AppData\\Local\\Temp\\ipykernel_2684\\222626092.py:8: SettingWithCopyWarning: \n",
      "A value is trying to be set on a copy of a slice from a DataFrame\n",
      "\n",
      "See the caveats in the documentation: https://pandas.pydata.org/pandas-docs/stable/user_guide/indexing.html#returning-a-view-versus-a-copy\n",
      "  train['Title'][i] = \"Miss\"\n",
      "C:\\Users\\ayamo\\AppData\\Local\\Temp\\ipykernel_2684\\222626092.py:10: SettingWithCopyWarning: \n",
      "A value is trying to be set on a copy of a slice from a DataFrame\n",
      "\n",
      "See the caveats in the documentation: https://pandas.pydata.org/pandas-docs/stable/user_guide/indexing.html#returning-a-view-versus-a-copy\n",
      "  train['Title'][i] = \"Master\"\n",
      "C:\\Users\\ayamo\\AppData\\Local\\Temp\\ipykernel_2684\\222626092.py:12: SettingWithCopyWarning: \n",
      "A value is trying to be set on a copy of a slice from a DataFrame\n",
      "\n",
      "See the caveats in the documentation: https://pandas.pydata.org/pandas-docs/stable/user_guide/indexing.html#returning-a-view-versus-a-copy\n",
      "  train['Title'][i] = \"Dr\"\n"
     ]
    },
    {
     "data": {
      "text/html": [
       "<div>\n",
       "<style scoped>\n",
       "    .dataframe tbody tr th:only-of-type {\n",
       "        vertical-align: middle;\n",
       "    }\n",
       "\n",
       "    .dataframe tbody tr th {\n",
       "        vertical-align: top;\n",
       "    }\n",
       "\n",
       "    .dataframe thead th {\n",
       "        text-align: right;\n",
       "    }\n",
       "</style>\n",
       "<table border=\"1\" class=\"dataframe\">\n",
       "  <thead>\n",
       "    <tr style=\"text-align: right;\">\n",
       "      <th></th>\n",
       "      <th>PassengerId</th>\n",
       "      <th>Survived</th>\n",
       "      <th>Pclass</th>\n",
       "      <th>Name</th>\n",
       "      <th>Sex</th>\n",
       "      <th>Age</th>\n",
       "      <th>SibSp</th>\n",
       "      <th>Parch</th>\n",
       "      <th>Ticket</th>\n",
       "      <th>Fare</th>\n",
       "      <th>Cabin</th>\n",
       "      <th>Embarked</th>\n",
       "      <th>Title</th>\n",
       "    </tr>\n",
       "  </thead>\n",
       "  <tbody>\n",
       "    <tr>\n",
       "      <th>0</th>\n",
       "      <td>1</td>\n",
       "      <td>0</td>\n",
       "      <td>3</td>\n",
       "      <td>Braund, Mr. Owen Harris</td>\n",
       "      <td>male</td>\n",
       "      <td>22.0</td>\n",
       "      <td>1</td>\n",
       "      <td>0</td>\n",
       "      <td>A/5 21171</td>\n",
       "      <td>7.2500</td>\n",
       "      <td>NaN</td>\n",
       "      <td>S</td>\n",
       "      <td>Mr</td>\n",
       "    </tr>\n",
       "    <tr>\n",
       "      <th>1</th>\n",
       "      <td>2</td>\n",
       "      <td>1</td>\n",
       "      <td>1</td>\n",
       "      <td>Cumings, Mrs. John Bradley (Florence Briggs Th...</td>\n",
       "      <td>female</td>\n",
       "      <td>38.0</td>\n",
       "      <td>1</td>\n",
       "      <td>0</td>\n",
       "      <td>PC 17599</td>\n",
       "      <td>71.2833</td>\n",
       "      <td>C85</td>\n",
       "      <td>C</td>\n",
       "      <td>Mrs</td>\n",
       "    </tr>\n",
       "    <tr>\n",
       "      <th>2</th>\n",
       "      <td>3</td>\n",
       "      <td>1</td>\n",
       "      <td>3</td>\n",
       "      <td>Heikkinen, Miss. Laina</td>\n",
       "      <td>female</td>\n",
       "      <td>26.0</td>\n",
       "      <td>0</td>\n",
       "      <td>0</td>\n",
       "      <td>STON/O2. 3101282</td>\n",
       "      <td>7.9250</td>\n",
       "      <td>NaN</td>\n",
       "      <td>S</td>\n",
       "      <td>Miss</td>\n",
       "    </tr>\n",
       "    <tr>\n",
       "      <th>3</th>\n",
       "      <td>4</td>\n",
       "      <td>1</td>\n",
       "      <td>1</td>\n",
       "      <td>Futrelle, Mrs. Jacques Heath (Lily May Peel)</td>\n",
       "      <td>female</td>\n",
       "      <td>35.0</td>\n",
       "      <td>1</td>\n",
       "      <td>0</td>\n",
       "      <td>113803</td>\n",
       "      <td>53.1000</td>\n",
       "      <td>C123</td>\n",
       "      <td>S</td>\n",
       "      <td>Mrs</td>\n",
       "    </tr>\n",
       "    <tr>\n",
       "      <th>4</th>\n",
       "      <td>5</td>\n",
       "      <td>0</td>\n",
       "      <td>3</td>\n",
       "      <td>Allen, Mr. William Henry</td>\n",
       "      <td>male</td>\n",
       "      <td>35.0</td>\n",
       "      <td>0</td>\n",
       "      <td>0</td>\n",
       "      <td>373450</td>\n",
       "      <td>8.0500</td>\n",
       "      <td>NaN</td>\n",
       "      <td>S</td>\n",
       "      <td>Mr</td>\n",
       "    </tr>\n",
       "  </tbody>\n",
       "</table>\n",
       "</div>"
      ],
      "text/plain": [
       "   PassengerId  Survived Pclass  \\\n",
       "0            1         0      3   \n",
       "1            2         1      1   \n",
       "2            3         1      3   \n",
       "3            4         1      1   \n",
       "4            5         0      3   \n",
       "\n",
       "                                                Name     Sex   Age  SibSp  \\\n",
       "0                            Braund, Mr. Owen Harris    male  22.0      1   \n",
       "1  Cumings, Mrs. John Bradley (Florence Briggs Th...  female  38.0      1   \n",
       "2                             Heikkinen, Miss. Laina  female  26.0      0   \n",
       "3       Futrelle, Mrs. Jacques Heath (Lily May Peel)  female  35.0      1   \n",
       "4                           Allen, Mr. William Henry    male  35.0      0   \n",
       "\n",
       "   Parch            Ticket     Fare Cabin Embarked Title  \n",
       "0      0         A/5 21171   7.2500   NaN        S    Mr  \n",
       "1      0          PC 17599  71.2833   C85        C   Mrs  \n",
       "2      0  STON/O2. 3101282   7.9250   NaN        S  Miss  \n",
       "3      0            113803  53.1000  C123        S   Mrs  \n",
       "4      0            373450   8.0500   NaN        S    Mr  "
      ]
     },
     "execution_count": 47,
     "metadata": {},
     "output_type": "execute_result"
    }
   ],
   "source": [
    "train['Title'] = ''\n",
    "for i in range(len(train)):\n",
    "    if (\"Mr.\" in train['Name'][i]):\n",
    "        train['Title'][i] = 'Mr'\n",
    "    elif (\"Mrs.\" in train['Name'][i]):\n",
    "        train['Title'][i] = \"Mrs\"\n",
    "    elif (\"Miss.\" in train['Name'][i]):\n",
    "        train['Title'][i] = \"Miss\"\n",
    "    elif (\"Master.\" in train['Name'][i]):\n",
    "        train['Title'][i] = \"Master\"\n",
    "    elif (\"Dr.\" in train['Name'][i]):\n",
    "        train['Title'][i] = \"Dr\"\n",
    "train.head()"
   ]
  },
  {
   "cell_type": "markdown",
   "id": "d38d4d71",
   "metadata": {},
   "source": [
    "###### \n",
    "As we can see above, the column \"Title\" has been added to the dataframe with respective\n",
    "salutations. This will help us categorize the names further as we proceed.\n",
    "\n",
    "Let's check if every name has one of these salutations or not."
   ]
  },
  {
   "cell_type": "code",
   "execution_count": 58,
   "id": "83ca173d",
   "metadata": {
    "scrolled": true
   },
   "outputs": [
    {
     "name": "stdout",
     "output_type": "stream",
     "text": [
      "Total Name with other Titles: 20 \n",
      "\n",
      "Name with other titles:\n"
     ]
    },
    {
     "data": {
      "text/plain": [
       "['Uruchurtu, Don. Manuel E',\n",
       " 'Byles, Rev. Thomas Roussel Davids',\n",
       " 'Bateman, Rev. Robert James',\n",
       " 'Carter, Rev. Ernest Courtenay',\n",
       " 'Aubart, Mme. Leontine Pauline',\n",
       " 'Reynaldo, Ms. Encarnacion',\n",
       " 'Peuchen, Major. Arthur Godfrey',\n",
       " 'Butt, Major. Archibald Willingham',\n",
       " 'Duff Gordon, Lady. (Lucille Christiana Sutherland) (\"Mrs Morgan\")',\n",
       " 'Duff Gordon, Sir. Cosmo Edmund (\"Mr Morgan\")',\n",
       " 'Kirkland, Rev. Charles Leonard',\n",
       " 'Sagesser, Mlle. Emma',\n",
       " 'Simonius-Blumer, Col. Oberst Alfons',\n",
       " 'Weir, Col. John',\n",
       " 'Mayne, Mlle. Berthe Antonine (\"Mrs de Villiers\")',\n",
       " 'Crosby, Capt. Edward Gifford',\n",
       " 'Rothes, the Countess. of (Lucy Noel Martha Dyer-Edwards)',\n",
       " 'Reuchlin, Jonkheer. John George',\n",
       " 'Harper, Rev. John',\n",
       " 'Montvila, Rev. Juozas']"
      ]
     },
     "execution_count": 58,
     "metadata": {},
     "output_type": "execute_result"
    }
   ],
   "source": [
    "x=[]\n",
    "for i in range(len(train)):\n",
    "   if ('Mr.' in train[\"Name\"][i] or\n",
    "      'Mrs.' in train[\"Name\"][i] or\n",
    "      'Miss.' in train[\"Name\"][i] or\n",
    "      'Master.' in train[\"Name\"][i] or\n",
    "      'Dr.' in train[\"Name\"][i]):\n",
    "      continue\n",
    "   else:\n",
    "    x.append(train[\"Name\"][i])\n",
    "print(\"Total Name with other Titles:\",len(x),\"\\n\\nName with other titles:\")\n",
    "x"
   ]
  },
  {
   "cell_type": "markdown",
   "id": "041da1fe",
   "metadata": {},
   "source": [
    "### Following observations have been found:                                                                    \n",
    "<ul>\n",
    "   <li>Mme. is a french title equivalent to \"Mrs.\". We will change the name 'Aubart, Mme. Leontine\n",
    "Pauline' to 'Aubart, Mrs. Leontine Pauline' </li>\n",
    "   <li> Ms. is an abbreviation for \"Miss.\". Therefore we will change the name 'Reynaldo, Ms.\n",
    "Encarnacion' to 'Reynaldo, Miss. Encarnacion' </li>\n",
    "   <li>Mlle. is a french title equivalent to \"Miss.\". We will change the names: </li>\n",
    "   \n",
    "          -'Sagesser, Mlle. Emma' to 'Sagesser, Miss. Emma'\n",
    "          -'Mayne, Mlle. Berthe Antonine (\"Mrs de Villiers\")' to Mayne, Miss. Berthe Antonine (\"Mrs de Villiers\")'                                                                 \n",
    "</ul>"
   ]
  },
  {
   "cell_type": "code",
   "execution_count": 60,
   "id": "ad3a4db2",
   "metadata": {},
   "outputs": [],
   "source": [
    "train[\"Name\"] = train[\"Name\"].str.replace(\"Ms.\",\"Miss.\", regex = True)\n",
    "train[\"Name\"] = train[\"Name\"].str.replace(\"Mme.\",\"Mrs.\", regex = True)\n",
    "train[\"Name\"] = train[\"Name\"].str.replace(\"Mlle.\",\"Miss.\", regex = True)"
   ]
  },
  {
   "cell_type": "code",
   "execution_count": 62,
   "id": "6368ed17",
   "metadata": {},
   "outputs": [
    {
     "name": "stdout",
     "output_type": "stream",
     "text": [
      "Total Names with Other Titles: 16 \n",
      "\n",
      "Names with other titles:\n"
     ]
    },
    {
     "data": {
      "text/plain": [
       "['Uruchurtu, Don. Manuel E',\n",
       " 'Byles, Rev. Thomas Roussel Davids',\n",
       " 'Bateman, Rev. Robert James',\n",
       " 'Carter, Rev. Ernest Courtenay',\n",
       " 'Peuchen, Major. Arthur Godfrey',\n",
       " 'Butt, Major. Archibald Willingham',\n",
       " 'Duff Gordon, Lady. (Lucille Christiana Sutherland) (\"Mrs Morgan\")',\n",
       " 'Duff Gordon, Sir. Cosmo Edmund (\"Mr Morgan\")',\n",
       " 'Kirkland, Rev. Charles Leonard',\n",
       " 'Simonius-Blumer, Col. Oberst Alfons',\n",
       " 'Weir, Col. John',\n",
       " 'Crosby, Capt. Edward Gifford',\n",
       " 'Rothes, the Countess. of (Lucy Noel Martha Dyer-Edwards)',\n",
       " 'Reuchlin, Jonkheer. John George',\n",
       " 'Harper, Rev. John',\n",
       " 'Montvila, Rev. Juozas']"
      ]
     },
     "execution_count": 62,
     "metadata": {},
     "output_type": "execute_result"
    }
   ],
   "source": [
    "L = [] \n",
    "for i in range(len(train)):\n",
    "    if (\"Mr.\" in train['Name'][i] or\n",
    "       \"Mrs.\" in train['Name'][i] or\n",
    "       \"Miss.\" in train['Name'][i] or\n",
    "       \"Master.\" in train['Name'][i] or\n",
    "       \"Dr.\" in train['Name'][i]):\n",
    "        continue\n",
    "    else:\n",
    "        L.append(train['Name'][i])\n",
    "print (\"Total Names with Other Titles:\",len(L),\"\\n\\nNames with other titles:\")\n",
    "L"
   ]
  },
  {
   "cell_type": "markdown",
   "id": "b41ac83e",
   "metadata": {},
   "source": [
    "### Let's put these as \"Other_Titles\" in the title column."
   ]
  },
  {
   "cell_type": "code",
   "execution_count": 66,
   "id": "f115d204",
   "metadata": {},
   "outputs": [
    {
     "name": "stderr",
     "output_type": "stream",
     "text": [
      "C:\\Users\\ayamo\\AppData\\Local\\Temp\\ipykernel_2684\\3692571288.py:9: SettingWithCopyWarning: \n",
      "A value is trying to be set on a copy of a slice from a DataFrame\n",
      "\n",
      "See the caveats in the documentation: https://pandas.pydata.org/pandas-docs/stable/user_guide/indexing.html#returning-a-view-versus-a-copy\n",
      "  train['Title'][i] = \"Other\"\n"
     ]
    },
    {
     "data": {
      "text/html": [
       "<div>\n",
       "<style scoped>\n",
       "    .dataframe tbody tr th:only-of-type {\n",
       "        vertical-align: middle;\n",
       "    }\n",
       "\n",
       "    .dataframe tbody tr th {\n",
       "        vertical-align: top;\n",
       "    }\n",
       "\n",
       "    .dataframe thead th {\n",
       "        text-align: right;\n",
       "    }\n",
       "</style>\n",
       "<table border=\"1\" class=\"dataframe\">\n",
       "  <thead>\n",
       "    <tr style=\"text-align: right;\">\n",
       "      <th></th>\n",
       "      <th>PassengerId</th>\n",
       "      <th>Survived</th>\n",
       "      <th>Pclass</th>\n",
       "      <th>Name</th>\n",
       "      <th>Sex</th>\n",
       "      <th>Age</th>\n",
       "      <th>SibSp</th>\n",
       "      <th>Parch</th>\n",
       "      <th>Ticket</th>\n",
       "      <th>Fare</th>\n",
       "      <th>Cabin</th>\n",
       "      <th>Embarked</th>\n",
       "      <th>Title</th>\n",
       "    </tr>\n",
       "  </thead>\n",
       "  <tbody>\n",
       "    <tr>\n",
       "      <th>0</th>\n",
       "      <td>1</td>\n",
       "      <td>0</td>\n",
       "      <td>3</td>\n",
       "      <td>Braund, Mr. Owen Harris</td>\n",
       "      <td>male</td>\n",
       "      <td>22.0</td>\n",
       "      <td>1</td>\n",
       "      <td>0</td>\n",
       "      <td>A/5 21171</td>\n",
       "      <td>7.2500</td>\n",
       "      <td>NaN</td>\n",
       "      <td>S</td>\n",
       "      <td>Mr</td>\n",
       "    </tr>\n",
       "    <tr>\n",
       "      <th>1</th>\n",
       "      <td>2</td>\n",
       "      <td>1</td>\n",
       "      <td>1</td>\n",
       "      <td>Cumings, Mrs. John Bradley (Florence Briggs Th...</td>\n",
       "      <td>female</td>\n",
       "      <td>38.0</td>\n",
       "      <td>1</td>\n",
       "      <td>0</td>\n",
       "      <td>PC 17599</td>\n",
       "      <td>71.2833</td>\n",
       "      <td>C85</td>\n",
       "      <td>C</td>\n",
       "      <td>Mrs</td>\n",
       "    </tr>\n",
       "    <tr>\n",
       "      <th>2</th>\n",
       "      <td>3</td>\n",
       "      <td>1</td>\n",
       "      <td>3</td>\n",
       "      <td>Heikkinen, Miss. Laina</td>\n",
       "      <td>female</td>\n",
       "      <td>26.0</td>\n",
       "      <td>0</td>\n",
       "      <td>0</td>\n",
       "      <td>STON/O2. 3101282</td>\n",
       "      <td>7.9250</td>\n",
       "      <td>NaN</td>\n",
       "      <td>S</td>\n",
       "      <td>Miss</td>\n",
       "    </tr>\n",
       "    <tr>\n",
       "      <th>3</th>\n",
       "      <td>4</td>\n",
       "      <td>1</td>\n",
       "      <td>1</td>\n",
       "      <td>Futrelle, Mrs. Jacques Heath (Lily May Peel)</td>\n",
       "      <td>female</td>\n",
       "      <td>35.0</td>\n",
       "      <td>1</td>\n",
       "      <td>0</td>\n",
       "      <td>113803</td>\n",
       "      <td>53.1000</td>\n",
       "      <td>C123</td>\n",
       "      <td>S</td>\n",
       "      <td>Mrs</td>\n",
       "    </tr>\n",
       "    <tr>\n",
       "      <th>4</th>\n",
       "      <td>5</td>\n",
       "      <td>0</td>\n",
       "      <td>3</td>\n",
       "      <td>Allen, Mr. William Henry</td>\n",
       "      <td>male</td>\n",
       "      <td>35.0</td>\n",
       "      <td>0</td>\n",
       "      <td>0</td>\n",
       "      <td>373450</td>\n",
       "      <td>8.0500</td>\n",
       "      <td>NaN</td>\n",
       "      <td>S</td>\n",
       "      <td>Mr</td>\n",
       "    </tr>\n",
       "  </tbody>\n",
       "</table>\n",
       "</div>"
      ],
      "text/plain": [
       "   PassengerId  Survived Pclass  \\\n",
       "0            1         0      3   \n",
       "1            2         1      1   \n",
       "2            3         1      3   \n",
       "3            4         1      1   \n",
       "4            5         0      3   \n",
       "\n",
       "                                                Name     Sex   Age  SibSp  \\\n",
       "0                            Braund, Mr. Owen Harris    male  22.0      1   \n",
       "1  Cumings, Mrs. John Bradley (Florence Briggs Th...  female  38.0      1   \n",
       "2                             Heikkinen, Miss. Laina  female  26.0      0   \n",
       "3       Futrelle, Mrs. Jacques Heath (Lily May Peel)  female  35.0      1   \n",
       "4                           Allen, Mr. William Henry    male  35.0      0   \n",
       "\n",
       "   Parch            Ticket     Fare Cabin Embarked Title  \n",
       "0      0         A/5 21171   7.2500   NaN        S    Mr  \n",
       "1      0          PC 17599  71.2833   C85        C   Mrs  \n",
       "2      0  STON/O2. 3101282   7.9250   NaN        S  Miss  \n",
       "3      0            113803  53.1000  C123        S   Mrs  \n",
       "4      0            373450   8.0500   NaN        S    Mr  "
      ]
     },
     "execution_count": 66,
     "metadata": {},
     "output_type": "execute_result"
    }
   ],
   "source": [
    "for i in range(len(train)):\n",
    "    if (\"Mr.\" in train['Name'][i] or\n",
    "        \"Mrs.\" in train['Name'][i] or\n",
    "        \"Miss.\" in train['Name'][i] or\n",
    "        \"Master.\" in train['Name'][i] or\n",
    "        \"Dr.\" in train['Name'][i]):\n",
    "        continue\n",
    "    else:\n",
    "        train['Title'][i] = \"Other\"\n",
    "train.head()"
   ]
  },
  {
   "cell_type": "code",
   "execution_count": 69,
   "id": "42a6377a",
   "metadata": {},
   "outputs": [
    {
     "data": {
      "text/plain": [
       "count     891\n",
       "unique      7\n",
       "top        Mr\n",
       "freq      517\n",
       "Name: Title, dtype: object"
      ]
     },
     "execution_count": 69,
     "metadata": {},
     "output_type": "execute_result"
    }
   ],
   "source": [
    "train.Title.describe()"
   ]
  },
  {
   "cell_type": "code",
   "execution_count": 70,
   "id": "c5e377db",
   "metadata": {},
   "outputs": [
    {
     "name": "stdout",
     "output_type": "stream",
     "text": [
      "<class 'pandas.core.frame.DataFrame'>\n",
      "RangeIndex: 891 entries, 0 to 890\n",
      "Data columns (total 13 columns):\n",
      " #   Column       Non-Null Count  Dtype  \n",
      "---  ------       --------------  -----  \n",
      " 0   PassengerId  891 non-null    int64  \n",
      " 1   Survived     891 non-null    int64  \n",
      " 2   Pclass       891 non-null    object \n",
      " 3   Name         891 non-null    object \n",
      " 4   Sex          891 non-null    object \n",
      " 5   Age          714 non-null    float64\n",
      " 6   SibSp        891 non-null    int64  \n",
      " 7   Parch        891 non-null    int64  \n",
      " 8   Ticket       891 non-null    object \n",
      " 9   Fare         891 non-null    float64\n",
      " 10  Cabin        204 non-null    object \n",
      " 11  Embarked     889 non-null    object \n",
      " 12  Title        891 non-null    object \n",
      "dtypes: float64(2), int64(4), object(7)\n",
      "memory usage: 90.6+ KB\n"
     ]
    }
   ],
   "source": [
    "train.info()"
   ]
  },
  {
   "cell_type": "markdown",
   "id": "73d364c2",
   "metadata": {},
   "source": [
    "### Feature: Sex\n",
    "Relavance of the feature:"
   ]
  },
  {
   "cell_type": "code",
   "execution_count": 71,
   "id": "03b0a2f7",
   "metadata": {},
   "outputs": [
    {
     "data": {
      "text/plain": [
       "Sex\n",
       "female    0.742038\n",
       "male      0.188908\n",
       "Name: Survived, dtype: float64"
      ]
     },
     "execution_count": 71,
     "metadata": {},
     "output_type": "execute_result"
    }
   ],
   "source": [
    "train.groupby([\"Sex\"])[\"Survived\"].mean()"
   ]
  },
  {
   "cell_type": "code",
   "execution_count": 72,
   "id": "807d3607",
   "metadata": {},
   "outputs": [
    {
     "data": {
      "text/plain": [
       "0"
      ]
     },
     "execution_count": 72,
     "metadata": {},
     "output_type": "execute_result"
    }
   ],
   "source": [
    "train[\"Sex\"].isnull().sum()"
   ]
  },
  {
   "cell_type": "code",
   "execution_count": 73,
   "id": "268f2395",
   "metadata": {},
   "outputs": [
    {
     "data": {
      "text/plain": [
       "count      891\n",
       "unique       2\n",
       "top       male\n",
       "freq       577\n",
       "Name: Sex, dtype: object"
      ]
     },
     "execution_count": 73,
     "metadata": {},
     "output_type": "execute_result"
    }
   ],
   "source": [
    "train[\"Sex\"].describe()"
   ]
  },
  {
   "cell_type": "markdown",
   "id": "ffe13c82",
   "metadata": {},
   "source": [
    "### Let's change the \"male\" and \"female\" to \"1\" and \"0\" respectively, for analysis purposes."
   ]
  },
  {
   "cell_type": "code",
   "execution_count": 74,
   "id": "483f2f96",
   "metadata": {},
   "outputs": [
    {
     "name": "stderr",
     "output_type": "stream",
     "text": [
      "C:\\Users\\ayamo\\AppData\\Local\\Temp\\ipykernel_2684\\3189518870.py:3: SettingWithCopyWarning: \n",
      "A value is trying to be set on a copy of a slice from a DataFrame\n",
      "\n",
      "See the caveats in the documentation: https://pandas.pydata.org/pandas-docs/stable/user_guide/indexing.html#returning-a-view-versus-a-copy\n",
      "  train[\"Sex\"][i] = train[\"Sex\"][i].replace(\"male\",\"1\")\n",
      "C:\\Users\\ayamo\\AppData\\Local\\Temp\\ipykernel_2684\\3189518870.py:5: SettingWithCopyWarning: \n",
      "A value is trying to be set on a copy of a slice from a DataFrame\n",
      "\n",
      "See the caveats in the documentation: https://pandas.pydata.org/pandas-docs/stable/user_guide/indexing.html#returning-a-view-versus-a-copy\n",
      "  train[\"Sex\"][i] = train[\"Sex\"][i].replace(\"female\",\"0\")\n"
     ]
    }
   ],
   "source": [
    "for i in range(len(train)):\n",
    "    if (train[\"Sex\"][i] == 'male'):\n",
    "        train[\"Sex\"][i] = train[\"Sex\"][i].replace(\"male\",\"1\")\n",
    "    else:\n",
    "        train[\"Sex\"][i] = train[\"Sex\"][i].replace(\"female\",\"0\")"
   ]
  },
  {
   "cell_type": "code",
   "execution_count": 75,
   "id": "ce62e66d",
   "metadata": {},
   "outputs": [
    {
     "data": {
      "text/plain": [
       "array(['1', '0'], dtype=object)"
      ]
     },
     "execution_count": 75,
     "metadata": {},
     "output_type": "execute_result"
    }
   ],
   "source": [
    "train.Sex.unique()"
   ]
  },
  {
   "cell_type": "code",
   "execution_count": 77,
   "id": "a7115084",
   "metadata": {},
   "outputs": [
    {
     "data": {
      "text/html": [
       "<div>\n",
       "<style scoped>\n",
       "    .dataframe tbody tr th:only-of-type {\n",
       "        vertical-align: middle;\n",
       "    }\n",
       "\n",
       "    .dataframe tbody tr th {\n",
       "        vertical-align: top;\n",
       "    }\n",
       "\n",
       "    .dataframe thead th {\n",
       "        text-align: right;\n",
       "    }\n",
       "</style>\n",
       "<table border=\"1\" class=\"dataframe\">\n",
       "  <thead>\n",
       "    <tr style=\"text-align: right;\">\n",
       "      <th></th>\n",
       "      <th>PassengerId</th>\n",
       "      <th>Survived</th>\n",
       "      <th>Pclass</th>\n",
       "      <th>Name</th>\n",
       "      <th>Sex</th>\n",
       "      <th>Age</th>\n",
       "      <th>SibSp</th>\n",
       "      <th>Parch</th>\n",
       "      <th>Ticket</th>\n",
       "      <th>Fare</th>\n",
       "      <th>Cabin</th>\n",
       "      <th>Embarked</th>\n",
       "      <th>Title</th>\n",
       "    </tr>\n",
       "  </thead>\n",
       "  <tbody>\n",
       "    <tr>\n",
       "      <th>0</th>\n",
       "      <td>1</td>\n",
       "      <td>0</td>\n",
       "      <td>3</td>\n",
       "      <td>Braund, Mr. Owen Harris</td>\n",
       "      <td>1</td>\n",
       "      <td>22.0</td>\n",
       "      <td>1</td>\n",
       "      <td>0</td>\n",
       "      <td>A/5 21171</td>\n",
       "      <td>7.2500</td>\n",
       "      <td>NaN</td>\n",
       "      <td>S</td>\n",
       "      <td>Mr</td>\n",
       "    </tr>\n",
       "    <tr>\n",
       "      <th>1</th>\n",
       "      <td>2</td>\n",
       "      <td>1</td>\n",
       "      <td>1</td>\n",
       "      <td>Cumings, Mrs. John Bradley (Florence Briggs Th...</td>\n",
       "      <td>0</td>\n",
       "      <td>38.0</td>\n",
       "      <td>1</td>\n",
       "      <td>0</td>\n",
       "      <td>PC 17599</td>\n",
       "      <td>71.2833</td>\n",
       "      <td>C85</td>\n",
       "      <td>C</td>\n",
       "      <td>Mrs</td>\n",
       "    </tr>\n",
       "    <tr>\n",
       "      <th>2</th>\n",
       "      <td>3</td>\n",
       "      <td>1</td>\n",
       "      <td>3</td>\n",
       "      <td>Heikkinen, Miss. Laina</td>\n",
       "      <td>0</td>\n",
       "      <td>26.0</td>\n",
       "      <td>0</td>\n",
       "      <td>0</td>\n",
       "      <td>STON/O2. 3101282</td>\n",
       "      <td>7.9250</td>\n",
       "      <td>NaN</td>\n",
       "      <td>S</td>\n",
       "      <td>Miss</td>\n",
       "    </tr>\n",
       "    <tr>\n",
       "      <th>3</th>\n",
       "      <td>4</td>\n",
       "      <td>1</td>\n",
       "      <td>1</td>\n",
       "      <td>Futrelle, Mrs. Jacques Heath (Lily May Peel)</td>\n",
       "      <td>0</td>\n",
       "      <td>35.0</td>\n",
       "      <td>1</td>\n",
       "      <td>0</td>\n",
       "      <td>113803</td>\n",
       "      <td>53.1000</td>\n",
       "      <td>C123</td>\n",
       "      <td>S</td>\n",
       "      <td>Mrs</td>\n",
       "    </tr>\n",
       "    <tr>\n",
       "      <th>4</th>\n",
       "      <td>5</td>\n",
       "      <td>0</td>\n",
       "      <td>3</td>\n",
       "      <td>Allen, Mr. William Henry</td>\n",
       "      <td>1</td>\n",
       "      <td>35.0</td>\n",
       "      <td>0</td>\n",
       "      <td>0</td>\n",
       "      <td>373450</td>\n",
       "      <td>8.0500</td>\n",
       "      <td>NaN</td>\n",
       "      <td>S</td>\n",
       "      <td>Mr</td>\n",
       "    </tr>\n",
       "  </tbody>\n",
       "</table>\n",
       "</div>"
      ],
      "text/plain": [
       "   PassengerId  Survived Pclass  \\\n",
       "0            1         0      3   \n",
       "1            2         1      1   \n",
       "2            3         1      3   \n",
       "3            4         1      1   \n",
       "4            5         0      3   \n",
       "\n",
       "                                                Name Sex   Age  SibSp  Parch  \\\n",
       "0                            Braund, Mr. Owen Harris   1  22.0      1      0   \n",
       "1  Cumings, Mrs. John Bradley (Florence Briggs Th...   0  38.0      1      0   \n",
       "2                             Heikkinen, Miss. Laina   0  26.0      0      0   \n",
       "3       Futrelle, Mrs. Jacques Heath (Lily May Peel)   0  35.0      1      0   \n",
       "4                           Allen, Mr. William Henry   1  35.0      0      0   \n",
       "\n",
       "             Ticket     Fare Cabin Embarked Title  \n",
       "0         A/5 21171   7.2500   NaN        S    Mr  \n",
       "1          PC 17599  71.2833   C85        C   Mrs  \n",
       "2  STON/O2. 3101282   7.9250   NaN        S  Miss  \n",
       "3            113803  53.1000  C123        S   Mrs  \n",
       "4            373450   8.0500   NaN        S    Mr  "
      ]
     },
     "execution_count": 77,
     "metadata": {},
     "output_type": "execute_result"
    }
   ],
   "source": [
    "train.head()"
   ]
  },
  {
   "cell_type": "markdown",
   "id": "7f809fe8",
   "metadata": {},
   "source": [
    "### Feature: Age\n",
    "Relevance of the feature:"
   ]
  },
  {
   "cell_type": "code",
   "execution_count": 84,
   "id": "cf016386",
   "metadata": {},
   "outputs": [
    {
     "name": "stderr",
     "output_type": "stream",
     "text": [
      "C:\\Users\\ayamo\\AppData\\Local\\Temp\\ipykernel_2684\\3918594064.py:1: UserWarning: \n",
      "\n",
      "`distplot` is a deprecated function and will be removed in seaborn v0.14.0.\n",
      "\n",
      "Please adapt your code to use either `displot` (a figure-level function with\n",
      "similar flexibility) or `histplot` (an axes-level function for histograms).\n",
      "\n",
      "For a guide to updating your code to use the new functions, please see\n",
      "https://gist.github.com/mwaskom/de44147ed2974457ad6372750bbe5751\n",
      "\n",
      "  sns.distplot(train[\"Age\"][train[\"Survived\"]==0], color='b',bins = 15)\n",
      "C:\\Users\\ayamo\\AppData\\Local\\Temp\\ipykernel_2684\\3918594064.py:2: UserWarning: \n",
      "\n",
      "`distplot` is a deprecated function and will be removed in seaborn v0.14.0.\n",
      "\n",
      "Please adapt your code to use either `displot` (a figure-level function with\n",
      "similar flexibility) or `histplot` (an axes-level function for histograms).\n",
      "\n",
      "For a guide to updating your code to use the new functions, please see\n",
      "https://gist.github.com/mwaskom/de44147ed2974457ad6372750bbe5751\n",
      "\n",
      "  sns.distplot(train[\"Age\"][train[\"Survived\"]==1], color=\"r\",bins = 15)\n"
     ]
    },
    {
     "data": {
      "text/plain": [
       "<Axes: xlabel='Age', ylabel='Density'>"
      ]
     },
     "execution_count": 84,
     "metadata": {},
     "output_type": "execute_result"
    },
    {
     "data": {
      "image/png": "[encoded data removed]",
      "text/plain": [
       "<Figure size 640x480 with 1 Axes>"
      ]
     },
     "metadata": {},
     "output_type": "display_data"
    }
   ],
   "source": [
    "sns.distplot(train[\"Age\"][train[\"Survived\"]==0], color='b',bins = 15)\n",
    "sns.distplot(train[\"Age\"][train[\"Survived\"]==1], color=\"r\",bins = 15)"
   ]
  },
  {
   "cell_type": "markdown",
   "id": "2515417c",
   "metadata": {},
   "source": [
    "#### Note: Blue graph is for \"Unsurvived\" = 0 and Red is for \"Survived\" = 1\n",
    "\n",
    "Following is evident from the graphs:\n",
    "<ul>\n",
    "     <li> The feature seems to be following a normal distribution. </li>\n",
    "\n",
    "  <li>Most of the kids (age 0 to about 15 years) seem to have survived</li>\n",
    "     <li>More passengers between the age of 20 and 30 years to have died rather than survived.</li>\n",
    "</ul>\n",
    "        \n",
    "The pattern we can see here is that passengers with very less age have survived more than died, and\n",
    "opposite is the case for passengers with ages between 20 and 30 years.\n",
    "\n",
    "Therefore, age seems to have an impact on the survival probability."
   ]
  },
  {
   "cell_type": "code",
   "execution_count": 186,
   "id": "4408f351",
   "metadata": {},
   "outputs": [
    {
     "data": {
      "text/plain": [
       "count    891.000000\n",
       "mean      29.762144\n",
       "std       13.280454\n",
       "min        0.420000\n",
       "25%       21.800000\n",
       "50%       30.000000\n",
       "75%       35.800000\n",
       "max       80.000000\n",
       "Name: Age, dtype: float64"
      ]
     },
     "execution_count": 186,
     "metadata": {},
     "output_type": "execute_result"
    }
   ],
   "source": [
    "train.Age.describe()"
   ]
  },
  {
   "cell_type": "code",
   "execution_count": 103,
   "id": "640368af",
   "metadata": {},
   "outputs": [
    {
     "data": {
      "image/png": "[encoded data removed]",
      "text/plain": [
       "<Figure size 640x480 with 1 Axes>"
      ]
     },
     "metadata": {},
     "output_type": "display_data"
    }
   ],
   "source": [
    "sns.set_theme(style=\"whitegrid\")\n",
    "sns.boxplot(train[\"Age\"], width = 0.8)\n",
    "plt.show()"
   ]
  },
  {
   "cell_type": "code",
   "execution_count": 104,
   "id": "dabc77c0",
   "metadata": {},
   "outputs": [
    {
     "data": {
      "text/plain": [
       "PassengerId    13\n",
       "Survived       13\n",
       "Pclass         13\n",
       "Name           13\n",
       "Sex            13\n",
       "Age            13\n",
       "SibSp          13\n",
       "Parch          13\n",
       "Ticket         13\n",
       "Fare           13\n",
       "Cabin           6\n",
       "Embarked       13\n",
       "Title          13\n",
       "dtype: int64"
      ]
     },
     "execution_count": 104,
     "metadata": {},
     "output_type": "execute_result"
    }
   ],
   "source": [
    "train[train[\"Age\"]>63].count()"
   ]
  },
  {
   "cell_type": "code",
   "execution_count": 105,
   "id": "1d4db441",
   "metadata": {},
   "outputs": [
    {
     "data": {
      "text/plain": [
       "177"
      ]
     },
     "execution_count": 105,
     "metadata": {},
     "output_type": "execute_result"
    }
   ],
   "source": [
    "train[\"Age\"].isnull().sum()"
   ]
  },
  {
   "cell_type": "markdown",
   "id": "69b9a706",
   "metadata": {},
   "source": [
    "#### Since there are many null values in the column, let's impute them.\n",
    "\n",
    "In order to have a finer estimation, we'll find out the mean age according to the title and impute\n",
    "values accordingly"
   ]
  },
  {
   "cell_type": "code",
   "execution_count": 113,
   "id": "21f065d5",
   "metadata": {},
   "outputs": [],
   "source": [
    "mr_age = []\n",
    "for i in range(len(train)):\n",
    "        if (\"Mr.\" in train[\"Name\"][i]):\n",
    "            mr_age.append(train[\"Age\"][i])\n",
    "mrs_age = []\n",
    "for i in range(len(train)):\n",
    "    if (\"Mrs.\" in train[\"Name\"][i]):\n",
    "        mrs_age.append(train[\"Age\"][i])\n",
    " \n",
    "miss_age = []\n",
    "for i in range(len(train)):\n",
    "    if (\"Miss.\" in train[\"Name\"][i]):\n",
    "        miss_age.append(train[\"Age\"][i])\n",
    "master_age = []\n",
    "for i in range(len(train)):\n",
    "      if (\"Master.\" in train[\"Name\"][i]):\n",
    "        master_age.append(train[\"Age\"][i])\n",
    "\n",
    "other_age = []\n",
    "for i in range(len(train)):\n",
    "    if (\"Mr.\" in train['Name'][i] or\n",
    "        \"Mrs.\" in train['Name'][i] or\n",
    "        \"Miss.\" in train['Name'][i] or\n",
    "        \"Master.\" in train['Name'][i]):\n",
    "        continue\n",
    "    else:\n",
    "        other_age.append(train['Age'][i])"
   ]
  },
  {
   "cell_type": "code",
   "execution_count": 114,
   "id": "aca0a84b",
   "metadata": {},
   "outputs": [
    {
     "data": {
      "text/plain": [
       "0      22.0\n",
       "1      35.0\n",
       "2       NaN\n",
       "3      54.0\n",
       "4      20.0\n",
       "       ... \n",
       "512    33.0\n",
       "513    28.0\n",
       "514    25.0\n",
       "515    26.0\n",
       "516    32.0\n",
       "Length: 517, dtype: float64"
      ]
     },
     "execution_count": 114,
     "metadata": {},
     "output_type": "execute_result"
    }
   ],
   "source": [
    "mr_age_df = pd.Series(mr_age)\n",
    "mrs_age_df = pd.Series(mrs_age)\n",
    "miss_age_df = pd.Series(miss_age)\n",
    "master_age_df = pd.Series(master_age)\n",
    "other_age_df = pd.Series(other_age)"
   ]
  },
  {
   "cell_type": "code",
   "execution_count": 118,
   "id": "cc0f7ae5",
   "metadata": {},
   "outputs": [
    {
     "name": "stdout",
     "output_type": "stream",
     "text": [
      "Mr. mean age: 32.4 \n",
      "Mrs. mean age: 35.8 \n",
      "Miss. mean 21.8 \n",
      "Master. mean age: 4.6 \n",
      "Other mean age: 45.5\n"
     ]
    }
   ],
   "source": [
    "mr_age_df_mean = round((mr_age_df.mean()),1)\n",
    "mrs_age_df_mean = round((mrs_age_df.mean()),1)\n",
    "miss_age_df_mean = round((miss_age_df.mean()),1)\n",
    "master_age_df_mean = round((master_age_df.mean()),1)\n",
    "other_age_df_mean = round((other_age_df.mean()),1)\n",
    "print(\"Mr. mean age:\", mr_age_df_mean, \"\\nMrs. mean age:\", mrs_age_df_mean,\"\\nMiss. mean\"\n",
    " ,miss_age_df_mean,\"\\nMaster. mean age:\",master_age_df_mean,\"\\nOther mean age:\",other_age_df_mean)"
   ]
  },
  {
   "cell_type": "code",
   "execution_count": 119,
   "id": "bf0c75bc",
   "metadata": {},
   "outputs": [
    {
     "name": "stdout",
     "output_type": "stream",
     "text": [
      "Mr. null age total: 119 \n",
      "Mrs. null age total: 17 \n",
      "Miss. null age total: 36 \n",
      "Master. null age total: 4 \n",
      "Other null age total: 1\n"
     ]
    },
    {
     "name": "stderr",
     "output_type": "stream",
     "text": [
      "C:\\Users\\ayamo\\AppData\\Local\\Temp\\ipykernel_2684\\2322379991.py:10: SettingWithCopyWarning: \n",
      "A value is trying to be set on a copy of a slice from a DataFrame\n",
      "\n",
      "See the caveats in the documentation: https://pandas.pydata.org/pandas-docs/stable/user_guide/indexing.html#returning-a-view-versus-a-copy\n",
      "  train[\"Age\"][i] = mr_age_df_mean\n",
      "C:\\Users\\ayamo\\AppData\\Local\\Temp\\ipykernel_2684\\2322379991.py:13: SettingWithCopyWarning: \n",
      "A value is trying to be set on a copy of a slice from a DataFrame\n",
      "\n",
      "See the caveats in the documentation: https://pandas.pydata.org/pandas-docs/stable/user_guide/indexing.html#returning-a-view-versus-a-copy\n",
      "  train[\"Age\"][i] = mrs_age_df_mean\n",
      "C:\\Users\\ayamo\\AppData\\Local\\Temp\\ipykernel_2684\\2322379991.py:16: SettingWithCopyWarning: \n",
      "A value is trying to be set on a copy of a slice from a DataFrame\n",
      "\n",
      "See the caveats in the documentation: https://pandas.pydata.org/pandas-docs/stable/user_guide/indexing.html#returning-a-view-versus-a-copy\n",
      "  train[\"Age\"][i] = miss_age_df_mean\n",
      "C:\\Users\\ayamo\\AppData\\Local\\Temp\\ipykernel_2684\\2322379991.py:19: SettingWithCopyWarning: \n",
      "A value is trying to be set on a copy of a slice from a DataFrame\n",
      "\n",
      "See the caveats in the documentation: https://pandas.pydata.org/pandas-docs/stable/user_guide/indexing.html#returning-a-view-versus-a-copy\n",
      "  train[\"Age\"][i] = master_age_df_mean\n",
      "C:\\Users\\ayamo\\AppData\\Local\\Temp\\ipykernel_2684\\2322379991.py:22: SettingWithCopyWarning: \n",
      "A value is trying to be set on a copy of a slice from a DataFrame\n",
      "\n",
      "See the caveats in the documentation: https://pandas.pydata.org/pandas-docs/stable/user_guide/indexing.html#returning-a-view-versus-a-copy\n",
      "  train[\"Age\"][i] = other_age_df_mean\n"
     ]
    }
   ],
   "source": [
    "\n",
    "Age_null_list = list(train[\"Age\"].isnull())\n",
    "a = 0\n",
    "b = 0\n",
    "c = 0\n",
    "d = 0\n",
    "e = 0\n",
    "for i in range(len(train)):\n",
    "  if ((\"Mr.\" in train[\"Name\"][i]) and (Age_null_list[i] is True)):\n",
    "      a = a + 1\n",
    "      train[\"Age\"][i] = mr_age_df_mean\n",
    "  elif ((\"Mrs.\" in train[\"Name\"][i]) and (Age_null_list[i] is True)):\n",
    "       b = b + 1\n",
    "       train[\"Age\"][i] = mrs_age_df_mean\n",
    "  elif ((\"Miss.\" in train[\"Name\"][i]) and (Age_null_list[i] is True)):\n",
    "       c = c + 1\n",
    "       train[\"Age\"][i] = miss_age_df_mean\n",
    "  elif ((\"Master.\" in train[\"Name\"][i]) and (Age_null_list[i] is True)):\n",
    "       d = d + 1\n",
    "       train[\"Age\"][i] = master_age_df_mean\n",
    "  elif (Age_null_list[i] is True):\n",
    "       e = e + 1\n",
    "       train[\"Age\"][i] = other_age_df_mean\n",
    "print(\"Mr. null age total:\",a,\"\\nMrs. null age total:\",b,\"\\nMiss. null age total:\",c,\n",
    " \"\\nMaster. null age total:\",d,\"\\nOther null age total:\",e)\n"
   ]
  },
  {
   "cell_type": "code",
   "execution_count": 120,
   "id": "bcf8e7f2",
   "metadata": {},
   "outputs": [
    {
     "data": {
      "text/html": [
       "<div>\n",
       "<style scoped>\n",
       "    .dataframe tbody tr th:only-of-type {\n",
       "        vertical-align: middle;\n",
       "    }\n",
       "\n",
       "    .dataframe tbody tr th {\n",
       "        vertical-align: top;\n",
       "    }\n",
       "\n",
       "    .dataframe thead th {\n",
       "        text-align: right;\n",
       "    }\n",
       "</style>\n",
       "<table border=\"1\" class=\"dataframe\">\n",
       "  <thead>\n",
       "    <tr style=\"text-align: right;\">\n",
       "      <th></th>\n",
       "      <th>PassengerId</th>\n",
       "      <th>Survived</th>\n",
       "      <th>Pclass</th>\n",
       "      <th>Name</th>\n",
       "      <th>Sex</th>\n",
       "      <th>Age</th>\n",
       "      <th>SibSp</th>\n",
       "      <th>Parch</th>\n",
       "      <th>Ticket</th>\n",
       "      <th>Fare</th>\n",
       "      <th>Cabin</th>\n",
       "      <th>Embarked</th>\n",
       "      <th>Title</th>\n",
       "    </tr>\n",
       "  </thead>\n",
       "  <tbody>\n",
       "    <tr>\n",
       "      <th>0</th>\n",
       "      <td>1</td>\n",
       "      <td>0</td>\n",
       "      <td>3</td>\n",
       "      <td>Braund, Mr. Owen Harris</td>\n",
       "      <td>1</td>\n",
       "      <td>22.0</td>\n",
       "      <td>1</td>\n",
       "      <td>0</td>\n",
       "      <td>A/5 21171</td>\n",
       "      <td>7.2500</td>\n",
       "      <td>NaN</td>\n",
       "      <td>S</td>\n",
       "      <td>Mr</td>\n",
       "    </tr>\n",
       "    <tr>\n",
       "      <th>1</th>\n",
       "      <td>2</td>\n",
       "      <td>1</td>\n",
       "      <td>1</td>\n",
       "      <td>Cumings, Mrs. John Bradley (Florence Briggs Th...</td>\n",
       "      <td>0</td>\n",
       "      <td>38.0</td>\n",
       "      <td>1</td>\n",
       "      <td>0</td>\n",
       "      <td>PC 17599</td>\n",
       "      <td>71.2833</td>\n",
       "      <td>C85</td>\n",
       "      <td>C</td>\n",
       "      <td>Mrs</td>\n",
       "    </tr>\n",
       "    <tr>\n",
       "      <th>2</th>\n",
       "      <td>3</td>\n",
       "      <td>1</td>\n",
       "      <td>3</td>\n",
       "      <td>Heikkinen, Miss. Laina</td>\n",
       "      <td>0</td>\n",
       "      <td>26.0</td>\n",
       "      <td>0</td>\n",
       "      <td>0</td>\n",
       "      <td>STON/O2. 3101282</td>\n",
       "      <td>7.9250</td>\n",
       "      <td>NaN</td>\n",
       "      <td>S</td>\n",
       "      <td>Miss</td>\n",
       "    </tr>\n",
       "    <tr>\n",
       "      <th>3</th>\n",
       "      <td>4</td>\n",
       "      <td>1</td>\n",
       "      <td>1</td>\n",
       "      <td>Futrelle, Mrs. Jacques Heath (Lily May Peel)</td>\n",
       "      <td>0</td>\n",
       "      <td>35.0</td>\n",
       "      <td>1</td>\n",
       "      <td>0</td>\n",
       "      <td>113803</td>\n",
       "      <td>53.1000</td>\n",
       "      <td>C123</td>\n",
       "      <td>S</td>\n",
       "      <td>Mrs</td>\n",
       "    </tr>\n",
       "    <tr>\n",
       "      <th>4</th>\n",
       "      <td>5</td>\n",
       "      <td>0</td>\n",
       "      <td>3</td>\n",
       "      <td>Allen, Mr. William Henry</td>\n",
       "      <td>1</td>\n",
       "      <td>35.0</td>\n",
       "      <td>0</td>\n",
       "      <td>0</td>\n",
       "      <td>373450</td>\n",
       "      <td>8.0500</td>\n",
       "      <td>NaN</td>\n",
       "      <td>S</td>\n",
       "      <td>Mr</td>\n",
       "    </tr>\n",
       "    <tr>\n",
       "      <th>5</th>\n",
       "      <td>6</td>\n",
       "      <td>0</td>\n",
       "      <td>3</td>\n",
       "      <td>Moran, Mr. James</td>\n",
       "      <td>1</td>\n",
       "      <td>32.4</td>\n",
       "      <td>0</td>\n",
       "      <td>0</td>\n",
       "      <td>330877</td>\n",
       "      <td>8.4583</td>\n",
       "      <td>NaN</td>\n",
       "      <td>Q</td>\n",
       "      <td>Mr</td>\n",
       "    </tr>\n",
       "    <tr>\n",
       "      <th>6</th>\n",
       "      <td>7</td>\n",
       "      <td>0</td>\n",
       "      <td>1</td>\n",
       "      <td>McCarthy, Mr. Timothy J</td>\n",
       "      <td>1</td>\n",
       "      <td>54.0</td>\n",
       "      <td>0</td>\n",
       "      <td>0</td>\n",
       "      <td>17463</td>\n",
       "      <td>51.8625</td>\n",
       "      <td>E46</td>\n",
       "      <td>S</td>\n",
       "      <td>Mr</td>\n",
       "    </tr>\n",
       "    <tr>\n",
       "      <th>7</th>\n",
       "      <td>8</td>\n",
       "      <td>0</td>\n",
       "      <td>3</td>\n",
       "      <td>Palsson, Master. Gosta Leonard</td>\n",
       "      <td>1</td>\n",
       "      <td>2.0</td>\n",
       "      <td>3</td>\n",
       "      <td>1</td>\n",
       "      <td>349909</td>\n",
       "      <td>21.0750</td>\n",
       "      <td>NaN</td>\n",
       "      <td>S</td>\n",
       "      <td>Master</td>\n",
       "    </tr>\n",
       "    <tr>\n",
       "      <th>8</th>\n",
       "      <td>9</td>\n",
       "      <td>1</td>\n",
       "      <td>3</td>\n",
       "      <td>Johnson, Mrs. Oscar W (Elisabeth Vilhelmina Berg)</td>\n",
       "      <td>0</td>\n",
       "      <td>27.0</td>\n",
       "      <td>0</td>\n",
       "      <td>2</td>\n",
       "      <td>347742</td>\n",
       "      <td>11.1333</td>\n",
       "      <td>NaN</td>\n",
       "      <td>S</td>\n",
       "      <td>Mrs</td>\n",
       "    </tr>\n",
       "    <tr>\n",
       "      <th>9</th>\n",
       "      <td>10</td>\n",
       "      <td>1</td>\n",
       "      <td>2</td>\n",
       "      <td>Nasser, Mrs. Nicholas (Adele Achem)</td>\n",
       "      <td>0</td>\n",
       "      <td>14.0</td>\n",
       "      <td>1</td>\n",
       "      <td>0</td>\n",
       "      <td>237736</td>\n",
       "      <td>30.0708</td>\n",
       "      <td>NaN</td>\n",
       "      <td>C</td>\n",
       "      <td>Mrs</td>\n",
       "    </tr>\n",
       "    <tr>\n",
       "      <th>10</th>\n",
       "      <td>11</td>\n",
       "      <td>1</td>\n",
       "      <td>3</td>\n",
       "      <td>Sandstrom, Miss. Marguerite Rut</td>\n",
       "      <td>0</td>\n",
       "      <td>4.0</td>\n",
       "      <td>1</td>\n",
       "      <td>1</td>\n",
       "      <td>PP 9549</td>\n",
       "      <td>16.7000</td>\n",
       "      <td>G6</td>\n",
       "      <td>S</td>\n",
       "      <td>Miss</td>\n",
       "    </tr>\n",
       "    <tr>\n",
       "      <th>11</th>\n",
       "      <td>12</td>\n",
       "      <td>1</td>\n",
       "      <td>1</td>\n",
       "      <td>Bonnell, Miss. Elizabeth</td>\n",
       "      <td>0</td>\n",
       "      <td>58.0</td>\n",
       "      <td>0</td>\n",
       "      <td>0</td>\n",
       "      <td>113783</td>\n",
       "      <td>26.5500</td>\n",
       "      <td>C103</td>\n",
       "      <td>S</td>\n",
       "      <td>Miss</td>\n",
       "    </tr>\n",
       "    <tr>\n",
       "      <th>12</th>\n",
       "      <td>13</td>\n",
       "      <td>0</td>\n",
       "      <td>3</td>\n",
       "      <td>Saundercock, Mr. William Henry</td>\n",
       "      <td>1</td>\n",
       "      <td>20.0</td>\n",
       "      <td>0</td>\n",
       "      <td>0</td>\n",
       "      <td>A/5. 2151</td>\n",
       "      <td>8.0500</td>\n",
       "      <td>NaN</td>\n",
       "      <td>S</td>\n",
       "      <td>Mr</td>\n",
       "    </tr>\n",
       "    <tr>\n",
       "      <th>13</th>\n",
       "      <td>14</td>\n",
       "      <td>0</td>\n",
       "      <td>3</td>\n",
       "      <td>Andersson, Mr. Anders Johan</td>\n",
       "      <td>1</td>\n",
       "      <td>39.0</td>\n",
       "      <td>1</td>\n",
       "      <td>5</td>\n",
       "      <td>347082</td>\n",
       "      <td>31.2750</td>\n",
       "      <td>NaN</td>\n",
       "      <td>S</td>\n",
       "      <td>Mr</td>\n",
       "    </tr>\n",
       "    <tr>\n",
       "      <th>14</th>\n",
       "      <td>15</td>\n",
       "      <td>0</td>\n",
       "      <td>3</td>\n",
       "      <td>Vestrom, Miss. Hulda Amanda Adolfina</td>\n",
       "      <td>0</td>\n",
       "      <td>14.0</td>\n",
       "      <td>0</td>\n",
       "      <td>0</td>\n",
       "      <td>350406</td>\n",
       "      <td>7.8542</td>\n",
       "      <td>NaN</td>\n",
       "      <td>S</td>\n",
       "      <td>Miss</td>\n",
       "    </tr>\n",
       "    <tr>\n",
       "      <th>15</th>\n",
       "      <td>16</td>\n",
       "      <td>1</td>\n",
       "      <td>2</td>\n",
       "      <td>Hewlett, Mrs. (Mary D Kingcome)</td>\n",
       "      <td>0</td>\n",
       "      <td>55.0</td>\n",
       "      <td>0</td>\n",
       "      <td>0</td>\n",
       "      <td>248706</td>\n",
       "      <td>16.0000</td>\n",
       "      <td>NaN</td>\n",
       "      <td>S</td>\n",
       "      <td>Mrs</td>\n",
       "    </tr>\n",
       "    <tr>\n",
       "      <th>16</th>\n",
       "      <td>17</td>\n",
       "      <td>0</td>\n",
       "      <td>3</td>\n",
       "      <td>Rice, Master. Eugene</td>\n",
       "      <td>1</td>\n",
       "      <td>2.0</td>\n",
       "      <td>4</td>\n",
       "      <td>1</td>\n",
       "      <td>382652</td>\n",
       "      <td>29.1250</td>\n",
       "      <td>NaN</td>\n",
       "      <td>Q</td>\n",
       "      <td>Master</td>\n",
       "    </tr>\n",
       "    <tr>\n",
       "      <th>17</th>\n",
       "      <td>18</td>\n",
       "      <td>1</td>\n",
       "      <td>2</td>\n",
       "      <td>Williams, Mr. Charles Eugene</td>\n",
       "      <td>1</td>\n",
       "      <td>32.4</td>\n",
       "      <td>0</td>\n",
       "      <td>0</td>\n",
       "      <td>244373</td>\n",
       "      <td>13.0000</td>\n",
       "      <td>NaN</td>\n",
       "      <td>S</td>\n",
       "      <td>Mr</td>\n",
       "    </tr>\n",
       "    <tr>\n",
       "      <th>18</th>\n",
       "      <td>19</td>\n",
       "      <td>0</td>\n",
       "      <td>3</td>\n",
       "      <td>Vander Planke, Mrs. Julius (Emelia Maria Vande...</td>\n",
       "      <td>0</td>\n",
       "      <td>31.0</td>\n",
       "      <td>1</td>\n",
       "      <td>0</td>\n",
       "      <td>345763</td>\n",
       "      <td>18.0000</td>\n",
       "      <td>NaN</td>\n",
       "      <td>S</td>\n",
       "      <td>Mrs</td>\n",
       "    </tr>\n",
       "    <tr>\n",
       "      <th>19</th>\n",
       "      <td>20</td>\n",
       "      <td>1</td>\n",
       "      <td>3</td>\n",
       "      <td>Masselmani, Mrs. Fatima</td>\n",
       "      <td>0</td>\n",
       "      <td>35.8</td>\n",
       "      <td>0</td>\n",
       "      <td>0</td>\n",
       "      <td>2649</td>\n",
       "      <td>7.2250</td>\n",
       "      <td>NaN</td>\n",
       "      <td>C</td>\n",
       "      <td>Mrs</td>\n",
       "    </tr>\n",
       "  </tbody>\n",
       "</table>\n",
       "</div>"
      ],
      "text/plain": [
       "    PassengerId  Survived Pclass  \\\n",
       "0             1         0      3   \n",
       "1             2         1      1   \n",
       "2             3         1      3   \n",
       "3             4         1      1   \n",
       "4             5         0      3   \n",
       "5             6         0      3   \n",
       "6             7         0      1   \n",
       "7             8         0      3   \n",
       "8             9         1      3   \n",
       "9            10         1      2   \n",
       "10           11         1      3   \n",
       "11           12         1      1   \n",
       "12           13         0      3   \n",
       "13           14         0      3   \n",
       "14           15         0      3   \n",
       "15           16         1      2   \n",
       "16           17         0      3   \n",
       "17           18         1      2   \n",
       "18           19         0      3   \n",
       "19           20         1      3   \n",
       "\n",
       "                                                 Name Sex   Age  SibSp  Parch  \\\n",
       "0                             Braund, Mr. Owen Harris   1  22.0      1      0   \n",
       "1   Cumings, Mrs. John Bradley (Florence Briggs Th...   0  38.0      1      0   \n",
       "2                              Heikkinen, Miss. Laina   0  26.0      0      0   \n",
       "3        Futrelle, Mrs. Jacques Heath (Lily May Peel)   0  35.0      1      0   \n",
       "4                            Allen, Mr. William Henry   1  35.0      0      0   \n",
       "5                                    Moran, Mr. James   1  32.4      0      0   \n",
       "6                             McCarthy, Mr. Timothy J   1  54.0      0      0   \n",
       "7                      Palsson, Master. Gosta Leonard   1   2.0      3      1   \n",
       "8   Johnson, Mrs. Oscar W (Elisabeth Vilhelmina Berg)   0  27.0      0      2   \n",
       "9                 Nasser, Mrs. Nicholas (Adele Achem)   0  14.0      1      0   \n",
       "10                    Sandstrom, Miss. Marguerite Rut   0   4.0      1      1   \n",
       "11                           Bonnell, Miss. Elizabeth   0  58.0      0      0   \n",
       "12                     Saundercock, Mr. William Henry   1  20.0      0      0   \n",
       "13                        Andersson, Mr. Anders Johan   1  39.0      1      5   \n",
       "14               Vestrom, Miss. Hulda Amanda Adolfina   0  14.0      0      0   \n",
       "15                   Hewlett, Mrs. (Mary D Kingcome)    0  55.0      0      0   \n",
       "16                               Rice, Master. Eugene   1   2.0      4      1   \n",
       "17                       Williams, Mr. Charles Eugene   1  32.4      0      0   \n",
       "18  Vander Planke, Mrs. Julius (Emelia Maria Vande...   0  31.0      1      0   \n",
       "19                            Masselmani, Mrs. Fatima   0  35.8      0      0   \n",
       "\n",
       "              Ticket     Fare Cabin Embarked   Title  \n",
       "0          A/5 21171   7.2500   NaN        S      Mr  \n",
       "1           PC 17599  71.2833   C85        C     Mrs  \n",
       "2   STON/O2. 3101282   7.9250   NaN        S    Miss  \n",
       "3             113803  53.1000  C123        S     Mrs  \n",
       "4             373450   8.0500   NaN        S      Mr  \n",
       "5             330877   8.4583   NaN        Q      Mr  \n",
       "6              17463  51.8625   E46        S      Mr  \n",
       "7             349909  21.0750   NaN        S  Master  \n",
       "8             347742  11.1333   NaN        S     Mrs  \n",
       "9             237736  30.0708   NaN        C     Mrs  \n",
       "10           PP 9549  16.7000    G6        S    Miss  \n",
       "11            113783  26.5500  C103        S    Miss  \n",
       "12         A/5. 2151   8.0500   NaN        S      Mr  \n",
       "13            347082  31.2750   NaN        S      Mr  \n",
       "14            350406   7.8542   NaN        S    Miss  \n",
       "15            248706  16.0000   NaN        S     Mrs  \n",
       "16            382652  29.1250   NaN        Q  Master  \n",
       "17            244373  13.0000   NaN        S      Mr  \n",
       "18            345763  18.0000   NaN        S     Mrs  \n",
       "19              2649   7.2250   NaN        C     Mrs  "
      ]
     },
     "execution_count": 120,
     "metadata": {},
     "output_type": "execute_result"
    }
   ],
   "source": [
    "train.head(20)"
   ]
  },
  {
   "cell_type": "code",
   "execution_count": 123,
   "id": "7a7736dd",
   "metadata": {},
   "outputs": [
    {
     "name": "stdout",
     "output_type": "stream",
     "text": [
      "Mr. null age total: 0 \n",
      "Mrs. null age total: 0 \n",
      "Miss. null age total: 0 \n",
      "Master. null age total: 0 \n",
      "Other null age total: 0\n"
     ]
    }
   ],
   "source": [
    "Age_null_list = list(train[\"Age\"].isnull())\n",
    "a = 0\n",
    "b = 0\n",
    "c = 0\n",
    "d = 0\n",
    "e = 0\n",
    "for i in range(len(train)):\n",
    " if ((\"Mr.\" in train[\"Name\"][i]) and (Age_null_list[i] is True)):\n",
    "      a = a + 1\n",
    " elif ((\"Mrs.\" in train[\"Name\"][i]) and (Age_null_list[i] is True)):\n",
    "       b = b + 1\n",
    " elif ((\"Miss.\" in train[\"Name\"][i]) and (Age_null_list[i] is True)):\n",
    "      c = c + 1\n",
    " elif ((\"Master.\" in train[\"Name\"][i]) and (Age_null_list[i] is True)):\n",
    "      d = d + 1\n",
    " elif (Age_null_list[i] is True):\n",
    "     e = e + 1\n",
    "print(\"Mr. null age total:\",a,\"\\nMrs. null age total:\",b,\"\\nMiss. null age total:\",c,\n",
    " \"\\nMaster. null age total:\",d,\"\\nOther null age total:\",e)"
   ]
  },
  {
   "cell_type": "markdown",
   "id": "54a277f2",
   "metadata": {},
   "source": [
    "#### No null values now!"
   ]
  },
  {
   "cell_type": "code",
   "execution_count": 124,
   "id": "9fbeb563",
   "metadata": {},
   "outputs": [
    {
     "data": {
      "text/plain": [
       "count    891.000000\n",
       "mean      29.762144\n",
       "std       13.280454\n",
       "min        0.420000\n",
       "25%       21.800000\n",
       "50%       30.000000\n",
       "75%       35.800000\n",
       "max       80.000000\n",
       "Name: Age, dtype: float64"
      ]
     },
     "execution_count": 124,
     "metadata": {},
     "output_type": "execute_result"
    }
   ],
   "source": [
    "train.Age.describe()"
   ]
  },
  {
   "cell_type": "markdown",
   "id": "ed8cf68e",
   "metadata": {},
   "source": [
    "### Feature: SibSp\n",
    "\n",
    "Relevance of the feature:"
   ]
  },
  {
   "cell_type": "code",
   "execution_count": 125,
   "id": "cd929c0b",
   "metadata": {},
   "outputs": [
    {
     "data": {
      "text/plain": [
       "SibSp\n",
       "0    0.345395\n",
       "1    0.535885\n",
       "2    0.464286\n",
       "3    0.250000\n",
       "4    0.166667\n",
       "5    0.000000\n",
       "8    0.000000\n",
       "Name: Survived, dtype: float64"
      ]
     },
     "execution_count": 125,
     "metadata": {},
     "output_type": "execute_result"
    }
   ],
   "source": [
    "train.groupby([\"SibSp\"])[\"Survived\"].mean()"
   ]
  },
  {
   "cell_type": "markdown",
   "id": "4231beb0",
   "metadata": {},
   "source": [
    "As the number of siblings/spouse increases, the chances of survival decreases. Therefore, these is a\n",
    "mathematical correlation between \"SibSp\" and \"Survival\"."
   ]
  },
  {
   "cell_type": "code",
   "execution_count": 126,
   "id": "b58e9667",
   "metadata": {},
   "outputs": [
    {
     "data": {
      "text/plain": [
       "0"
      ]
     },
     "execution_count": 126,
     "metadata": {},
     "output_type": "execute_result"
    }
   ],
   "source": [
    "train[\"SibSp\"].isnull().sum()"
   ]
  },
  {
   "cell_type": "code",
   "execution_count": 127,
   "id": "4a235a7a",
   "metadata": {},
   "outputs": [
    {
     "data": {
      "text/plain": [
       "0    608\n",
       "1    209\n",
       "2     28\n",
       "4     18\n",
       "3     16\n",
       "8      7\n",
       "5      5\n",
       "Name: SibSp, dtype: int64"
      ]
     },
     "execution_count": 127,
     "metadata": {},
     "output_type": "execute_result"
    }
   ],
   "source": [
    "train[\"SibSp\"].value_counts()"
   ]
  },
  {
   "cell_type": "markdown",
   "id": "3c3d7696",
   "metadata": {},
   "source": [
    "### Feature: Parch\n",
    "Relevance of the feature:"
   ]
  },
  {
   "cell_type": "code",
   "execution_count": 129,
   "id": "c25de11c",
   "metadata": {},
   "outputs": [
    {
     "data": {
      "text/plain": [
       "Parch\n",
       "0    0.343658\n",
       "1    0.550847\n",
       "2    0.500000\n",
       "3    0.600000\n",
       "4    0.000000\n",
       "5    0.200000\n",
       "6    0.000000\n",
       "Name: Survived, dtype: float64"
      ]
     },
     "execution_count": 129,
     "metadata": {},
     "output_type": "execute_result"
    }
   ],
   "source": [
    "train.groupby([\"Parch\"])[\"Survived\"].mean()"
   ]
  },
  {
   "cell_type": "markdown",
   "id": "b73da11e",
   "metadata": {},
   "source": [
    "For the feature \"Parch\", it is again evident that passengers with higher number of parents/children\n",
    "have lesser chances of survival. Therefore, there is a mathematical correlation between \"Parch\" and\n",
    "\"Survival\"."
   ]
  },
  {
   "cell_type": "code",
   "execution_count": 131,
   "id": "c8dee7ac",
   "metadata": {},
   "outputs": [
    {
     "data": {
      "text/plain": [
       "0"
      ]
     },
     "execution_count": 131,
     "metadata": {},
     "output_type": "execute_result"
    }
   ],
   "source": [
    "train.Parch.isnull().sum()"
   ]
  },
  {
   "cell_type": "code",
   "execution_count": 132,
   "id": "3d256304",
   "metadata": {},
   "outputs": [
    {
     "data": {
      "text/plain": [
       "0    678\n",
       "1    118\n",
       "2     80\n",
       "5      5\n",
       "3      5\n",
       "4      4\n",
       "6      1\n",
       "Name: Parch, dtype: int64"
      ]
     },
     "execution_count": 132,
     "metadata": {},
     "output_type": "execute_result"
    }
   ],
   "source": [
    "train.Parch.value_counts()"
   ]
  },
  {
   "cell_type": "code",
   "execution_count": 133,
   "id": "570c8969",
   "metadata": {},
   "outputs": [
    {
     "data": {
      "text/plain": [
       "dtype('int64')"
      ]
     },
     "execution_count": 133,
     "metadata": {},
     "output_type": "execute_result"
    }
   ],
   "source": [
    "train.Parch.dtype"
   ]
  },
  {
   "cell_type": "markdown",
   "id": "d4bdd863",
   "metadata": {},
   "source": [
    "### Let's check some data sanity!\n",
    "Passengers with \"Miss.\" and \"Master.\" salutations should not have \"Parch\" feature with value\n",
    "greater than 2."
   ]
  },
  {
   "cell_type": "code",
   "execution_count": 134,
   "id": "6b7805b8",
   "metadata": {},
   "outputs": [
    {
     "name": "stdout",
     "output_type": "stream",
     "text": [
      "\"Miss.\" with \"Parch\" > 2: 0 \n",
      "\"Master.\" with \"Parch\" > 2: 0\n"
     ]
    }
   ],
   "source": [
    "n=0\n",
    "m=0\n",
    "for i in range(len(train)):\n",
    "    if(\"Miss.\" in train[\"Name\"][i] and (train[\"Parch\"][i]>2)):\n",
    "        n=n+1\n",
    "    elif (\"Master.\" in train[\"Name\"][i] and (train[\"Parch\"][i]>2)):\n",
    "        m=m+1\n",
    "print('\\\"Miss.\" with \\\"Parch\" > 2:',n,'\\n\\\"Master.\" with \\\"Parch\" > 2:',m)"
   ]
  },
  {
   "cell_type": "markdown",
   "id": "164374be",
   "metadata": {},
   "source": [
    "### Merging \"SibSp\" and \"Parch\":\n",
    "To simplify the model, let us merge the two feature into one: \"Family\"."
   ]
  },
  {
   "cell_type": "code",
   "execution_count": 135,
   "id": "7a706043",
   "metadata": {},
   "outputs": [
    {
     "data": {
      "text/html": [
       "<div>\n",
       "<style scoped>\n",
       "    .dataframe tbody tr th:only-of-type {\n",
       "        vertical-align: middle;\n",
       "    }\n",
       "\n",
       "    .dataframe tbody tr th {\n",
       "        vertical-align: top;\n",
       "    }\n",
       "\n",
       "    .dataframe thead th {\n",
       "        text-align: right;\n",
       "    }\n",
       "</style>\n",
       "<table border=\"1\" class=\"dataframe\">\n",
       "  <thead>\n",
       "    <tr style=\"text-align: right;\">\n",
       "      <th></th>\n",
       "      <th>PassengerId</th>\n",
       "      <th>Survived</th>\n",
       "      <th>Pclass</th>\n",
       "      <th>Name</th>\n",
       "      <th>Sex</th>\n",
       "      <th>Age</th>\n",
       "      <th>SibSp</th>\n",
       "      <th>Parch</th>\n",
       "      <th>Ticket</th>\n",
       "      <th>Fare</th>\n",
       "      <th>Cabin</th>\n",
       "      <th>Embarked</th>\n",
       "      <th>Title</th>\n",
       "      <th>Family</th>\n",
       "    </tr>\n",
       "  </thead>\n",
       "  <tbody>\n",
       "    <tr>\n",
       "      <th>0</th>\n",
       "      <td>1</td>\n",
       "      <td>0</td>\n",
       "      <td>3</td>\n",
       "      <td>Braund, Mr. Owen Harris</td>\n",
       "      <td>1</td>\n",
       "      <td>22.0</td>\n",
       "      <td>1</td>\n",
       "      <td>0</td>\n",
       "      <td>A/5 21171</td>\n",
       "      <td>7.2500</td>\n",
       "      <td>NaN</td>\n",
       "      <td>S</td>\n",
       "      <td>Mr</td>\n",
       "      <td>1</td>\n",
       "    </tr>\n",
       "    <tr>\n",
       "      <th>1</th>\n",
       "      <td>2</td>\n",
       "      <td>1</td>\n",
       "      <td>1</td>\n",
       "      <td>Cumings, Mrs. John Bradley (Florence Briggs Th...</td>\n",
       "      <td>0</td>\n",
       "      <td>38.0</td>\n",
       "      <td>1</td>\n",
       "      <td>0</td>\n",
       "      <td>PC 17599</td>\n",
       "      <td>71.2833</td>\n",
       "      <td>C85</td>\n",
       "      <td>C</td>\n",
       "      <td>Mrs</td>\n",
       "      <td>1</td>\n",
       "    </tr>\n",
       "    <tr>\n",
       "      <th>2</th>\n",
       "      <td>3</td>\n",
       "      <td>1</td>\n",
       "      <td>3</td>\n",
       "      <td>Heikkinen, Miss. Laina</td>\n",
       "      <td>0</td>\n",
       "      <td>26.0</td>\n",
       "      <td>0</td>\n",
       "      <td>0</td>\n",
       "      <td>STON/O2. 3101282</td>\n",
       "      <td>7.9250</td>\n",
       "      <td>NaN</td>\n",
       "      <td>S</td>\n",
       "      <td>Miss</td>\n",
       "      <td>0</td>\n",
       "    </tr>\n",
       "    <tr>\n",
       "      <th>3</th>\n",
       "      <td>4</td>\n",
       "      <td>1</td>\n",
       "      <td>1</td>\n",
       "      <td>Futrelle, Mrs. Jacques Heath (Lily May Peel)</td>\n",
       "      <td>0</td>\n",
       "      <td>35.0</td>\n",
       "      <td>1</td>\n",
       "      <td>0</td>\n",
       "      <td>113803</td>\n",
       "      <td>53.1000</td>\n",
       "      <td>C123</td>\n",
       "      <td>S</td>\n",
       "      <td>Mrs</td>\n",
       "      <td>1</td>\n",
       "    </tr>\n",
       "    <tr>\n",
       "      <th>4</th>\n",
       "      <td>5</td>\n",
       "      <td>0</td>\n",
       "      <td>3</td>\n",
       "      <td>Allen, Mr. William Henry</td>\n",
       "      <td>1</td>\n",
       "      <td>35.0</td>\n",
       "      <td>0</td>\n",
       "      <td>0</td>\n",
       "      <td>373450</td>\n",
       "      <td>8.0500</td>\n",
       "      <td>NaN</td>\n",
       "      <td>S</td>\n",
       "      <td>Mr</td>\n",
       "      <td>0</td>\n",
       "    </tr>\n",
       "  </tbody>\n",
       "</table>\n",
       "</div>"
      ],
      "text/plain": [
       "   PassengerId  Survived Pclass  \\\n",
       "0            1         0      3   \n",
       "1            2         1      1   \n",
       "2            3         1      3   \n",
       "3            4         1      1   \n",
       "4            5         0      3   \n",
       "\n",
       "                                                Name Sex   Age  SibSp  Parch  \\\n",
       "0                            Braund, Mr. Owen Harris   1  22.0      1      0   \n",
       "1  Cumings, Mrs. John Bradley (Florence Briggs Th...   0  38.0      1      0   \n",
       "2                             Heikkinen, Miss. Laina   0  26.0      0      0   \n",
       "3       Futrelle, Mrs. Jacques Heath (Lily May Peel)   0  35.0      1      0   \n",
       "4                           Allen, Mr. William Henry   1  35.0      0      0   \n",
       "\n",
       "             Ticket     Fare Cabin Embarked Title  Family  \n",
       "0         A/5 21171   7.2500   NaN        S    Mr       1  \n",
       "1          PC 17599  71.2833   C85        C   Mrs       1  \n",
       "2  STON/O2. 3101282   7.9250   NaN        S  Miss       0  \n",
       "3            113803  53.1000  C123        S   Mrs       1  \n",
       "4            373450   8.0500   NaN        S    Mr       0  "
      ]
     },
     "execution_count": 135,
     "metadata": {},
     "output_type": "execute_result"
    }
   ],
   "source": [
    "train[\"Family\"] = train[\"SibSp\"] + train[\"Parch\"]\n",
    "train.head()"
   ]
  },
  {
   "cell_type": "code",
   "execution_count": 136,
   "id": "bf9fcdd8",
   "metadata": {},
   "outputs": [
    {
     "data": {
      "text/plain": [
       "Family\n",
       "0     0.303538\n",
       "1     0.552795\n",
       "2     0.578431\n",
       "3     0.724138\n",
       "4     0.200000\n",
       "5     0.136364\n",
       "6     0.333333\n",
       "7     0.000000\n",
       "10    0.000000\n",
       "Name: Survived, dtype: float64"
      ]
     },
     "execution_count": 136,
     "metadata": {},
     "output_type": "execute_result"
    }
   ],
   "source": [
    "train.groupby([\"Family\"])[\"Survived\"].mean()"
   ]
  },
  {
   "cell_type": "markdown",
   "id": "ae3589e8",
   "metadata": {},
   "source": [
    "Following conclusions can be made from the results above:\n",
    "If a person is travelling alone, there's a 30% chance of survival.\n",
    "<ul>\n",
    "     <li> If a person is travelling alone, there's a 30% chance of survival.</li>\n",
    "<li>People with 1, 2 or 3 family members have comparitively higher survival chances.\n",
    "</li>\n",
    "     <li>People with 3, 4 or 5 family members have declining survival chances</li>\n",
    "    <li> People travelling with 7 or 10 family members have 0 survival chances.</li>\n",
    "</ul>\n",
    "As we can see categories here, let's make a new column called \"Family_Size\" and categorize the\n",
    "family into:\n",
    "<ul>\n",
    "     <li>Alone</li>\n",
    "     <li>Small</li>\n",
    "     <li>Medium</li>\n",
    "    <li>Large </li>\n",
    "\n",
    "</ul>"
   ]
  },
  {
   "cell_type": "code",
   "execution_count": 143,
   "id": "caba6852",
   "metadata": {},
   "outputs": [
    {
     "data": {
      "text/html": [
       "<div>\n",
       "<style scoped>\n",
       "    .dataframe tbody tr th:only-of-type {\n",
       "        vertical-align: middle;\n",
       "    }\n",
       "\n",
       "    .dataframe tbody tr th {\n",
       "        vertical-align: top;\n",
       "    }\n",
       "\n",
       "    .dataframe thead th {\n",
       "        text-align: right;\n",
       "    }\n",
       "</style>\n",
       "<table border=\"1\" class=\"dataframe\">\n",
       "  <thead>\n",
       "    <tr style=\"text-align: right;\">\n",
       "      <th></th>\n",
       "      <th>PassengerId</th>\n",
       "      <th>Survived</th>\n",
       "      <th>Pclass</th>\n",
       "      <th>Name</th>\n",
       "      <th>Sex</th>\n",
       "      <th>Age</th>\n",
       "      <th>SibSp</th>\n",
       "      <th>Parch</th>\n",
       "      <th>Ticket</th>\n",
       "      <th>Fare</th>\n",
       "      <th>Cabin</th>\n",
       "      <th>Embarked</th>\n",
       "      <th>Title</th>\n",
       "      <th>Family</th>\n",
       "      <th>Family_Size</th>\n",
       "    </tr>\n",
       "  </thead>\n",
       "  <tbody>\n",
       "    <tr>\n",
       "      <th>0</th>\n",
       "      <td>1</td>\n",
       "      <td>0</td>\n",
       "      <td>3</td>\n",
       "      <td>Braund, Mr. Owen Harris</td>\n",
       "      <td>1</td>\n",
       "      <td>22.0</td>\n",
       "      <td>1</td>\n",
       "      <td>0</td>\n",
       "      <td>A/5 21171</td>\n",
       "      <td>7.2500</td>\n",
       "      <td>NaN</td>\n",
       "      <td>S</td>\n",
       "      <td>Mr</td>\n",
       "      <td>1</td>\n",
       "      <td>Small</td>\n",
       "    </tr>\n",
       "    <tr>\n",
       "      <th>1</th>\n",
       "      <td>2</td>\n",
       "      <td>1</td>\n",
       "      <td>1</td>\n",
       "      <td>Cumings, Mrs. John Bradley (Florence Briggs Th...</td>\n",
       "      <td>0</td>\n",
       "      <td>38.0</td>\n",
       "      <td>1</td>\n",
       "      <td>0</td>\n",
       "      <td>PC 17599</td>\n",
       "      <td>71.2833</td>\n",
       "      <td>C85</td>\n",
       "      <td>C</td>\n",
       "      <td>Mrs</td>\n",
       "      <td>1</td>\n",
       "      <td>Small</td>\n",
       "    </tr>\n",
       "    <tr>\n",
       "      <th>2</th>\n",
       "      <td>3</td>\n",
       "      <td>1</td>\n",
       "      <td>3</td>\n",
       "      <td>Heikkinen, Miss. Laina</td>\n",
       "      <td>0</td>\n",
       "      <td>26.0</td>\n",
       "      <td>0</td>\n",
       "      <td>0</td>\n",
       "      <td>STON/O2. 3101282</td>\n",
       "      <td>7.9250</td>\n",
       "      <td>NaN</td>\n",
       "      <td>S</td>\n",
       "      <td>Miss</td>\n",
       "      <td>0</td>\n",
       "      <td>Alone</td>\n",
       "    </tr>\n",
       "    <tr>\n",
       "      <th>3</th>\n",
       "      <td>4</td>\n",
       "      <td>1</td>\n",
       "      <td>1</td>\n",
       "      <td>Futrelle, Mrs. Jacques Heath (Lily May Peel)</td>\n",
       "      <td>0</td>\n",
       "      <td>35.0</td>\n",
       "      <td>1</td>\n",
       "      <td>0</td>\n",
       "      <td>113803</td>\n",
       "      <td>53.1000</td>\n",
       "      <td>C123</td>\n",
       "      <td>S</td>\n",
       "      <td>Mrs</td>\n",
       "      <td>1</td>\n",
       "      <td>Small</td>\n",
       "    </tr>\n",
       "    <tr>\n",
       "      <th>4</th>\n",
       "      <td>5</td>\n",
       "      <td>0</td>\n",
       "      <td>3</td>\n",
       "      <td>Allen, Mr. William Henry</td>\n",
       "      <td>1</td>\n",
       "      <td>35.0</td>\n",
       "      <td>0</td>\n",
       "      <td>0</td>\n",
       "      <td>373450</td>\n",
       "      <td>8.0500</td>\n",
       "      <td>NaN</td>\n",
       "      <td>S</td>\n",
       "      <td>Mr</td>\n",
       "      <td>0</td>\n",
       "      <td>Alone</td>\n",
       "    </tr>\n",
       "  </tbody>\n",
       "</table>\n",
       "</div>"
      ],
      "text/plain": [
       "   PassengerId  Survived Pclass  \\\n",
       "0            1         0      3   \n",
       "1            2         1      1   \n",
       "2            3         1      3   \n",
       "3            4         1      1   \n",
       "4            5         0      3   \n",
       "\n",
       "                                                Name Sex   Age  SibSp  Parch  \\\n",
       "0                            Braund, Mr. Owen Harris   1  22.0      1      0   \n",
       "1  Cumings, Mrs. John Bradley (Florence Briggs Th...   0  38.0      1      0   \n",
       "2                             Heikkinen, Miss. Laina   0  26.0      0      0   \n",
       "3       Futrelle, Mrs. Jacques Heath (Lily May Peel)   0  35.0      1      0   \n",
       "4                           Allen, Mr. William Henry   1  35.0      0      0   \n",
       "\n",
       "             Ticket     Fare Cabin Embarked Title  Family Family_Size  \n",
       "0         A/5 21171   7.2500   NaN        S    Mr       1       Small  \n",
       "1          PC 17599  71.2833   C85        C   Mrs       1       Small  \n",
       "2  STON/O2. 3101282   7.9250   NaN        S  Miss       0       Alone  \n",
       "3            113803  53.1000  C123        S   Mrs       1       Small  \n",
       "4            373450   8.0500   NaN        S    Mr       0       Alone  "
      ]
     },
     "execution_count": 143,
     "metadata": {},
     "output_type": "execute_result"
    }
   ],
   "source": [
    "def calculate (number):\n",
    "    if number == 0:\n",
    "        return \"Alone\"\n",
    "    elif number > 0 and number < 4:\n",
    "        return \"Small\"\n",
    "    elif number > 3 and number < 7:\n",
    "        return \"Medium\"\n",
    "    else:\n",
    "        return \"Large\"\n",
    "train[\"Family_Size\"]=train[\"Family\"].apply(calculate)\n",
    "train.head()"
   ]
  },
  {
   "cell_type": "markdown",
   "id": "4754c870",
   "metadata": {},
   "source": [
    "### Feature: Ticket\n",
    "#### Relevance of the feature:\n",
    "To check the relevance of the feature, let's categorize the tickets to get the best results.\n"
   ]
  },
  {
   "cell_type": "code",
   "execution_count": 145,
   "id": "262df94a",
   "metadata": {},
   "outputs": [
    {
     "name": "stdout",
     "output_type": "stream",
     "text": [
      "Null values: 0\n",
      "Data type: object\n"
     ]
    }
   ],
   "source": [
    "print(\"Null values:\", train.Ticket.isnull().sum())\n",
    "print(\"Data type:\",train.Ticket.dtype)"
   ]
  },
  {
   "cell_type": "code",
   "execution_count": 146,
   "id": "45317688",
   "metadata": {},
   "outputs": [
    {
     "data": {
      "text/plain": [
       "681"
      ]
     },
     "execution_count": 146,
     "metadata": {},
     "output_type": "execute_result"
    }
   ],
   "source": [
    "train.Ticket.nunique()"
   ]
  },
  {
   "cell_type": "code",
   "execution_count": 147,
   "id": "4de03144",
   "metadata": {},
   "outputs": [
    {
     "data": {
      "text/plain": [
       "array(['A/5 21171', 'PC 17599', 'STON/O2. 3101282', '113803', '373450',\n",
       "       '330877', '17463', '349909', '347742', '237736', 'PP 9549',\n",
       "       '113783', 'A/5. 2151', '347082', '350406', '248706', '382652',\n",
       "       '244373', '345763', '2649', '239865', '248698', '330923', '113788',\n",
       "       '347077', '2631', '19950', '330959', '349216', 'PC 17601',\n",
       "       'PC 17569', '335677', 'C.A. 24579', 'PC 17604', '113789', '2677',\n",
       "       'A./5. 2152', '345764', '2651', '7546', '11668', '349253',\n",
       "       'SC/Paris 2123', '330958', 'S.C./A.4. 23567', '370371', '14311',\n",
       "       '2662', '349237', '3101295', 'A/4. 39886', 'PC 17572', '2926',\n",
       "       '113509', '19947', 'C.A. 31026', '2697', 'C.A. 34651', 'CA 2144',\n",
       "       '2669', '113572', '36973', '347088', 'PC 17605', '2661',\n",
       "       'C.A. 29395', 'S.P. 3464', '3101281', '315151', 'C.A. 33111',\n",
       "       'S.O.C. 14879', '2680', '1601', '348123', '349208', '374746',\n",
       "       '248738', '364516', '345767', '345779', '330932', '113059',\n",
       "       'SO/C 14885', '3101278', 'W./C. 6608', 'SOTON/OQ 392086', '343275',\n",
       "       '343276', '347466', 'W.E.P. 5734', 'C.A. 2315', '364500', '374910',\n",
       "       'PC 17754', 'PC 17759', '231919', '244367', '349245', '349215',\n",
       "       '35281', '7540', '3101276', '349207', '343120', '312991', '349249',\n",
       "       '371110', '110465', '2665', '324669', '4136', '2627',\n",
       "       'STON/O 2. 3101294', '370369', 'PC 17558', 'A4. 54510', '27267',\n",
       "       '370372', 'C 17369', '2668', '347061', '349241',\n",
       "       'SOTON/O.Q. 3101307', 'A/5. 3337', '228414', 'C.A. 29178',\n",
       "       'SC/PARIS 2133', '11752', '7534', 'PC 17593', '2678', '347081',\n",
       "       'STON/O2. 3101279', '365222', '231945', 'C.A. 33112', '350043',\n",
       "       '230080', '244310', 'S.O.P. 1166', '113776', 'A.5. 11206',\n",
       "       'A/5. 851', 'Fa 265302', 'PC 17597', '35851', 'SOTON/OQ 392090',\n",
       "       '315037', 'CA. 2343', '371362', 'C.A. 33595', '347068', '315093',\n",
       "       '363291', '113505', 'PC 17318', '111240', 'STON/O 2. 3101280',\n",
       "       '17764', '350404', '4133', 'PC 17595', '250653', 'LINE',\n",
       "       'SC/PARIS 2131', '230136', '315153', '113767', '370365', '111428',\n",
       "       '364849', '349247', '234604', '28424', '350046', 'PC 17610',\n",
       "       '368703', '4579', '370370', '248747', '345770', '3101264', '2628',\n",
       "       'A/5 3540', '347054', '2699', '367231', '112277',\n",
       "       'SOTON/O.Q. 3101311', 'F.C.C. 13528', 'A/5 21174', '250646',\n",
       "       '367229', '35273', 'STON/O2. 3101283', '243847', '11813',\n",
       "       'W/C 14208', 'SOTON/OQ 392089', '220367', '21440', '349234',\n",
       "       '19943', 'PP 4348', 'SW/PP 751', 'A/5 21173', '236171', '347067',\n",
       "       '237442', 'C.A. 29566', 'W./C. 6609', '26707', 'C.A. 31921',\n",
       "       '28665', 'SCO/W 1585', '367230', 'W./C. 14263',\n",
       "       'STON/O 2. 3101275', '2694', '19928', '347071', '250649', '11751',\n",
       "       '244252', '362316', '113514', 'A/5. 3336', '370129', '2650',\n",
       "       'PC 17585', '110152', 'PC 17755', '230433', '384461', '110413',\n",
       "       '112059', '382649', 'C.A. 17248', '347083', 'PC 17582', 'PC 17760',\n",
       "       '113798', '250644', 'PC 17596', '370375', '13502', '347073',\n",
       "       '239853', 'C.A. 2673', '336439', '347464', '345778', 'A/5. 10482',\n",
       "       '113056', '349239', '345774', '349206', '237798', '370373',\n",
       "       '19877', '11967', 'SC/Paris 2163', '349236', '349233', 'PC 17612',\n",
       "       '2693', '113781', '19988', '9234', '367226', '226593', 'A/5 2466',\n",
       "       '17421', 'PC 17758', 'P/PP 3381', 'PC 17485', '11767', 'PC 17608',\n",
       "       '250651', '349243', 'F.C.C. 13529', '347470', '29011', '36928',\n",
       "       '16966', 'A/5 21172', '349219', '234818', '345364', '28551',\n",
       "       '111361', '113043', 'PC 17611', '349225', '7598', '113784',\n",
       "       '248740', '244361', '229236', '248733', '31418', '386525',\n",
       "       'C.A. 37671', '315088', '7267', '113510', '2695', '2647', '345783',\n",
       "       '237671', '330931', '330980', 'SC/PARIS 2167', '2691',\n",
       "       'SOTON/O.Q. 3101310', 'C 7076', '110813', '2626', '14313',\n",
       "       'PC 17477', '11765', '3101267', '323951', 'C 7077', '113503',\n",
       "       '2648', '347069', 'PC 17757', '2653', 'STON/O 2. 3101293',\n",
       "       '349227', '27849', '367655', 'SC 1748', '113760', '350034',\n",
       "       '3101277', '350052', '350407', '28403', '244278', '240929',\n",
       "       'STON/O 2. 3101289', '341826', '4137', '315096', '28664', '347064',\n",
       "       '29106', '312992', '349222', '394140', 'STON/O 2. 3101269',\n",
       "       '343095', '28220', '250652', '28228', '345773', '349254',\n",
       "       'A/5. 13032', '315082', '347080', 'A/4. 34244', '2003', '250655',\n",
       "       '364851', 'SOTON/O.Q. 392078', '110564', '376564', 'SC/AH 3085',\n",
       "       'STON/O 2. 3101274', '13507', 'C.A. 18723', '345769', '347076',\n",
       "       '230434', '65306', '33638', '113794', '2666', '113786', '65303',\n",
       "       '113051', '17453', 'A/5 2817', '349240', '13509', '17464',\n",
       "       'F.C.C. 13531', '371060', '19952', '364506', '111320', '234360',\n",
       "       'A/S 2816', 'SOTON/O.Q. 3101306', '113792', '36209', '323592',\n",
       "       '315089', 'SC/AH Basle 541', '7553', '31027', '3460', '350060',\n",
       "       '3101298', '239854', 'A/5 3594', '4134', '11771', 'A.5. 18509',\n",
       "       '65304', 'SOTON/OQ 3101317', '113787', 'PC 17609', 'A/4 45380',\n",
       "       '36947', 'C.A. 6212', '350035', '315086', '364846', '330909',\n",
       "       '4135', '26360', '111427', 'C 4001', '382651', 'SOTON/OQ 3101316',\n",
       "       'PC 17473', 'PC 17603', '349209', '36967', 'C.A. 34260', '226875',\n",
       "       '349242', '12749', '349252', '2624', '2700', '367232',\n",
       "       'W./C. 14258', 'PC 17483', '3101296', '29104', '2641', '2690',\n",
       "       '315084', '113050', 'PC 17761', '364498', '13568', 'WE/P 5735',\n",
       "       '2908', '693', 'SC/PARIS 2146', '244358', '330979', '2620',\n",
       "       '347085', '113807', '11755', '345572', '372622', '349251',\n",
       "       '218629', 'SOTON/OQ 392082', 'SOTON/O.Q. 392087', 'A/4 48871',\n",
       "       '349205', '2686', '350417', 'S.W./PP 752', '11769', 'PC 17474',\n",
       "       '14312', 'A/4. 20589', '358585', '243880', '2689',\n",
       "       'STON/O 2. 3101286', '237789', '13049', '3411', '237565', '13567',\n",
       "       '14973', 'A./5. 3235', 'STON/O 2. 3101273', 'A/5 3902', '364848',\n",
       "       'SC/AH 29037', '248727', '2664', '349214', '113796', '364511',\n",
       "       '111426', '349910', '349246', '113804', 'SOTON/O.Q. 3101305',\n",
       "       '370377', '364512', '220845', '31028', '2659', '11753', '350029',\n",
       "       '54636', '36963', '219533', '349224', '334912', '27042', '347743',\n",
       "       '13214', '112052', '237668', 'STON/O 2. 3101292', '350050',\n",
       "       '349231', '13213', 'S.O./P.P. 751', 'CA. 2314', '349221', '8475',\n",
       "       '330919', '365226', '349223', '29751', '2623', '5727', '349210',\n",
       "       'STON/O 2. 3101285', '234686', '312993', 'A/5 3536', '19996',\n",
       "       '29750', 'F.C. 12750', 'C.A. 24580', '244270', '239856', '349912',\n",
       "       '342826', '4138', '330935', '6563', '349228', '350036', '24160',\n",
       "       '17474', '349256', '2672', '113800', '248731', '363592', '35852',\n",
       "       '348121', 'PC 17475', '36864', '350025', '223596', 'PC 17476',\n",
       "       'PC 17482', '113028', '7545', '250647', '348124', '34218', '36568',\n",
       "       '347062', '350048', '12233', '250643', '113806', '315094', '36866',\n",
       "       '236853', 'STON/O2. 3101271', '239855', '28425', '233639',\n",
       "       '349201', '349218', '16988', '376566', 'STON/O 2. 3101288',\n",
       "       '250648', '113773', '335097', '29103', '392096', '345780',\n",
       "       '349204', '350042', '29108', '363294', 'SOTON/O2 3101272', '2663',\n",
       "       '347074', '112379', '364850', '8471', '345781', '350047',\n",
       "       'S.O./P.P. 3', '2674', '29105', '347078', '383121', '36865',\n",
       "       '2687', '113501', 'W./C. 6607', 'SOTON/O.Q. 3101312', '374887',\n",
       "       '3101265', '12460', 'PC 17600', '349203', '28213', '17465',\n",
       "       '349244', '2685', '2625', '347089', '347063', '112050', '347087',\n",
       "       '248723', '3474', '28206', '364499', '112058', 'STON/O2. 3101290',\n",
       "       'S.C./PARIS 2079', 'C 7075', '315098', '19972', '368323', '367228',\n",
       "       '2671', '347468', '2223', 'PC 17756', '315097', '392092', '11774',\n",
       "       'SOTON/O2 3101287', '2683', '315090', 'C.A. 5547', '349213',\n",
       "       '347060', 'PC 17592', '392091', '113055', '2629', '350026',\n",
       "       '28134', '17466', '233866', '236852', 'SC/PARIS 2149', 'PC 17590',\n",
       "       '345777', '349248', '695', '345765', '2667', '349212', '349217',\n",
       "       '349257', '7552', 'C.A./SOTON 34068', 'SOTON/OQ 392076', '211536',\n",
       "       '112053', '111369', '370376'], dtype=object)"
      ]
     },
     "execution_count": 147,
     "metadata": {},
     "output_type": "execute_result"
    }
   ],
   "source": [
    "train.Ticket.unique()"
   ]
  },
  {
   "cell_type": "markdown",
   "id": "688ac2b0",
   "metadata": {},
   "source": [
    "We see there are majorly 2 types of tickets.\n",
    "<ul>\n",
    "     <li>Alphanumeric</li>\n",
    "     <li>Numeric</li>\n",
    "</ul>"
   ]
  },
  {
   "cell_type": "code",
   "execution_count": 149,
   "id": "de21fee8",
   "metadata": {},
   "outputs": [
    {
     "name": "stdout",
     "output_type": "stream",
     "text": [
      "Total: 167 \n",
      " ['A/5 21171' 'PC 17599' 'STON/O2. 3101282' 'PP 9549' 'A/5. 2151'\n",
      " 'PC 17601' 'PC 17569' 'C.A. 24579' 'PC 17604' 'A./5. 2152'\n",
      " 'SC/Paris 2123' 'S.C./A.4. 23567' 'A/4. 39886' 'PC 17572' 'C.A. 31026'\n",
      " 'C.A. 34651' 'CA 2144' 'PC 17605' 'C.A. 29395' 'S.P. 3464' 'C.A. 33111'\n",
      " 'S.O.C. 14879' 'SO/C 14885' 'W./C. 6608' 'SOTON/OQ 392086' 'W.E.P. 5734'\n",
      " 'C.A. 2315' 'PC 17754' 'PC 17759' 'STON/O 2. 3101294' 'PC 17558'\n",
      " 'A4. 54510' 'C 17369' 'SOTON/O.Q. 3101307' 'A/5. 3337' 'C.A. 29178'\n",
      " 'SC/PARIS 2133' 'PC 17593' 'STON/O2. 3101279' 'C.A. 33112' 'S.O.P. 1166'\n",
      " 'A.5. 11206' 'A/5. 851' 'Fa 265302' 'PC 17597' 'SOTON/OQ 392090'\n",
      " 'CA. 2343' 'C.A. 33595' 'PC 17318' 'STON/O 2. 3101280' 'PC 17595' 'LINE'\n",
      " 'SC/PARIS 2131' 'PC 17610' 'A/5 3540' 'SOTON/O.Q. 3101311' 'F.C.C. 13528'\n",
      " 'A/5 21174' 'STON/O2. 3101283' 'W/C 14208' 'SOTON/OQ 392089' 'PP 4348'\n",
      " 'SW/PP 751' 'A/5 21173' 'C.A. 29566' 'W./C. 6609' 'C.A. 31921'\n",
      " 'SCO/W 1585' 'W./C. 14263' 'STON/O 2. 3101275' 'A/5. 3336' 'PC 17585'\n",
      " 'PC 17755' 'C.A. 17248' 'PC 17582' 'PC 17760' 'PC 17596' 'C.A. 2673'\n",
      " 'A/5. 10482' 'SC/Paris 2163' 'PC 17612' 'A/5 2466' 'PC 17758' 'P/PP 3381'\n",
      " 'PC 17485' 'PC 17608' 'F.C.C. 13529' 'A/5 21172' 'PC 17611' 'C.A. 37671'\n",
      " 'SC/PARIS 2167' 'SOTON/O.Q. 3101310' 'C 7076' 'PC 17477' 'C 7077'\n",
      " 'PC 17757' 'STON/O 2. 3101293' 'SC 1748' 'STON/O 2. 3101289'\n",
      " 'STON/O 2. 3101269' 'A/5. 13032' 'A/4. 34244' 'SOTON/O.Q. 392078'\n",
      " 'SC/AH 3085' 'STON/O 2. 3101274' 'C.A. 18723' 'A/5 2817' 'F.C.C. 13531'\n",
      " 'A/S 2816' 'SOTON/O.Q. 3101306' 'SC/AH Basle 541' 'A/5 3594' 'A.5. 18509'\n",
      " 'SOTON/OQ 3101317' 'PC 17609' 'A/4 45380' 'C.A. 6212' 'C 4001'\n",
      " 'SOTON/OQ 3101316' 'PC 17473' 'PC 17603' 'C.A. 34260' 'W./C. 14258'\n",
      " 'PC 17483' 'PC 17761' 'WE/P 5735' 'SC/PARIS 2146' 'SOTON/OQ 392082'\n",
      " 'SOTON/O.Q. 392087' 'A/4 48871' 'S.W./PP 752' 'PC 17474' 'A/4. 20589'\n",
      " 'STON/O 2. 3101286' 'A./5. 3235' 'STON/O 2. 3101273' 'A/5 3902'\n",
      " 'SC/AH 29037' 'SOTON/O.Q. 3101305' 'STON/O 2. 3101292' 'S.O./P.P. 751'\n",
      " 'CA. 2314' 'STON/O 2. 3101285' 'A/5 3536' 'F.C. 12750' 'C.A. 24580'\n",
      " 'PC 17475' 'PC 17476' 'PC 17482' 'STON/O2. 3101271' 'STON/O 2. 3101288'\n",
      " 'SOTON/O2 3101272' 'S.O./P.P. 3' 'W./C. 6607' 'SOTON/O.Q. 3101312'\n",
      " 'PC 17600' 'STON/O2. 3101290' 'S.C./PARIS 2079' 'C 7075' 'PC 17756'\n",
      " 'SOTON/O2 3101287' 'C.A. 5547' 'PC 17592' 'SC/PARIS 2149' 'PC 17590'\n",
      " 'C.A./SOTON 34068' 'SOTON/OQ 392076']\n"
     ]
    }
   ],
   "source": [
    "# Alphanumeric tickets\n",
    "L = []\n",
    "for i in range(len(train)):\n",
    "   if (train['Ticket'][i].isdigit() == False):\n",
    "      L.append(train['Ticket'][i])\n",
    "        \n",
    "Li = pd.Series(L)\n",
    "print(\"Total:\",Li.nunique(),'\\n',Li.unique())"
   ]
  },
  {
   "cell_type": "code",
   "execution_count": 150,
   "id": "b09a906a",
   "metadata": {},
   "outputs": [
    {
     "name": "stderr",
     "output_type": "stream",
     "text": [
      "C:\\Users\\ayamo\\AppData\\Local\\Temp\\ipykernel_2684\\737532123.py:5: SettingWithCopyWarning: \n",
      "A value is trying to be set on a copy of a slice from a DataFrame\n",
      "\n",
      "See the caveats in the documentation: https://pandas.pydata.org/pandas-docs/stable/user_guide/indexing.html#returning-a-view-versus-a-copy\n",
      "  train['Ticket'][i] = re.sub('A/5\\.','A/5',train[\"Ticket\"][i])\n",
      "C:\\Users\\ayamo\\AppData\\Local\\Temp\\ipykernel_2684\\737532123.py:6: SettingWithCopyWarning: \n",
      "A value is trying to be set on a copy of a slice from a DataFrame\n",
      "\n",
      "See the caveats in the documentation: https://pandas.pydata.org/pandas-docs/stable/user_guide/indexing.html#returning-a-view-versus-a-copy\n",
      "  train['Ticket'][i] = re.sub('A\\./5\\.','A/5',train[\"Ticket\"][i])\n",
      "C:\\Users\\ayamo\\AppData\\Local\\Temp\\ipykernel_2684\\737532123.py:7: SettingWithCopyWarning: \n",
      "A value is trying to be set on a copy of a slice from a DataFrame\n",
      "\n",
      "See the caveats in the documentation: https://pandas.pydata.org/pandas-docs/stable/user_guide/indexing.html#returning-a-view-versus-a-copy\n",
      "  train['Ticket'][i] = re.sub('A\\.5\\.','A/5',train[\"Ticket\"][i])\n",
      "C:\\Users\\ayamo\\AppData\\Local\\Temp\\ipykernel_2684\\737532123.py:8: SettingWithCopyWarning: \n",
      "A value is trying to be set on a copy of a slice from a DataFrame\n",
      "\n",
      "See the caveats in the documentation: https://pandas.pydata.org/pandas-docs/stable/user_guide/indexing.html#returning-a-view-versus-a-copy\n",
      "  train['Ticket'][i] = re.sub('C\\.A\\.','CA',train[\"Ticket\"][i])\n",
      "C:\\Users\\ayamo\\AppData\\Local\\Temp\\ipykernel_2684\\737532123.py:9: SettingWithCopyWarning: \n",
      "A value is trying to be set on a copy of a slice from a DataFrame\n",
      "\n",
      "See the caveats in the documentation: https://pandas.pydata.org/pandas-docs/stable/user_guide/indexing.html#returning-a-view-versus-a-copy\n",
      "  train['Ticket'][i] = re.sub('A/4\\.','A/4',train[\"Ticket\"][i])\n",
      "C:\\Users\\ayamo\\AppData\\Local\\Temp\\ipykernel_2684\\737532123.py:10: SettingWithCopyWarning: \n",
      "A value is trying to be set on a copy of a slice from a DataFrame\n",
      "\n",
      "See the caveats in the documentation: https://pandas.pydata.org/pandas-docs/stable/user_guide/indexing.html#returning-a-view-versus-a-copy\n",
      "  train['Ticket'][i] = re.sub('A4\\.','A/4',train[\"Ticket\"][i])\n",
      "C:\\Users\\ayamo\\AppData\\Local\\Temp\\ipykernel_2684\\737532123.py:11: SettingWithCopyWarning: \n",
      "A value is trying to be set on a copy of a slice from a DataFrame\n",
      "\n",
      "See the caveats in the documentation: https://pandas.pydata.org/pandas-docs/stable/user_guide/indexing.html#returning-a-view-versus-a-copy\n",
      "  train['Ticket'][i] = re.sub('CA\\.','CA',train[\"Ticket\"][i])\n",
      "C:\\Users\\ayamo\\AppData\\Local\\Temp\\ipykernel_2684\\737532123.py:12: SettingWithCopyWarning: \n",
      "A value is trying to be set on a copy of a slice from a DataFrame\n",
      "\n",
      "See the caveats in the documentation: https://pandas.pydata.org/pandas-docs/stable/user_guide/indexing.html#returning-a-view-versus-a-copy\n",
      "  train['Ticket'][i] = re.sub('W\\.E\\.P\\.','WEP',train[\"Ticket\"][i])\n",
      "C:\\Users\\ayamo\\AppData\\Local\\Temp\\ipykernel_2684\\737532123.py:13: SettingWithCopyWarning: \n",
      "A value is trying to be set on a copy of a slice from a DataFrame\n",
      "\n",
      "See the caveats in the documentation: https://pandas.pydata.org/pandas-docs/stable/user_guide/indexing.html#returning-a-view-versus-a-copy\n",
      "  train['Ticket'][i] = re.sub('S\\.P\\.','SP',train[\"Ticket\"][i])\n",
      "C:\\Users\\ayamo\\AppData\\Local\\Temp\\ipykernel_2684\\737532123.py:14: SettingWithCopyWarning: \n",
      "A value is trying to be set on a copy of a slice from a DataFrame\n",
      "\n",
      "See the caveats in the documentation: https://pandas.pydata.org/pandas-docs/stable/user_guide/indexing.html#returning-a-view-versus-a-copy\n",
      "  train['Ticket'][i] = re.sub('SOTON/O2','STON/O2',train[\"Ticket\"][i])\n",
      "C:\\Users\\ayamo\\AppData\\Local\\Temp\\ipykernel_2684\\737532123.py:15: SettingWithCopyWarning: \n",
      "A value is trying to be set on a copy of a slice from a DataFrame\n",
      "\n",
      "See the caveats in the documentation: https://pandas.pydata.org/pandas-docs/stable/user_guide/indexing.html#returning-a-view-versus-a-copy\n",
      "  train['Ticket'][i] = re.sub('STON/O2\\.','STON/O2',train[\"Ticket\"][i])\n",
      "C:\\Users\\ayamo\\AppData\\Local\\Temp\\ipykernel_2684\\737532123.py:16: SettingWithCopyWarning: \n",
      "A value is trying to be set on a copy of a slice from a DataFrame\n",
      "\n",
      "See the caveats in the documentation: https://pandas.pydata.org/pandas-docs/stable/user_guide/indexing.html#returning-a-view-versus-a-copy\n",
      "  train['Ticket'][i] = re.sub('SOTON/O\\.Q\\.','SOTON/OQ',train[\"Ticket\"][i])\n",
      "C:\\Users\\ayamo\\AppData\\Local\\Temp\\ipykernel_2684\\737532123.py:17: SettingWithCopyWarning: \n",
      "A value is trying to be set on a copy of a slice from a DataFrame\n",
      "\n",
      "See the caveats in the documentation: https://pandas.pydata.org/pandas-docs/stable/user_guide/indexing.html#returning-a-view-versus-a-copy\n",
      "  train['Ticket'][i] = re.sub('F\\.C\\.C\\.','FCC',train[\"Ticket\"][i])\n",
      "C:\\Users\\ayamo\\AppData\\Local\\Temp\\ipykernel_2684\\737532123.py:18: SettingWithCopyWarning: \n",
      "A value is trying to be set on a copy of a slice from a DataFrame\n",
      "\n",
      "See the caveats in the documentation: https://pandas.pydata.org/pandas-docs/stable/user_guide/indexing.html#returning-a-view-versus-a-copy\n",
      "  train['Ticket'][i] = re.sub('W\\./C\\.','W/C',train[\"Ticket\"][i])\n",
      "C:\\Users\\ayamo\\AppData\\Local\\Temp\\ipykernel_2684\\737532123.py:19: SettingWithCopyWarning: \n",
      "A value is trying to be set on a copy of a slice from a DataFrame\n",
      "\n",
      "See the caveats in the documentation: https://pandas.pydata.org/pandas-docs/stable/user_guide/indexing.html#returning-a-view-versus-a-copy\n",
      "  train['Ticket'][i] = re.sub('S\\.C\\./PARIS','SC/PARIS',train[\"Ticket\"][i])\n",
      "C:\\Users\\ayamo\\AppData\\Local\\Temp\\ipykernel_2684\\737532123.py:20: SettingWithCopyWarning: \n",
      "A value is trying to be set on a copy of a slice from a DataFrame\n",
      "\n",
      "See the caveats in the documentation: https://pandas.pydata.org/pandas-docs/stable/user_guide/indexing.html#returning-a-view-versus-a-copy\n",
      "  train['Ticket'][i] = re.sub('F\\.C\\.','FC',train[\"Ticket\"][i])\n",
      "C:\\Users\\ayamo\\AppData\\Local\\Temp\\ipykernel_2684\\737532123.py:21: SettingWithCopyWarning: \n",
      "A value is trying to be set on a copy of a slice from a DataFrame\n",
      "\n",
      "See the caveats in the documentation: https://pandas.pydata.org/pandas-docs/stable/user_guide/indexing.html#returning-a-view-versus-a-copy\n",
      "  train['Ticket'][i] = re.sub('S\\.O\\.C\\.','SOC',train[\"Ticket\"][i])\n",
      "C:\\Users\\ayamo\\AppData\\Local\\Temp\\ipykernel_2684\\737532123.py:22: SettingWithCopyWarning: \n",
      "A value is trying to be set on a copy of a slice from a DataFrame\n",
      "\n",
      "See the caveats in the documentation: https://pandas.pydata.org/pandas-docs/stable/user_guide/indexing.html#returning-a-view-versus-a-copy\n",
      "  train['Ticket'][i] = re.sub('S\\.O\\.P\\.','SOP',train[\"Ticket\"][i])\n",
      "C:\\Users\\ayamo\\AppData\\Local\\Temp\\ipykernel_2684\\737532123.py:23: SettingWithCopyWarning: \n",
      "A value is trying to be set on a copy of a slice from a DataFrame\n",
      "\n",
      "See the caveats in the documentation: https://pandas.pydata.org/pandas-docs/stable/user_guide/indexing.html#returning-a-view-versus-a-copy\n",
      "  train['Ticket'][i] = re.sub('Fa','FA',train[\"Ticket\"][i])\n",
      "C:\\Users\\ayamo\\AppData\\Local\\Temp\\ipykernel_2684\\737532123.py:24: SettingWithCopyWarning: \n",
      "A value is trying to be set on a copy of a slice from a DataFrame\n",
      "\n",
      "See the caveats in the documentation: https://pandas.pydata.org/pandas-docs/stable/user_guide/indexing.html#returning-a-view-versus-a-copy\n",
      "  train['Ticket'][i] = re.sub('S\\.O\\./P\\.P\\.','SO/PP',train[\"Ticket\"][i])\n",
      "C:\\Users\\ayamo\\AppData\\Local\\Temp\\ipykernel_2684\\737532123.py:25: SettingWithCopyWarning: \n",
      "A value is trying to be set on a copy of a slice from a DataFrame\n",
      "\n",
      "See the caveats in the documentation: https://pandas.pydata.org/pandas-docs/stable/user_guide/indexing.html#returning-a-view-versus-a-copy\n",
      "  train['Ticket'][i] = re.sub('S\\.W\\./PP','SW/PP',train[\"Ticket\"][i])\n",
      "C:\\Users\\ayamo\\AppData\\Local\\Temp\\ipykernel_2684\\737532123.py:26: SettingWithCopyWarning: \n",
      "A value is trying to be set on a copy of a slice from a DataFrame\n",
      "\n",
      "See the caveats in the documentation: https://pandas.pydata.org/pandas-docs/stable/user_guide/indexing.html#returning-a-view-versus-a-copy\n",
      "  train['Ticket'][i] = re.sub('S\\.C\\./A\\.4\\.','SC/A4',train[\"Ticket\"][i])\n",
      "C:\\Users\\ayamo\\AppData\\Local\\Temp\\ipykernel_2684\\737532123.py:27: SettingWithCopyWarning: \n",
      "A value is trying to be set on a copy of a slice from a DataFrame\n",
      "\n",
      "See the caveats in the documentation: https://pandas.pydata.org/pandas-docs/stable/user_guide/indexing.html#returning-a-view-versus-a-copy\n",
      "  train['Ticket'][i] = re.sub('STON/O 2\\.','STON/O2',train[\"Ticket\"][i])\n"
     ]
    },
    {
     "name": "stdout",
     "output_type": "stream",
     "text": [
      "Total: 167 \n",
      " ['A/5 21171' 'PC 17599' 'STON/O2 3101282' 'PP 9549' 'A/5 2151' 'PC 17601'\n",
      " 'PC 17569' 'CA 24579' 'PC 17604' 'A/5 2152' 'SC/Paris 2123' 'SC/A4 23567'\n",
      " 'A/4 39886' 'PC 17572' 'CA 31026' 'CA 34651' 'CA 2144' 'PC 17605'\n",
      " 'CA 29395' 'SP 3464' 'CA 33111' 'SOC 14879' 'SO/C 14885' 'W/C 6608'\n",
      " 'SOTON/OQ 392086' 'WEP 5734' 'CA 2315' 'PC 17754' 'PC 17759'\n",
      " 'STON/O2 3101294' 'PC 17558' 'A/4 54510' 'C 17369' 'SOTON/OQ 3101307'\n",
      " 'A/5 3337' 'CA 29178' 'SC/PARIS 2133' 'PC 17593' 'STON/O2 3101279'\n",
      " 'CA 33112' 'SOP 1166' 'A/5 11206' 'A/5 851' 'FA 265302' 'PC 17597'\n",
      " 'SOTON/OQ 392090' 'CA 2343' 'CA 33595' 'PC 17318' 'STON/O2 3101280'\n",
      " 'PC 17595' 'LINE' 'SC/PARIS 2131' 'PC 17610' 'A/5 3540'\n",
      " 'SOTON/OQ 3101311' 'FCC 13528' 'A/5 21174' 'STON/O2 3101283' 'W/C 14208'\n",
      " 'SOTON/OQ 392089' 'PP 4348' 'SW/PP 751' 'A/5 21173' 'CA 29566' 'W/C 6609'\n",
      " 'CA 31921' 'SCO/W 1585' 'W/C 14263' 'STON/O2 3101275' 'A/5 3336'\n",
      " 'PC 17585' 'PC 17755' 'CA 17248' 'PC 17582' 'PC 17760' 'PC 17596'\n",
      " 'CA 2673' 'A/5 10482' 'SC/Paris 2163' 'PC 17612' 'A/5 2466' 'PC 17758'\n",
      " 'P/PP 3381' 'PC 17485' 'PC 17608' 'FCC 13529' 'A/5 21172' 'PC 17611'\n",
      " 'CA 37671' 'SC/PARIS 2167' 'SOTON/OQ 3101310' 'C 7076' 'PC 17477'\n",
      " 'C 7077' 'PC 17757' 'STON/O2 3101293' 'SC 1748' 'STON/O2 3101289'\n",
      " 'STON/O2 3101269' 'A/5 13032' 'A/4 34244' 'SOTON/OQ 392078' 'SC/AH 3085'\n",
      " 'STON/O2 3101274' 'CA 18723' 'A/5 2817' 'FCC 13531' 'A/S 2816'\n",
      " 'SOTON/OQ 3101306' 'SC/AH Basle 541' 'A/5 3594' 'A/5 18509'\n",
      " 'SOTON/OQ 3101317' 'PC 17609' 'A/4 45380' 'CA 6212' 'C 4001'\n",
      " 'SOTON/OQ 3101316' 'PC 17473' 'PC 17603' 'CA 34260' 'W/C 14258'\n",
      " 'PC 17483' 'PC 17761' 'WE/P 5735' 'SC/PARIS 2146' 'SOTON/OQ 392082'\n",
      " 'SOTON/OQ 392087' 'A/4 48871' 'SW/PP 752' 'PC 17474' 'A/4 20589'\n",
      " 'STON/O2 3101286' 'A/5 3235' 'STON/O2 3101273' 'A/5 3902' 'SC/AH 29037'\n",
      " 'SOTON/OQ 3101305' 'STON/O2 3101292' 'SO/PP 751' 'CA 2314'\n",
      " 'STON/O2 3101285' 'A/5 3536' 'FC 12750' 'CA 24580' 'PC 17475' 'PC 17476'\n",
      " 'PC 17482' 'STON/O2 3101271' 'STON/O2 3101288' 'STON/O2 3101272'\n",
      " 'SO/PP 3' 'W/C 6607' 'SOTON/OQ 3101312' 'PC 17600' 'STON/O2 3101290'\n",
      " 'SC/PARIS 2079' 'C 7075' 'PC 17756' 'STON/O2 3101287' 'CA 5547'\n",
      " 'PC 17592' 'SC/PARIS 2149' 'PC 17590' 'CA/SOTON 34068' 'SOTON/OQ 392076']\n"
     ]
    }
   ],
   "source": [
    "import re\n",
    "L1 = []\n",
    "for i in range(len(train)):\n",
    "  if (train['Ticket'][i].isdigit() == False):\n",
    "     train['Ticket'][i] = re.sub('A/5\\.','A/5',train[\"Ticket\"][i])\n",
    "     train['Ticket'][i] = re.sub('A\\./5\\.','A/5',train[\"Ticket\"][i])\n",
    "     train['Ticket'][i] = re.sub('A\\.5\\.','A/5',train[\"Ticket\"][i])\n",
    "     train['Ticket'][i] = re.sub('C\\.A\\.','CA',train[\"Ticket\"][i])\n",
    "     train['Ticket'][i] = re.sub('A/4\\.','A/4',train[\"Ticket\"][i])\n",
    "     train['Ticket'][i] = re.sub('A4\\.','A/4',train[\"Ticket\"][i])\n",
    "     train['Ticket'][i] = re.sub('CA\\.','CA',train[\"Ticket\"][i])\n",
    "     train['Ticket'][i] = re.sub('W\\.E\\.P\\.','WEP',train[\"Ticket\"][i])\n",
    "     train['Ticket'][i] = re.sub('S\\.P\\.','SP',train[\"Ticket\"][i])\n",
    "     train['Ticket'][i] = re.sub('SOTON/O2','STON/O2',train[\"Ticket\"][i])\n",
    "     train['Ticket'][i] = re.sub('STON/O2\\.','STON/O2',train[\"Ticket\"][i])\n",
    "     train['Ticket'][i] = re.sub('SOTON/O\\.Q\\.','SOTON/OQ',train[\"Ticket\"][i])\n",
    "     train['Ticket'][i] = re.sub('F\\.C\\.C\\.','FCC',train[\"Ticket\"][i])\n",
    "     train['Ticket'][i] = re.sub('W\\./C\\.','W/C',train[\"Ticket\"][i])\n",
    "     train['Ticket'][i] = re.sub('S\\.C\\./PARIS','SC/PARIS',train[\"Ticket\"][i])\n",
    "     train['Ticket'][i] = re.sub('F\\.C\\.','FC',train[\"Ticket\"][i])\n",
    "     train['Ticket'][i] = re.sub('S\\.O\\.C\\.','SOC',train[\"Ticket\"][i])\n",
    "     train['Ticket'][i] = re.sub('S\\.O\\.P\\.','SOP',train[\"Ticket\"][i])\n",
    "     train['Ticket'][i] = re.sub('Fa','FA',train[\"Ticket\"][i])\n",
    "     train['Ticket'][i] = re.sub('S\\.O\\./P\\.P\\.','SO/PP',train[\"Ticket\"][i])\n",
    "     train['Ticket'][i] = re.sub('S\\.W\\./PP','SW/PP',train[\"Ticket\"][i])\n",
    "     train['Ticket'][i] = re.sub('S\\.C\\./A\\.4\\.','SC/A4',train[\"Ticket\"][i])\n",
    "     train['Ticket'][i] = re.sub('STON/O 2\\.','STON/O2',train[\"Ticket\"][i])\n",
    "     L1.append(train['Ticket'][i])\n",
    "Lii = pd.Series(L1)\n",
    "print(\"Total:\",Lii.nunique(),'\\n',Lii.unique())"
   ]
  },
  {
   "cell_type": "code",
   "execution_count": 151,
   "id": "613bda45",
   "metadata": {},
   "outputs": [
    {
     "name": "stdout",
     "output_type": "stream",
     "text": [
      "['A/5' 'PC' 'STON/O2' '' 'PP' 'CA' 'SC/Paris' 'SC/A4' 'A/4' 'SP' 'SOC'\n",
      " 'SO/C' 'W/C' 'SOTON/OQ' 'WEP' 'C' 'SC/PARIS' 'SOP' 'FA' 'LINE' 'FCC'\n",
      " 'SW/PP' 'SCO/W' 'P/PP' 'SC' 'SC/AH' 'A/S' 'WE/P' 'SO/PP' 'FC' 'CA/SOTON'] \n",
      "\n",
      "Total:  31\n"
     ]
    },
    {
     "name": "stderr",
     "output_type": "stream",
     "text": [
      "C:\\Users\\ayamo\\AppData\\Local\\Temp\\ipykernel_2684\\3754128254.py:4: SettingWithCopyWarning: \n",
      "A value is trying to be set on a copy of a slice from a DataFrame\n",
      "\n",
      "See the caveats in the documentation: https://pandas.pydata.org/pandas-docs/stable/user_guide/indexing.html#returning-a-view-versus-a-copy\n",
      "  train['Ticket_type'][i] = train['Ticket'][i].split(\" \")[0]\n"
     ]
    }
   ],
   "source": [
    "train['Ticket_type'] = \"\"\n",
    "for i in range(len(train)):\n",
    " if (train['Ticket'][i].isdigit() == False):\n",
    "     train['Ticket_type'][i] = train['Ticket'][i].split(\" \")[0]\n",
    " \n",
    "print(train['Ticket_type'].unique(),'\\n\\nTotal: ',train['Ticket_type'].nunique())"
   ]
  },
  {
   "cell_type": "markdown",
   "id": "c84488ac",
   "metadata": {},
   "source": [
    "As we can see here, there is a null unique element too. This is natural because we still have the\n",
    "numeric tickets to be added in this newly made column Ticket_type.\n",
    "\n",
    "Till now, we have checked for tickets starting with a code or a string.\n",
    "\n",
    "Let's now check for the other tickets too."
   ]
  },
  {
   "cell_type": "code",
   "execution_count": 153,
   "id": "d16a8bc4",
   "metadata": {},
   "outputs": [
    {
     "name": "stderr",
     "output_type": "stream",
     "text": [
      "C:\\Users\\ayamo\\AppData\\Local\\Temp\\ipykernel_2684\\4152186351.py:5: SettingWithCopyWarning: \n",
      "A value is trying to be set on a copy of a slice from a DataFrame\n",
      "\n",
      "See the caveats in the documentation: https://pandas.pydata.org/pandas-docs/stable/user_guide/indexing.html#returning-a-view-versus-a-copy\n",
      "  train[\"Ticket_type\"][i] = \"6_Digit_Number\"\n",
      "C:\\Users\\ayamo\\AppData\\Local\\Temp\\ipykernel_2684\\4152186351.py:7: SettingWithCopyWarning: \n",
      "A value is trying to be set on a copy of a slice from a DataFrame\n",
      "\n",
      "See the caveats in the documentation: https://pandas.pydata.org/pandas-docs/stable/user_guide/indexing.html#returning-a-view-versus-a-copy\n",
      "  train[\"Ticket_type\"][i] = \"5_Digit_Number\"\n",
      "C:\\Users\\ayamo\\AppData\\Local\\Temp\\ipykernel_2684\\4152186351.py:9: SettingWithCopyWarning: \n",
      "A value is trying to be set on a copy of a slice from a DataFrame\n",
      "\n",
      "See the caveats in the documentation: https://pandas.pydata.org/pandas-docs/stable/user_guide/indexing.html#returning-a-view-versus-a-copy\n",
      "  train[\"Ticket_type\"][i] = \"4_Digit_Number\"\n"
     ]
    },
    {
     "data": {
      "text/plain": [
       "array(['A/5', 'PC', 'STON/O2', '6_Digit_Number', '5_Digit_Number', 'PP',\n",
       "       '4_Digit_Number', 'CA', 'SC/Paris', 'SC/A4', '', 'A/4', 'SP',\n",
       "       'SOC', 'SO/C', 'W/C', 'SOTON/OQ', 'WEP', 'C', 'SC/PARIS', 'SOP',\n",
       "       'FA', 'LINE', 'FCC', 'SW/PP', 'SCO/W', 'P/PP', 'SC', 'SC/AH',\n",
       "       'A/S', 'WE/P', 'SO/PP', 'FC', 'CA/SOTON'], dtype=object)"
      ]
     },
     "execution_count": 153,
     "metadata": {},
     "output_type": "execute_result"
    }
   ],
   "source": [
    "L2 = []\n",
    "for i in range(len(train)):\n",
    " if (train['Ticket'][i].isdigit() == True):\n",
    "    if (len(train['Ticket'][i]) == 6):\n",
    "       train[\"Ticket_type\"][i] = \"6_Digit_Number\"\n",
    "    elif (len(train['Ticket'][i]) == 5):\n",
    "       train[\"Ticket_type\"][i] = \"5_Digit_Number\"\n",
    "    elif (len(train['Ticket'][i]) == 4):\n",
    "       train[\"Ticket_type\"][i] = \"4_Digit_Number\"\n",
    "train['Ticket_type'].unique()"
   ]
  },
  {
   "cell_type": "code",
   "execution_count": 154,
   "id": "41d93213",
   "metadata": {},
   "outputs": [
    {
     "data": {
      "text/plain": [
       "Ticket_type\n",
       "                  0.222222\n",
       "4_Digit_Number    0.371134\n",
       "5_Digit_Number    0.618321\n",
       "6_Digit_Number    0.320482\n",
       "A/4               0.000000\n",
       "A/5               0.095238\n",
       "A/S               0.000000\n",
       "C                 0.400000\n",
       "CA                0.341463\n",
       "CA/SOTON          0.000000\n",
       "FA                0.000000\n",
       "FC                0.000000\n",
       "FCC               0.800000\n",
       "LINE              0.250000\n",
       "P/PP              0.500000\n",
       "PC                0.650000\n",
       "PP                0.666667\n",
       "SC                1.000000\n",
       "SC/A4             0.000000\n",
       "SC/AH             0.666667\n",
       "SC/PARIS          0.428571\n",
       "SC/Paris          0.500000\n",
       "SCO/W             0.000000\n",
       "SO/C              1.000000\n",
       "SO/PP             0.000000\n",
       "SOC               0.000000\n",
       "SOP               0.000000\n",
       "SOTON/OQ          0.133333\n",
       "SP                0.000000\n",
       "STON/O2           0.400000\n",
       "SW/PP             1.000000\n",
       "W/C               0.100000\n",
       "WE/P              0.500000\n",
       "WEP               0.000000\n",
       "Name: Survived, dtype: float64"
      ]
     },
     "execution_count": 154,
     "metadata": {},
     "output_type": "execute_result"
    }
   ],
   "source": [
    "train.groupby([\"Ticket_type\"])[\"Survived\"].mean()"
   ]
  },
  {
   "cell_type": "code",
   "execution_count": 155,
   "id": "5499328c",
   "metadata": {},
   "outputs": [
    {
     "data": {
      "text/plain": [
       "count                891\n",
       "unique                34\n",
       "top       6_Digit_Number\n",
       "freq                 415\n",
       "Name: Ticket_type, dtype: object"
      ]
     },
     "execution_count": 155,
     "metadata": {},
     "output_type": "execute_result"
    }
   ],
   "source": [
    "train['Ticket_type'].describe()"
   ]
  },
  {
   "cell_type": "code",
   "execution_count": 156,
   "id": "86d98fde",
   "metadata": {},
   "outputs": [
    {
     "data": {
      "text/plain": [
       "0"
      ]
     },
     "execution_count": 156,
     "metadata": {},
     "output_type": "execute_result"
    }
   ],
   "source": [
    "train[\"Ticket_type\"].isnull().sum()"
   ]
  },
  {
   "cell_type": "markdown",
   "id": "9d3de826",
   "metadata": {},
   "source": [
    "### Feature: Fare\n",
    "#### Relevance of the feature:"
   ]
  },
  {
   "cell_type": "code",
   "execution_count": 158,
   "id": "d10cf9a1",
   "metadata": {},
   "outputs": [
    {
     "name": "stderr",
     "output_type": "stream",
     "text": [
      "C:\\Users\\ayamo\\AppData\\Local\\Temp\\ipykernel_2684\\3046494239.py:1: UserWarning: \n",
      "\n",
      "`distplot` is a deprecated function and will be removed in seaborn v0.14.0.\n",
      "\n",
      "Please adapt your code to use either `displot` (a figure-level function with\n",
      "similar flexibility) or `histplot` (an axes-level function for histograms).\n",
      "\n",
      "For a guide to updating your code to use the new functions, please see\n",
      "https://gist.github.com/mwaskom/de44147ed2974457ad6372750bbe5751\n",
      "\n",
      "  sns.distplot(train[\"Fare\"][train[\"Survived\"]==0])\n",
      "C:\\Users\\ayamo\\AppData\\Local\\Temp\\ipykernel_2684\\3046494239.py:2: UserWarning: \n",
      "\n",
      "`distplot` is a deprecated function and will be removed in seaborn v0.14.0.\n",
      "\n",
      "Please adapt your code to use either `displot` (a figure-level function with\n",
      "similar flexibility) or `histplot` (an axes-level function for histograms).\n",
      "\n",
      "For a guide to updating your code to use the new functions, please see\n",
      "https://gist.github.com/mwaskom/de44147ed2974457ad6372750bbe5751\n",
      "\n",
      "  sns.distplot(train[\"Fare\"][train[\"Survived\"]==1])\n"
     ]
    },
    {
     "data": {
      "text/plain": [
       "<Axes: xlabel='Fare', ylabel='Density'>"
      ]
     },
     "execution_count": 158,
     "metadata": {},
     "output_type": "execute_result"
    },
    {
     "data": {
      "image/png": "[encoded data removed]",
      "text/plain": [
       "<Figure size 640x480 with 1 Axes>"
      ]
     },
     "metadata": {},
     "output_type": "display_data"
    }
   ],
   "source": [
    "sns.distplot(train[\"Fare\"][train[\"Survived\"]==0])\n",
    "sns.distplot(train[\"Fare\"][train[\"Survived\"]==1])"
   ]
  },
  {
   "cell_type": "markdown",
   "id": "b7739a05",
   "metadata": {},
   "source": [
    "As  the fare increases, the orange curve (Survived = 1) is dominating the blue curve (Survived = 0).\n",
    "Therefore, there is a strong mathematical correlation between \"Fare\" and \"Survived\"."
   ]
  },
  {
   "cell_type": "code",
   "execution_count": 159,
   "id": "dfdcc848",
   "metadata": {},
   "outputs": [
    {
     "data": {
      "text/plain": [
       "0"
      ]
     },
     "execution_count": 159,
     "metadata": {},
     "output_type": "execute_result"
    }
   ],
   "source": [
    "train.Fare.isnull().sum()"
   ]
  },
  {
   "cell_type": "code",
   "execution_count": 160,
   "id": "c32eb8b7",
   "metadata": {},
   "outputs": [
    {
     "data": {
      "text/plain": [
       "dtype('float64')"
      ]
     },
     "execution_count": 160,
     "metadata": {},
     "output_type": "execute_result"
    }
   ],
   "source": [
    "train.Fare.dtype"
   ]
  },
  {
   "cell_type": "code",
   "execution_count": 161,
   "id": "475f571e",
   "metadata": {},
   "outputs": [
    {
     "data": {
      "text/plain": [
       "count    891.000000\n",
       "mean      32.204208\n",
       "std       49.693429\n",
       "min        0.000000\n",
       "25%        7.910400\n",
       "50%       14.454200\n",
       "75%       31.000000\n",
       "max      512.329200\n",
       "Name: Fare, dtype: float64"
      ]
     },
     "execution_count": 161,
     "metadata": {},
     "output_type": "execute_result"
    }
   ],
   "source": [
    "train.Fare.describe()"
   ]
  },
  {
   "cell_type": "markdown",
   "id": "44c69165",
   "metadata": {},
   "source": [
    "### Feature: Cabin"
   ]
  },
  {
   "cell_type": "code",
   "execution_count": 162,
   "id": "fc59e924",
   "metadata": {},
   "outputs": [
    {
     "data": {
      "text/plain": [
       "77.0"
      ]
     },
     "execution_count": 162,
     "metadata": {},
     "output_type": "execute_result"
    }
   ],
   "source": [
    "# Percentage null values\n",
    "round(((train.Cabin.isnull().sum()/len(train))*100),0)"
   ]
  },
  {
   "cell_type": "markdown",
   "id": "1046f8c6",
   "metadata": {},
   "source": [
    "The feature Cabin has 77% missing values. Let's drop this!"
   ]
  },
  {
   "cell_type": "code",
   "execution_count": 163,
   "id": "5825a905",
   "metadata": {},
   "outputs": [],
   "source": [
    "train = train.drop(\"Cabin\", axis = 1)"
   ]
  },
  {
   "cell_type": "code",
   "execution_count": 164,
   "id": "34efeb98",
   "metadata": {},
   "outputs": [
    {
     "data": {
      "text/html": [
       "<div>\n",
       "<style scoped>\n",
       "    .dataframe tbody tr th:only-of-type {\n",
       "        vertical-align: middle;\n",
       "    }\n",
       "\n",
       "    .dataframe tbody tr th {\n",
       "        vertical-align: top;\n",
       "    }\n",
       "\n",
       "    .dataframe thead th {\n",
       "        text-align: right;\n",
       "    }\n",
       "</style>\n",
       "<table border=\"1\" class=\"dataframe\">\n",
       "  <thead>\n",
       "    <tr style=\"text-align: right;\">\n",
       "      <th></th>\n",
       "      <th>PassengerId</th>\n",
       "      <th>Survived</th>\n",
       "      <th>Pclass</th>\n",
       "      <th>Name</th>\n",
       "      <th>Sex</th>\n",
       "      <th>Age</th>\n",
       "      <th>SibSp</th>\n",
       "      <th>Parch</th>\n",
       "      <th>Ticket</th>\n",
       "      <th>Fare</th>\n",
       "      <th>Embarked</th>\n",
       "      <th>Title</th>\n",
       "      <th>Family</th>\n",
       "      <th>Family_Size</th>\n",
       "      <th>Ticket_type</th>\n",
       "    </tr>\n",
       "  </thead>\n",
       "  <tbody>\n",
       "    <tr>\n",
       "      <th>0</th>\n",
       "      <td>1</td>\n",
       "      <td>0</td>\n",
       "      <td>3</td>\n",
       "      <td>Braund, Mr. Owen Harris</td>\n",
       "      <td>1</td>\n",
       "      <td>22.0</td>\n",
       "      <td>1</td>\n",
       "      <td>0</td>\n",
       "      <td>A/5 21171</td>\n",
       "      <td>7.2500</td>\n",
       "      <td>S</td>\n",
       "      <td>Mr</td>\n",
       "      <td>1</td>\n",
       "      <td>Small</td>\n",
       "      <td>A/5</td>\n",
       "    </tr>\n",
       "    <tr>\n",
       "      <th>1</th>\n",
       "      <td>2</td>\n",
       "      <td>1</td>\n",
       "      <td>1</td>\n",
       "      <td>Cumings, Mrs. John Bradley (Florence Briggs Th...</td>\n",
       "      <td>0</td>\n",
       "      <td>38.0</td>\n",
       "      <td>1</td>\n",
       "      <td>0</td>\n",
       "      <td>PC 17599</td>\n",
       "      <td>71.2833</td>\n",
       "      <td>C</td>\n",
       "      <td>Mrs</td>\n",
       "      <td>1</td>\n",
       "      <td>Small</td>\n",
       "      <td>PC</td>\n",
       "    </tr>\n",
       "  </tbody>\n",
       "</table>\n",
       "</div>"
      ],
      "text/plain": [
       "   PassengerId  Survived Pclass  \\\n",
       "0            1         0      3   \n",
       "1            2         1      1   \n",
       "\n",
       "                                                Name Sex   Age  SibSp  Parch  \\\n",
       "0                            Braund, Mr. Owen Harris   1  22.0      1      0   \n",
       "1  Cumings, Mrs. John Bradley (Florence Briggs Th...   0  38.0      1      0   \n",
       "\n",
       "      Ticket     Fare Embarked Title  Family Family_Size Ticket_type  \n",
       "0  A/5 21171   7.2500        S    Mr       1       Small         A/5  \n",
       "1   PC 17599  71.2833        C   Mrs       1       Small          PC  "
      ]
     },
     "execution_count": 164,
     "metadata": {},
     "output_type": "execute_result"
    }
   ],
   "source": [
    "train.head(2)"
   ]
  },
  {
   "cell_type": "markdown",
   "id": "15652a81",
   "metadata": {},
   "source": [
    "### Feature: Embarked\n",
    "#### Relavance of the feature:"
   ]
  },
  {
   "cell_type": "code",
   "execution_count": 165,
   "id": "cfec11c1",
   "metadata": {},
   "outputs": [
    {
     "data": {
      "text/plain": [
       "Embarked\n",
       "C    0.553571\n",
       "Q    0.389610\n",
       "S    0.336957\n",
       "Name: Survived, dtype: float64"
      ]
     },
     "execution_count": 165,
     "metadata": {},
     "output_type": "execute_result"
    }
   ],
   "source": [
    "train.groupby([\"Embarked\"])[\"Survived\"].mean()"
   ]
  },
  {
   "cell_type": "code",
   "execution_count": 166,
   "id": "ba417de8",
   "metadata": {},
   "outputs": [
    {
     "data": {
      "text/plain": [
       "2"
      ]
     },
     "execution_count": 166,
     "metadata": {},
     "output_type": "execute_result"
    }
   ],
   "source": [
    "train.Embarked.isnull().sum()"
   ]
  },
  {
   "cell_type": "code",
   "execution_count": 167,
   "id": "37603cd8",
   "metadata": {},
   "outputs": [
    {
     "data": {
      "text/plain": [
       "count     889\n",
       "unique      3\n",
       "top         S\n",
       "freq      644\n",
       "Name: Embarked, dtype: object"
      ]
     },
     "execution_count": 167,
     "metadata": {},
     "output_type": "execute_result"
    }
   ],
   "source": [
    "train.Embarked.describe()"
   ]
  },
  {
   "cell_type": "code",
   "execution_count": 168,
   "id": "22ca0b3e",
   "metadata": {},
   "outputs": [],
   "source": [
    " train['Embarked']= train['Embarked'].astype(\"object\")"
   ]
  },
  {
   "cell_type": "markdown",
   "id": "05f9b1c7",
   "metadata": {},
   "source": [
    "## Create new data frame"
   ]
  },
  {
   "cell_type": "code",
   "execution_count": 169,
   "id": "561c731e",
   "metadata": {},
   "outputs": [],
   "source": [
    "df=pd.DataFrame()"
   ]
  },
  {
   "cell_type": "code",
   "execution_count": 171,
   "id": "6094c4e4",
   "metadata": {},
   "outputs": [],
   "source": [
    "df[\"Survived\"] = train[\"Survived\"]\n",
    "df[\"Pclass\"] = train[\"Pclass\"]\n",
    "df[\"Title\"] = train[\"Title\"]\n",
    "df[\"Sex\"] = train[\"Sex\"]"
   ]
  },
  {
   "cell_type": "code",
   "execution_count": 172,
   "id": "38dc7c3d",
   "metadata": {},
   "outputs": [],
   "source": [
    "df['Age'] = pd.cut(train[\"Age\"],[0,18,30,50,80])\n",
    "df['Family_Size'] = train['Family_Size']\n",
    "df[\"Ticket_type\"] = train[\"Ticket_type\"]"
   ]
  },
  {
   "cell_type": "code",
   "execution_count": 173,
   "id": "f1c15f72",
   "metadata": {},
   "outputs": [],
   "source": [
    "# For df\n",
    "bin_cut = pd.cut(train[\"Fare\"], bins=10)\n",
    "f_interval = bin_cut.cat.categories[0]\n",
    "new_interval = pd.Interval(0,f_interval.right)\n",
    "bin_cut = bin_cut.cat.rename_categories({f_interval:new_interval})\n",
    "\n",
    "df[\"Fare\"] = bin_cut"
   ]
  },
  {
   "cell_type": "code",
   "execution_count": 176,
   "id": "5da1e11c",
   "metadata": {},
   "outputs": [],
   "source": [
    "df['Embarked'] = train['Embarked']"
   ]
  },
  {
   "cell_type": "code",
   "execution_count": 177,
   "id": "134c8427",
   "metadata": {},
   "outputs": [
    {
     "data": {
      "text/html": [
       "<div>\n",
       "<style scoped>\n",
       "    .dataframe tbody tr th:only-of-type {\n",
       "        vertical-align: middle;\n",
       "    }\n",
       "\n",
       "    .dataframe tbody tr th {\n",
       "        vertical-align: top;\n",
       "    }\n",
       "\n",
       "    .dataframe thead th {\n",
       "        text-align: right;\n",
       "    }\n",
       "</style>\n",
       "<table border=\"1\" class=\"dataframe\">\n",
       "  <thead>\n",
       "    <tr style=\"text-align: right;\">\n",
       "      <th></th>\n",
       "      <th>Survived</th>\n",
       "      <th>Pclass</th>\n",
       "      <th>Title</th>\n",
       "      <th>Sex</th>\n",
       "      <th>Age</th>\n",
       "      <th>Family_Size</th>\n",
       "      <th>Ticket_type</th>\n",
       "      <th>Fare</th>\n",
       "      <th>Embarked</th>\n",
       "    </tr>\n",
       "  </thead>\n",
       "  <tbody>\n",
       "    <tr>\n",
       "      <th>0</th>\n",
       "      <td>0</td>\n",
       "      <td>3</td>\n",
       "      <td>Mr</td>\n",
       "      <td>1</td>\n",
       "      <td>(18, 30]</td>\n",
       "      <td>Small</td>\n",
       "      <td>A/5</td>\n",
       "      <td>(0.0, 51.233]</td>\n",
       "      <td>S</td>\n",
       "    </tr>\n",
       "    <tr>\n",
       "      <th>1</th>\n",
       "      <td>1</td>\n",
       "      <td>1</td>\n",
       "      <td>Mrs</td>\n",
       "      <td>0</td>\n",
       "      <td>(30, 50]</td>\n",
       "      <td>Small</td>\n",
       "      <td>PC</td>\n",
       "      <td>(51.233, 102.466]</td>\n",
       "      <td>C</td>\n",
       "    </tr>\n",
       "    <tr>\n",
       "      <th>2</th>\n",
       "      <td>1</td>\n",
       "      <td>3</td>\n",
       "      <td>Miss</td>\n",
       "      <td>0</td>\n",
       "      <td>(18, 30]</td>\n",
       "      <td>Alone</td>\n",
       "      <td>STON/O2</td>\n",
       "      <td>(0.0, 51.233]</td>\n",
       "      <td>S</td>\n",
       "    </tr>\n",
       "    <tr>\n",
       "      <th>3</th>\n",
       "      <td>1</td>\n",
       "      <td>1</td>\n",
       "      <td>Mrs</td>\n",
       "      <td>0</td>\n",
       "      <td>(30, 50]</td>\n",
       "      <td>Small</td>\n",
       "      <td>6_Digit_Number</td>\n",
       "      <td>(51.233, 102.466]</td>\n",
       "      <td>S</td>\n",
       "    </tr>\n",
       "    <tr>\n",
       "      <th>4</th>\n",
       "      <td>0</td>\n",
       "      <td>3</td>\n",
       "      <td>Mr</td>\n",
       "      <td>1</td>\n",
       "      <td>(30, 50]</td>\n",
       "      <td>Alone</td>\n",
       "      <td>6_Digit_Number</td>\n",
       "      <td>(0.0, 51.233]</td>\n",
       "      <td>S</td>\n",
       "    </tr>\n",
       "  </tbody>\n",
       "</table>\n",
       "</div>"
      ],
      "text/plain": [
       "   Survived Pclass Title Sex       Age Family_Size     Ticket_type  \\\n",
       "0         0      3    Mr   1  (18, 30]       Small             A/5   \n",
       "1         1      1   Mrs   0  (30, 50]       Small              PC   \n",
       "2         1      3  Miss   0  (18, 30]       Alone         STON/O2   \n",
       "3         1      1   Mrs   0  (30, 50]       Small  6_Digit_Number   \n",
       "4         0      3    Mr   1  (30, 50]       Alone  6_Digit_Number   \n",
       "\n",
       "                Fare Embarked  \n",
       "0      (0.0, 51.233]        S  \n",
       "1  (51.233, 102.466]        C  \n",
       "2      (0.0, 51.233]        S  \n",
       "3  (51.233, 102.466]        S  \n",
       "4      (0.0, 51.233]        S  "
      ]
     },
     "execution_count": 177,
     "metadata": {},
     "output_type": "execute_result"
    }
   ],
   "source": [
    "df.head()"
   ]
  },
  {
   "cell_type": "code",
   "execution_count": 178,
   "id": "e134612f",
   "metadata": {},
   "outputs": [
    {
     "name": "stdout",
     "output_type": "stream",
     "text": [
      "<class 'pandas.core.frame.DataFrame'>\n",
      "RangeIndex: 891 entries, 0 to 890\n",
      "Data columns (total 9 columns):\n",
      " #   Column       Non-Null Count  Dtype   \n",
      "---  ------       --------------  -----   \n",
      " 0   Survived     891 non-null    int64   \n",
      " 1   Pclass       891 non-null    object  \n",
      " 2   Title        891 non-null    object  \n",
      " 3   Sex          891 non-null    object  \n",
      " 4   Age          891 non-null    category\n",
      " 5   Family_Size  891 non-null    object  \n",
      " 6   Ticket_type  891 non-null    object  \n",
      " 7   Fare         891 non-null    category\n",
      " 8   Embarked     889 non-null    object  \n",
      "dtypes: category(2), int64(1), object(6)\n",
      "memory usage: 51.3+ KB\n"
     ]
    }
   ],
   "source": [
    "df.info()"
   ]
  },
  {
   "cell_type": "markdown",
   "id": "47ba1fba",
   "metadata": {},
   "source": [
    "## Feature Encoding\n",
    "\n",
    "### For df (One hot encoding)"
   ]
  },
  {
   "cell_type": "code",
   "execution_count": 180,
   "id": "96017ced",
   "metadata": {},
   "outputs": [
    {
     "name": "stderr",
     "output_type": "stream",
     "text": [
      "C:\\Users\\ayamo\\AppData\\Local\\Temp\\ipykernel_2684\\1814498658.py:1: FutureWarning: In a future version, the Index constructor will not infer numeric dtypes when passed object-dtype sequences (matching Series behavior)\n",
      "  df_enc = pd.get_dummies(df, columns = [\"Pclass\",\"Title\",\"Sex\",\"Age\",\"Family_Size\",\"Ticket_type\",\"Fare\",\"Embarked\"])\n"
     ]
    },
    {
     "data": {
      "text/html": [
       "<div>\n",
       "<style scoped>\n",
       "    .dataframe tbody tr th:only-of-type {\n",
       "        vertical-align: middle;\n",
       "    }\n",
       "\n",
       "    .dataframe tbody tr th {\n",
       "        vertical-align: top;\n",
       "    }\n",
       "\n",
       "    .dataframe thead th {\n",
       "        text-align: right;\n",
       "    }\n",
       "</style>\n",
       "<table border=\"1\" class=\"dataframe\">\n",
       "  <thead>\n",
       "    <tr style=\"text-align: right;\">\n",
       "      <th></th>\n",
       "      <th>Survived</th>\n",
       "      <th>Pclass_1</th>\n",
       "      <th>Pclass_2</th>\n",
       "      <th>Pclass_3</th>\n",
       "      <th>Title_</th>\n",
       "      <th>Title_Dr</th>\n",
       "      <th>Title_Master</th>\n",
       "      <th>Title_Miss</th>\n",
       "      <th>Title_Mr</th>\n",
       "      <th>Title_Mrs</th>\n",
       "      <th>...</th>\n",
       "      <th>Fare_(153.699, 204.932]</th>\n",
       "      <th>Fare_(204.932, 256.165]</th>\n",
       "      <th>Fare_(256.165, 307.398]</th>\n",
       "      <th>Fare_(307.398, 358.63]</th>\n",
       "      <th>Fare_(358.63, 409.863]</th>\n",
       "      <th>Fare_(409.863, 461.096]</th>\n",
       "      <th>Fare_(461.096, 512.329]</th>\n",
       "      <th>Embarked_C</th>\n",
       "      <th>Embarked_Q</th>\n",
       "      <th>Embarked_S</th>\n",
       "    </tr>\n",
       "  </thead>\n",
       "  <tbody>\n",
       "    <tr>\n",
       "      <th>0</th>\n",
       "      <td>0</td>\n",
       "      <td>0</td>\n",
       "      <td>0</td>\n",
       "      <td>1</td>\n",
       "      <td>0</td>\n",
       "      <td>0</td>\n",
       "      <td>0</td>\n",
       "      <td>0</td>\n",
       "      <td>1</td>\n",
       "      <td>0</td>\n",
       "      <td>...</td>\n",
       "      <td>0</td>\n",
       "      <td>0</td>\n",
       "      <td>0</td>\n",
       "      <td>0</td>\n",
       "      <td>0</td>\n",
       "      <td>0</td>\n",
       "      <td>0</td>\n",
       "      <td>0</td>\n",
       "      <td>0</td>\n",
       "      <td>1</td>\n",
       "    </tr>\n",
       "    <tr>\n",
       "      <th>1</th>\n",
       "      <td>1</td>\n",
       "      <td>1</td>\n",
       "      <td>0</td>\n",
       "      <td>0</td>\n",
       "      <td>0</td>\n",
       "      <td>0</td>\n",
       "      <td>0</td>\n",
       "      <td>0</td>\n",
       "      <td>0</td>\n",
       "      <td>1</td>\n",
       "      <td>...</td>\n",
       "      <td>0</td>\n",
       "      <td>0</td>\n",
       "      <td>0</td>\n",
       "      <td>0</td>\n",
       "      <td>0</td>\n",
       "      <td>0</td>\n",
       "      <td>0</td>\n",
       "      <td>1</td>\n",
       "      <td>0</td>\n",
       "      <td>0</td>\n",
       "    </tr>\n",
       "    <tr>\n",
       "      <th>2</th>\n",
       "      <td>1</td>\n",
       "      <td>0</td>\n",
       "      <td>0</td>\n",
       "      <td>1</td>\n",
       "      <td>0</td>\n",
       "      <td>0</td>\n",
       "      <td>0</td>\n",
       "      <td>1</td>\n",
       "      <td>0</td>\n",
       "      <td>0</td>\n",
       "      <td>...</td>\n",
       "      <td>0</td>\n",
       "      <td>0</td>\n",
       "      <td>0</td>\n",
       "      <td>0</td>\n",
       "      <td>0</td>\n",
       "      <td>0</td>\n",
       "      <td>0</td>\n",
       "      <td>0</td>\n",
       "      <td>0</td>\n",
       "      <td>1</td>\n",
       "    </tr>\n",
       "    <tr>\n",
       "      <th>3</th>\n",
       "      <td>1</td>\n",
       "      <td>1</td>\n",
       "      <td>0</td>\n",
       "      <td>0</td>\n",
       "      <td>0</td>\n",
       "      <td>0</td>\n",
       "      <td>0</td>\n",
       "      <td>0</td>\n",
       "      <td>0</td>\n",
       "      <td>1</td>\n",
       "      <td>...</td>\n",
       "      <td>0</td>\n",
       "      <td>0</td>\n",
       "      <td>0</td>\n",
       "      <td>0</td>\n",
       "      <td>0</td>\n",
       "      <td>0</td>\n",
       "      <td>0</td>\n",
       "      <td>0</td>\n",
       "      <td>0</td>\n",
       "      <td>1</td>\n",
       "    </tr>\n",
       "    <tr>\n",
       "      <th>4</th>\n",
       "      <td>0</td>\n",
       "      <td>0</td>\n",
       "      <td>0</td>\n",
       "      <td>1</td>\n",
       "      <td>0</td>\n",
       "      <td>0</td>\n",
       "      <td>0</td>\n",
       "      <td>0</td>\n",
       "      <td>1</td>\n",
       "      <td>0</td>\n",
       "      <td>...</td>\n",
       "      <td>0</td>\n",
       "      <td>0</td>\n",
       "      <td>0</td>\n",
       "      <td>0</td>\n",
       "      <td>0</td>\n",
       "      <td>0</td>\n",
       "      <td>0</td>\n",
       "      <td>0</td>\n",
       "      <td>0</td>\n",
       "      <td>1</td>\n",
       "    </tr>\n",
       "  </tbody>\n",
       "</table>\n",
       "<p>5 rows × 68 columns</p>\n",
       "</div>"
      ],
      "text/plain": [
       "   Survived  Pclass_1  Pclass_2  Pclass_3  Title_  Title_Dr  Title_Master  \\\n",
       "0         0         0         0         1       0         0             0   \n",
       "1         1         1         0         0       0         0             0   \n",
       "2         1         0         0         1       0         0             0   \n",
       "3         1         1         0         0       0         0             0   \n",
       "4         0         0         0         1       0         0             0   \n",
       "\n",
       "   Title_Miss  Title_Mr  Title_Mrs  ...  Fare_(153.699, 204.932]  \\\n",
       "0           0         1          0  ...                        0   \n",
       "1           0         0          1  ...                        0   \n",
       "2           1         0          0  ...                        0   \n",
       "3           0         0          1  ...                        0   \n",
       "4           0         1          0  ...                        0   \n",
       "\n",
       "   Fare_(204.932, 256.165]  Fare_(256.165, 307.398]  Fare_(307.398, 358.63]  \\\n",
       "0                        0                        0                       0   \n",
       "1                        0                        0                       0   \n",
       "2                        0                        0                       0   \n",
       "3                        0                        0                       0   \n",
       "4                        0                        0                       0   \n",
       "\n",
       "   Fare_(358.63, 409.863]  Fare_(409.863, 461.096]  Fare_(461.096, 512.329]  \\\n",
       "0                       0                        0                        0   \n",
       "1                       0                        0                        0   \n",
       "2                       0                        0                        0   \n",
       "3                       0                        0                        0   \n",
       "4                       0                        0                        0   \n",
       "\n",
       "   Embarked_C  Embarked_Q  Embarked_S  \n",
       "0           0           0           1  \n",
       "1           1           0           0  \n",
       "2           0           0           1  \n",
       "3           0           0           1  \n",
       "4           0           0           1  \n",
       "\n",
       "[5 rows x 68 columns]"
      ]
     },
     "execution_count": 180,
     "metadata": {},
     "output_type": "execute_result"
    }
   ],
   "source": [
    "df_enc = pd.get_dummies(df, columns = [\"Pclass\",\"Title\",\"Sex\",\"Age\",\"Family_Size\",\"Ticket_type\",\"Fare\",\"Embarked\"])\n",
    "df_enc.head()"
   ]
  },
  {
   "cell_type": "markdown",
   "id": "da73a2fd",
   "metadata": {},
   "source": [
    "## Machine Learning Model - Decision Trees\n",
    "### Let's seperate the data"
   ]
  },
  {
   "cell_type": "code",
   "execution_count": 181,
   "id": "41902fcb",
   "metadata": {},
   "outputs": [],
   "source": [
    "# Select the dataframe\n",
    "selected_df = df_enc"
   ]
  },
  {
   "cell_type": "code",
   "execution_count": 182,
   "id": "4d4c58ef",
   "metadata": {},
   "outputs": [],
   "source": [
    "# Splitting the dataframe into data and output label\n",
    "X = selected_df.drop(\"Survived\", axis = 1) # data\n",
    "y = selected_df[\"Survived\"] # output target"
   ]
  },
  {
   "cell_type": "code",
   "execution_count": 183,
   "id": "46482bee",
   "metadata": {},
   "outputs": [
    {
     "data": {
      "text/html": [
       "<style>#sk-container-id-1 {color: black;background-color: white;}#sk-container-id-1 pre{padding: 0;}#sk-container-id-1 div.sk-toggleable {background-color: white;}#sk-container-id-1 label.sk-toggleable__label {cursor: pointer;display: block;width: 100%;margin-bottom: 0;padding: 0.3em;box-sizing: border-box;text-align: center;}#sk-container-id-1 label.sk-toggleable__label-arrow:before {content: \"▸\";float: left;margin-right: 0.25em;color: #696969;}#sk-container-id-1 label.sk-toggleable__label-arrow:hover:before {color: black;}#sk-container-id-1 div.sk-estimator:hover label.sk-toggleable__label-arrow:before {color: black;}#sk-container-id-1 div.sk-toggleable__content {max-height: 0;max-width: 0;overflow: hidden;text-align: left;background-color: #f0f8ff;}#sk-container-id-1 div.sk-toggleable__content pre {margin: 0.2em;color: black;border-radius: 0.25em;background-color: #f0f8ff;}#sk-container-id-1 input.sk-toggleable__control:checked~div.sk-toggleable__content {max-height: 200px;max-width: 100%;overflow: auto;}#sk-container-id-1 input.sk-toggleable__control:checked~label.sk-toggleable__label-arrow:before {content: \"▾\";}#sk-container-id-1 div.sk-estimator input.sk-toggleable__control:checked~label.sk-toggleable__label {background-color: #d4ebff;}#sk-container-id-1 div.sk-label input.sk-toggleable__control:checked~label.sk-toggleable__label {background-color: #d4ebff;}#sk-container-id-1 input.sk-hidden--visually {border: 0;clip: rect(1px 1px 1px 1px);clip: rect(1px, 1px, 1px, 1px);height: 1px;margin: -1px;overflow: hidden;padding: 0;position: absolute;width: 1px;}#sk-container-id-1 div.sk-estimator {font-family: monospace;background-color: #f0f8ff;border: 1px dotted black;border-radius: 0.25em;box-sizing: border-box;margin-bottom: 0.5em;}#sk-container-id-1 div.sk-estimator:hover {background-color: #d4ebff;}#sk-container-id-1 div.sk-parallel-item::after {content: \"\";width: 100%;border-bottom: 1px solid gray;flex-grow: 1;}#sk-container-id-1 div.sk-label:hover label.sk-toggleable__label {background-color: #d4ebff;}#sk-container-id-1 div.sk-serial::before {content: \"\";position: absolute;border-left: 1px solid gray;box-sizing: border-box;top: 0;bottom: 0;left: 50%;z-index: 0;}#sk-container-id-1 div.sk-serial {display: flex;flex-direction: column;align-items: center;background-color: white;padding-right: 0.2em;padding-left: 0.2em;position: relative;}#sk-container-id-1 div.sk-item {position: relative;z-index: 1;}#sk-container-id-1 div.sk-parallel {display: flex;align-items: stretch;justify-content: center;background-color: white;position: relative;}#sk-container-id-1 div.sk-item::before, #sk-container-id-1 div.sk-parallel-item::before {content: \"\";position: absolute;border-left: 1px solid gray;box-sizing: border-box;top: 0;bottom: 0;left: 50%;z-index: -1;}#sk-container-id-1 div.sk-parallel-item {display: flex;flex-direction: column;z-index: 1;position: relative;background-color: white;}#sk-container-id-1 div.sk-parallel-item:first-child::after {align-self: flex-end;width: 50%;}#sk-container-id-1 div.sk-parallel-item:last-child::after {align-self: flex-start;width: 50%;}#sk-container-id-1 div.sk-parallel-item:only-child::after {width: 0;}#sk-container-id-1 div.sk-dashed-wrapped {border: 1px dashed gray;margin: 0 0.4em 0.5em 0.4em;box-sizing: border-box;padding-bottom: 0.4em;background-color: white;}#sk-container-id-1 div.sk-label label {font-family: monospace;font-weight: bold;display: inline-block;line-height: 1.2em;}#sk-container-id-1 div.sk-label-container {text-align: center;}#sk-container-id-1 div.sk-container {/* jupyter's `normalize.less` sets `[hidden] { display: none; }` but bootstrap.min.css set `[hidden] { display: none !important; }` so we also need the `!important` here to be able to override the default hidden behavior on the sphinx rendered scikit-learn.org. See: https://github.com/scikit-learn/scikit-learn/issues/21755 */display: inline-block !important;position: relative;}#sk-container-id-1 div.sk-text-repr-fallback {display: none;}</style><div id=\"sk-container-id-1\" class=\"sk-top-container\"><div class=\"sk-text-repr-fallback\"><pre>DecisionTreeClassifier()</pre><b>In a Jupyter environment, please rerun this cell to show the HTML representation or trust the notebook. <br />On GitHub, the HTML representation is unable to render, please try loading this page with nbviewer.org.</b></div><div class=\"sk-container\" hidden><div class=\"sk-item\"><div class=\"sk-estimator sk-toggleable\"><input class=\"sk-toggleable__control sk-hidden--visually\" id=\"sk-estimator-id-1\" type=\"checkbox\" checked><label for=\"sk-estimator-id-1\" class=\"sk-toggleable__label sk-toggleable__label-arrow\">DecisionTreeClassifier</label><div class=\"sk-toggleable__content\"><pre>DecisionTreeClassifier()</pre></div></div></div></div></div>"
      ],
      "text/plain": [
       "DecisionTreeClassifier()"
      ]
     },
     "execution_count": 183,
     "metadata": {},
     "output_type": "execute_result"
    }
   ],
   "source": [
    "X_train,X_test,y_train,y_test = train_test_split(X,y,test_size=0.2,random_state=2)\n",
    "classifier = DecisionTreeClassifier()\n",
    "classifier.fit(X_train,y_train)"
   ]
  },
  {
   "cell_type": "code",
   "execution_count": 184,
   "id": "e7a2adb1",
   "metadata": {},
   "outputs": [],
   "source": [
    "y_pred = classifier.predict(X_test)"
   ]
  },
  {
   "cell_type": "code",
   "execution_count": 185,
   "id": "eb24a787",
   "metadata": {},
   "outputs": [
    {
     "data": {
      "text/plain": [
       "0.776536312849162"
      ]
     },
     "execution_count": 185,
     "metadata": {},
     "output_type": "execute_result"
    }
   ],
   "source": [
    "from sklearn.metrics import accuracy_score\n",
    "accuracy_score(y_pred,y_test)"
   ]
  },
  {
   "cell_type": "markdown",
   "id": "27b343c1",
   "metadata": {},
   "source": [
    "### The model is able to predict the survival of passengers with 77% accuracy.\n",
    "\n",
    "Since this is a base model, there is a scope of improvement in the performance of the model using hyperparameter tuning.\n",
    "\n",
    "We will use GridSearchCV to tune the hyperparameters and try to achieve the best possible accuracy.\n",
    "\n",
    "### Hyperparameter Tuning\n",
    "For the hyperparameter tuning, we will consider following Decision Tree parameters:\n",
    "\n",
    "<ul>\n",
    "     <li>Crierion</li>\n",
    "     <li>Max Depth</li>\n",
    "     <li>Minimum Sample Split</li>\n",
    "\n",
    "</ul>"
   ]
  },
  {
   "cell_type": "code",
   "execution_count": 187,
   "id": "8d0e00a3",
   "metadata": {},
   "outputs": [
    {
     "data": {
      "text/html": [
       "<style>#sk-container-id-2 {color: black;background-color: white;}#sk-container-id-2 pre{padding: 0;}#sk-container-id-2 div.sk-toggleable {background-color: white;}#sk-container-id-2 label.sk-toggleable__label {cursor: pointer;display: block;width: 100%;margin-bottom: 0;padding: 0.3em;box-sizing: border-box;text-align: center;}#sk-container-id-2 label.sk-toggleable__label-arrow:before {content: \"▸\";float: left;margin-right: 0.25em;color: #696969;}#sk-container-id-2 label.sk-toggleable__label-arrow:hover:before {color: black;}#sk-container-id-2 div.sk-estimator:hover label.sk-toggleable__label-arrow:before {color: black;}#sk-container-id-2 div.sk-toggleable__content {max-height: 0;max-width: 0;overflow: hidden;text-align: left;background-color: #f0f8ff;}#sk-container-id-2 div.sk-toggleable__content pre {margin: 0.2em;color: black;border-radius: 0.25em;background-color: #f0f8ff;}#sk-container-id-2 input.sk-toggleable__control:checked~div.sk-toggleable__content {max-height: 200px;max-width: 100%;overflow: auto;}#sk-container-id-2 input.sk-toggleable__control:checked~label.sk-toggleable__label-arrow:before {content: \"▾\";}#sk-container-id-2 div.sk-estimator input.sk-toggleable__control:checked~label.sk-toggleable__label {background-color: #d4ebff;}#sk-container-id-2 div.sk-label input.sk-toggleable__control:checked~label.sk-toggleable__label {background-color: #d4ebff;}#sk-container-id-2 input.sk-hidden--visually {border: 0;clip: rect(1px 1px 1px 1px);clip: rect(1px, 1px, 1px, 1px);height: 1px;margin: -1px;overflow: hidden;padding: 0;position: absolute;width: 1px;}#sk-container-id-2 div.sk-estimator {font-family: monospace;background-color: #f0f8ff;border: 1px dotted black;border-radius: 0.25em;box-sizing: border-box;margin-bottom: 0.5em;}#sk-container-id-2 div.sk-estimator:hover {background-color: #d4ebff;}#sk-container-id-2 div.sk-parallel-item::after {content: \"\";width: 100%;border-bottom: 1px solid gray;flex-grow: 1;}#sk-container-id-2 div.sk-label:hover label.sk-toggleable__label {background-color: #d4ebff;}#sk-container-id-2 div.sk-serial::before {content: \"\";position: absolute;border-left: 1px solid gray;box-sizing: border-box;top: 0;bottom: 0;left: 50%;z-index: 0;}#sk-container-id-2 div.sk-serial {display: flex;flex-direction: column;align-items: center;background-color: white;padding-right: 0.2em;padding-left: 0.2em;position: relative;}#sk-container-id-2 div.sk-item {position: relative;z-index: 1;}#sk-container-id-2 div.sk-parallel {display: flex;align-items: stretch;justify-content: center;background-color: white;position: relative;}#sk-container-id-2 div.sk-item::before, #sk-container-id-2 div.sk-parallel-item::before {content: \"\";position: absolute;border-left: 1px solid gray;box-sizing: border-box;top: 0;bottom: 0;left: 50%;z-index: -1;}#sk-container-id-2 div.sk-parallel-item {display: flex;flex-direction: column;z-index: 1;position: relative;background-color: white;}#sk-container-id-2 div.sk-parallel-item:first-child::after {align-self: flex-end;width: 50%;}#sk-container-id-2 div.sk-parallel-item:last-child::after {align-self: flex-start;width: 50%;}#sk-container-id-2 div.sk-parallel-item:only-child::after {width: 0;}#sk-container-id-2 div.sk-dashed-wrapped {border: 1px dashed gray;margin: 0 0.4em 0.5em 0.4em;box-sizing: border-box;padding-bottom: 0.4em;background-color: white;}#sk-container-id-2 div.sk-label label {font-family: monospace;font-weight: bold;display: inline-block;line-height: 1.2em;}#sk-container-id-2 div.sk-label-container {text-align: center;}#sk-container-id-2 div.sk-container {/* jupyter's `normalize.less` sets `[hidden] { display: none; }` but bootstrap.min.css set `[hidden] { display: none !important; }` so we also need the `!important` here to be able to override the default hidden behavior on the sphinx rendered scikit-learn.org. See: https://github.com/scikit-learn/scikit-learn/issues/21755 */display: inline-block !important;position: relative;}#sk-container-id-2 div.sk-text-repr-fallback {display: none;}</style><div id=\"sk-container-id-2\" class=\"sk-top-container\"><div class=\"sk-text-repr-fallback\"><pre>GridSearchCV(cv=10, estimator=DecisionTreeClassifier(), n_jobs=-1,\n",
       "             param_grid={&#x27;criterion&#x27;: [&#x27;gini&#x27;, &#x27;entropy&#x27;],\n",
       "                         &#x27;max_depth&#x27;: [None, 5, 10, 15],\n",
       "                         &#x27;min_samples_split&#x27;: [2, 5, 10]})</pre><b>In a Jupyter environment, please rerun this cell to show the HTML representation or trust the notebook. <br />On GitHub, the HTML representation is unable to render, please try loading this page with nbviewer.org.</b></div><div class=\"sk-container\" hidden><div class=\"sk-item sk-dashed-wrapped\"><div class=\"sk-label-container\"><div class=\"sk-label sk-toggleable\"><input class=\"sk-toggleable__control sk-hidden--visually\" id=\"sk-estimator-id-2\" type=\"checkbox\" ><label for=\"sk-estimator-id-2\" class=\"sk-toggleable__label sk-toggleable__label-arrow\">GridSearchCV</label><div class=\"sk-toggleable__content\"><pre>GridSearchCV(cv=10, estimator=DecisionTreeClassifier(), n_jobs=-1,\n",
       "             param_grid={&#x27;criterion&#x27;: [&#x27;gini&#x27;, &#x27;entropy&#x27;],\n",
       "                         &#x27;max_depth&#x27;: [None, 5, 10, 15],\n",
       "                         &#x27;min_samples_split&#x27;: [2, 5, 10]})</pre></div></div></div><div class=\"sk-parallel\"><div class=\"sk-parallel-item\"><div class=\"sk-item\"><div class=\"sk-label-container\"><div class=\"sk-label sk-toggleable\"><input class=\"sk-toggleable__control sk-hidden--visually\" id=\"sk-estimator-id-3\" type=\"checkbox\" ><label for=\"sk-estimator-id-3\" class=\"sk-toggleable__label sk-toggleable__label-arrow\">estimator: DecisionTreeClassifier</label><div class=\"sk-toggleable__content\"><pre>DecisionTreeClassifier()</pre></div></div></div><div class=\"sk-serial\"><div class=\"sk-item\"><div class=\"sk-estimator sk-toggleable\"><input class=\"sk-toggleable__control sk-hidden--visually\" id=\"sk-estimator-id-4\" type=\"checkbox\" ><label for=\"sk-estimator-id-4\" class=\"sk-toggleable__label sk-toggleable__label-arrow\">DecisionTreeClassifier</label><div class=\"sk-toggleable__content\"><pre>DecisionTreeClassifier()</pre></div></div></div></div></div></div></div></div></div></div>"
      ],
      "text/plain": [
       "GridSearchCV(cv=10, estimator=DecisionTreeClassifier(), n_jobs=-1,\n",
       "             param_grid={'criterion': ['gini', 'entropy'],\n",
       "                         'max_depth': [None, 5, 10, 15],\n",
       "                         'min_samples_split': [2, 5, 10]})"
      ]
     },
     "execution_count": 187,
     "metadata": {},
     "output_type": "execute_result"
    }
   ],
   "source": [
    "param_dict = {\n",
    " \"criterion\":[\"gini\",\"entropy\"],\n",
    " \"max_depth\":[None,5,10,15],\n",
    " \"min_samples_split\":[2, 5, 10]\n",
    "}\n",
    "grid = GridSearchCV(classifier,param_grid=param_dict,cv=10,n_jobs=-1)\n",
    "grid.fit(X_train,y_train)"
   ]
  },
  {
   "cell_type": "code",
   "execution_count": 188,
   "id": "093293e0",
   "metadata": {},
   "outputs": [
    {
     "data": {
      "text/html": [
       "<style>#sk-container-id-3 {color: black;background-color: white;}#sk-container-id-3 pre{padding: 0;}#sk-container-id-3 div.sk-toggleable {background-color: white;}#sk-container-id-3 label.sk-toggleable__label {cursor: pointer;display: block;width: 100%;margin-bottom: 0;padding: 0.3em;box-sizing: border-box;text-align: center;}#sk-container-id-3 label.sk-toggleable__label-arrow:before {content: \"▸\";float: left;margin-right: 0.25em;color: #696969;}#sk-container-id-3 label.sk-toggleable__label-arrow:hover:before {color: black;}#sk-container-id-3 div.sk-estimator:hover label.sk-toggleable__label-arrow:before {color: black;}#sk-container-id-3 div.sk-toggleable__content {max-height: 0;max-width: 0;overflow: hidden;text-align: left;background-color: #f0f8ff;}#sk-container-id-3 div.sk-toggleable__content pre {margin: 0.2em;color: black;border-radius: 0.25em;background-color: #f0f8ff;}#sk-container-id-3 input.sk-toggleable__control:checked~div.sk-toggleable__content {max-height: 200px;max-width: 100%;overflow: auto;}#sk-container-id-3 input.sk-toggleable__control:checked~label.sk-toggleable__label-arrow:before {content: \"▾\";}#sk-container-id-3 div.sk-estimator input.sk-toggleable__control:checked~label.sk-toggleable__label {background-color: #d4ebff;}#sk-container-id-3 div.sk-label input.sk-toggleable__control:checked~label.sk-toggleable__label {background-color: #d4ebff;}#sk-container-id-3 input.sk-hidden--visually {border: 0;clip: rect(1px 1px 1px 1px);clip: rect(1px, 1px, 1px, 1px);height: 1px;margin: -1px;overflow: hidden;padding: 0;position: absolute;width: 1px;}#sk-container-id-3 div.sk-estimator {font-family: monospace;background-color: #f0f8ff;border: 1px dotted black;border-radius: 0.25em;box-sizing: border-box;margin-bottom: 0.5em;}#sk-container-id-3 div.sk-estimator:hover {background-color: #d4ebff;}#sk-container-id-3 div.sk-parallel-item::after {content: \"\";width: 100%;border-bottom: 1px solid gray;flex-grow: 1;}#sk-container-id-3 div.sk-label:hover label.sk-toggleable__label {background-color: #d4ebff;}#sk-container-id-3 div.sk-serial::before {content: \"\";position: absolute;border-left: 1px solid gray;box-sizing: border-box;top: 0;bottom: 0;left: 50%;z-index: 0;}#sk-container-id-3 div.sk-serial {display: flex;flex-direction: column;align-items: center;background-color: white;padding-right: 0.2em;padding-left: 0.2em;position: relative;}#sk-container-id-3 div.sk-item {position: relative;z-index: 1;}#sk-container-id-3 div.sk-parallel {display: flex;align-items: stretch;justify-content: center;background-color: white;position: relative;}#sk-container-id-3 div.sk-item::before, #sk-container-id-3 div.sk-parallel-item::before {content: \"\";position: absolute;border-left: 1px solid gray;box-sizing: border-box;top: 0;bottom: 0;left: 50%;z-index: -1;}#sk-container-id-3 div.sk-parallel-item {display: flex;flex-direction: column;z-index: 1;position: relative;background-color: white;}#sk-container-id-3 div.sk-parallel-item:first-child::after {align-self: flex-end;width: 50%;}#sk-container-id-3 div.sk-parallel-item:last-child::after {align-self: flex-start;width: 50%;}#sk-container-id-3 div.sk-parallel-item:only-child::after {width: 0;}#sk-container-id-3 div.sk-dashed-wrapped {border: 1px dashed gray;margin: 0 0.4em 0.5em 0.4em;box-sizing: border-box;padding-bottom: 0.4em;background-color: white;}#sk-container-id-3 div.sk-label label {font-family: monospace;font-weight: bold;display: inline-block;line-height: 1.2em;}#sk-container-id-3 div.sk-label-container {text-align: center;}#sk-container-id-3 div.sk-container {/* jupyter's `normalize.less` sets `[hidden] { display: none; }` but bootstrap.min.css set `[hidden] { display: none !important; }` so we also need the `!important` here to be able to override the default hidden behavior on the sphinx rendered scikit-learn.org. See: https://github.com/scikit-learn/scikit-learn/issues/21755 */display: inline-block !important;position: relative;}#sk-container-id-3 div.sk-text-repr-fallback {display: none;}</style><div id=\"sk-container-id-3\" class=\"sk-top-container\"><div class=\"sk-text-repr-fallback\"><pre>DecisionTreeClassifier(criterion=&#x27;entropy&#x27;, max_depth=5, min_samples_split=10)</pre><b>In a Jupyter environment, please rerun this cell to show the HTML representation or trust the notebook. <br />On GitHub, the HTML representation is unable to render, please try loading this page with nbviewer.org.</b></div><div class=\"sk-container\" hidden><div class=\"sk-item\"><div class=\"sk-estimator sk-toggleable\"><input class=\"sk-toggleable__control sk-hidden--visually\" id=\"sk-estimator-id-5\" type=\"checkbox\" checked><label for=\"sk-estimator-id-5\" class=\"sk-toggleable__label sk-toggleable__label-arrow\">DecisionTreeClassifier</label><div class=\"sk-toggleable__content\"><pre>DecisionTreeClassifier(criterion=&#x27;entropy&#x27;, max_depth=5, min_samples_split=10)</pre></div></div></div></div></div>"
      ],
      "text/plain": [
       "DecisionTreeClassifier(criterion='entropy', max_depth=5, min_samples_split=10)"
      ]
     },
     "execution_count": 188,
     "metadata": {},
     "output_type": "execute_result"
    }
   ],
   "source": [
    "grid.best_estimator_"
   ]
  },
  {
   "cell_type": "code",
   "execution_count": 189,
   "id": "e47f24a8",
   "metadata": {},
   "outputs": [
    {
     "data": {
      "text/plain": [
       "0.8454616588419406"
      ]
     },
     "execution_count": 189,
     "metadata": {},
     "output_type": "execute_result"
    }
   ],
   "source": [
    "grid.best_score_"
   ]
  },
  {
   "cell_type": "markdown",
   "id": "1cbf09b4",
   "metadata": {},
   "source": [
    "GridSearchCV suggests the following parameters:\n",
    "\n",
    "<ul>\n",
    "     <li>Criterion: Entropy</li>\n",
    "     <li>Max Depth:5</li>\n",
    "     <li>Minimum Sample Split:10</li>\n",
    "</ul>\n",
    "The accuracy promised when these hyperparameters are used is 84%."
   ]
  },
  {
   "cell_type": "code",
   "execution_count": null,
   "id": "43dbfe89",
   "metadata": {},
   "outputs": [],
   "source": []
  }
 ],
 "metadata": {
  "kernelspec": {
   "display_name": "Python 3 (ipykernel)",
   "language": "python",
   "name": "python3"
  },
  "language_info": {
   "codemirror_mode": {
    "name": "ipython",
    "version": 3
   },
   "file_extension": ".py",
   "mimetype": "text/x-python",
   "name": "python",
   "nbconvert_exporter": "python",
   "pygments_lexer": "ipython3",
   "version": "3.10.9"
  }
 },
 "nbformat": 4,
 "nbformat_minor": 5
}
